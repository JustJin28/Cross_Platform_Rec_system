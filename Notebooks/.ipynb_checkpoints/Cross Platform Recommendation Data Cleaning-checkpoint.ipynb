{
 "cells": [
  {
   "cell_type": "code",
   "execution_count": 1,
   "id": "d5758c84",
   "metadata": {},
   "outputs": [],
   "source": [
    "#Import \n",
    "import os\n",
    "import numpy as np\n",
    "import pandas as pd\n",
    "import jupyter_client\n",
    "from sklearn.model_selection import train_test_split"
   ]
  },
  {
   "cell_type": "code",
   "execution_count": 2,
   "id": "bc177853",
   "metadata": {},
   "outputs": [],
   "source": [
    "#Load the Books dataset\n",
    "Book_users = os.path.join(\"..\", \"Data\", \"Book Recommendation Raw Dataset\", \"Users.csv\")\n",
    "Book_ratings = os.path.join(\"..\", \"Data\", \"Book Recommendation Raw Dataset\", \"Ratings.csv\")\n",
    "Books = os.path.join(\"..\", \"Data\", \"Book Recommendation Raw Dataset\", \"Books.csv\")\n",
    "\n",
    "#Turn each dataset into a dataframe\n",
    "Book_users_df = pd.read_csv(Book_users, nrows=10000)\n",
    "Book_ratings_df = pd.read_csv(Book_ratings, nrows=10000)\n",
    "Books_df = pd.read_csv(Books, low_memory=False, nrows=10000)\n",
    "\n",
    "# Remove the 'Image-URL-S', 'Image-URL-M', and 'Image-URL-L' columns\n",
    "Books_df = Books_df.drop(['Image-URL-S', 'Image-URL-M', 'Image-URL-L'], axis=1)"
   ]
  },
  {
   "cell_type": "code",
   "execution_count": 3,
   "id": "f8abaff5",
   "metadata": {
    "scrolled": true
   },
   "outputs": [
    {
     "data": {
      "text/html": [
       "<div>\n",
       "<style scoped>\n",
       "    .dataframe tbody tr th:only-of-type {\n",
       "        vertical-align: middle;\n",
       "    }\n",
       "\n",
       "    .dataframe tbody tr th {\n",
       "        vertical-align: top;\n",
       "    }\n",
       "\n",
       "    .dataframe thead th {\n",
       "        text-align: right;\n",
       "    }\n",
       "</style>\n",
       "<table border=\"1\" class=\"dataframe\">\n",
       "  <thead>\n",
       "    <tr style=\"text-align: right;\">\n",
       "      <th></th>\n",
       "      <th>ISBN</th>\n",
       "      <th>Book-Title</th>\n",
       "      <th>Book-Author</th>\n",
       "      <th>Year-Of-Publication</th>\n",
       "      <th>Publisher</th>\n",
       "    </tr>\n",
       "  </thead>\n",
       "  <tbody>\n",
       "    <tr>\n",
       "      <th>0</th>\n",
       "      <td>0195153448</td>\n",
       "      <td>Classical Mythology</td>\n",
       "      <td>Mark P. O. Morford</td>\n",
       "      <td>2002</td>\n",
       "      <td>Oxford University Press</td>\n",
       "    </tr>\n",
       "    <tr>\n",
       "      <th>1</th>\n",
       "      <td>0002005018</td>\n",
       "      <td>Clara Callan</td>\n",
       "      <td>Richard Bruce Wright</td>\n",
       "      <td>2001</td>\n",
       "      <td>HarperFlamingo Canada</td>\n",
       "    </tr>\n",
       "    <tr>\n",
       "      <th>2</th>\n",
       "      <td>0060973129</td>\n",
       "      <td>Decision in Normandy</td>\n",
       "      <td>Carlo D'Este</td>\n",
       "      <td>1991</td>\n",
       "      <td>HarperPerennial</td>\n",
       "    </tr>\n",
       "    <tr>\n",
       "      <th>3</th>\n",
       "      <td>0374157065</td>\n",
       "      <td>Flu: The Story of the Great Influenza Pandemic...</td>\n",
       "      <td>Gina Bari Kolata</td>\n",
       "      <td>1999</td>\n",
       "      <td>Farrar Straus Giroux</td>\n",
       "    </tr>\n",
       "    <tr>\n",
       "      <th>4</th>\n",
       "      <td>0393045218</td>\n",
       "      <td>The Mummies of Urumchi</td>\n",
       "      <td>E. J. W. Barber</td>\n",
       "      <td>1999</td>\n",
       "      <td>W. W. Norton &amp;amp; Company</td>\n",
       "    </tr>\n",
       "  </tbody>\n",
       "</table>\n",
       "</div>"
      ],
      "text/plain": [
       "         ISBN                                         Book-Title  \\\n",
       "0  0195153448                                Classical Mythology   \n",
       "1  0002005018                                       Clara Callan   \n",
       "2  0060973129                               Decision in Normandy   \n",
       "3  0374157065  Flu: The Story of the Great Influenza Pandemic...   \n",
       "4  0393045218                             The Mummies of Urumchi   \n",
       "\n",
       "            Book-Author  Year-Of-Publication                   Publisher  \n",
       "0    Mark P. O. Morford                 2002     Oxford University Press  \n",
       "1  Richard Bruce Wright                 2001       HarperFlamingo Canada  \n",
       "2          Carlo D'Este                 1991             HarperPerennial  \n",
       "3      Gina Bari Kolata                 1999        Farrar Straus Giroux  \n",
       "4       E. J. W. Barber                 1999  W. W. Norton &amp; Company  "
      ]
     },
     "execution_count": 3,
     "metadata": {},
     "output_type": "execute_result"
    }
   ],
   "source": [
    "Books_df.head()"
   ]
  },
  {
   "cell_type": "code",
   "execution_count": 4,
   "id": "cebe0e74",
   "metadata": {},
   "outputs": [
    {
     "data": {
      "text/html": [
       "<div>\n",
       "<style scoped>\n",
       "    .dataframe tbody tr th:only-of-type {\n",
       "        vertical-align: middle;\n",
       "    }\n",
       "\n",
       "    .dataframe tbody tr th {\n",
       "        vertical-align: top;\n",
       "    }\n",
       "\n",
       "    .dataframe thead th {\n",
       "        text-align: right;\n",
       "    }\n",
       "</style>\n",
       "<table border=\"1\" class=\"dataframe\">\n",
       "  <thead>\n",
       "    <tr style=\"text-align: right;\">\n",
       "      <th></th>\n",
       "      <th>User-ID</th>\n",
       "      <th>ISBN</th>\n",
       "      <th>Book-Rating</th>\n",
       "    </tr>\n",
       "  </thead>\n",
       "  <tbody>\n",
       "    <tr>\n",
       "      <th>0</th>\n",
       "      <td>276725</td>\n",
       "      <td>034545104X</td>\n",
       "      <td>0</td>\n",
       "    </tr>\n",
       "    <tr>\n",
       "      <th>1</th>\n",
       "      <td>276726</td>\n",
       "      <td>0155061224</td>\n",
       "      <td>5</td>\n",
       "    </tr>\n",
       "    <tr>\n",
       "      <th>2</th>\n",
       "      <td>276727</td>\n",
       "      <td>0446520802</td>\n",
       "      <td>0</td>\n",
       "    </tr>\n",
       "    <tr>\n",
       "      <th>3</th>\n",
       "      <td>276729</td>\n",
       "      <td>052165615X</td>\n",
       "      <td>3</td>\n",
       "    </tr>\n",
       "    <tr>\n",
       "      <th>4</th>\n",
       "      <td>276729</td>\n",
       "      <td>0521795028</td>\n",
       "      <td>6</td>\n",
       "    </tr>\n",
       "  </tbody>\n",
       "</table>\n",
       "</div>"
      ],
      "text/plain": [
       "   User-ID        ISBN  Book-Rating\n",
       "0   276725  034545104X            0\n",
       "1   276726  0155061224            5\n",
       "2   276727  0446520802            0\n",
       "3   276729  052165615X            3\n",
       "4   276729  0521795028            6"
      ]
     },
     "execution_count": 4,
     "metadata": {},
     "output_type": "execute_result"
    }
   ],
   "source": [
    "Book_ratings_df.head()"
   ]
  },
  {
   "cell_type": "code",
   "execution_count": 5,
   "id": "d58f453d",
   "metadata": {},
   "outputs": [
    {
     "data": {
      "text/html": [
       "<div>\n",
       "<style scoped>\n",
       "    .dataframe tbody tr th:only-of-type {\n",
       "        vertical-align: middle;\n",
       "    }\n",
       "\n",
       "    .dataframe tbody tr th {\n",
       "        vertical-align: top;\n",
       "    }\n",
       "\n",
       "    .dataframe thead th {\n",
       "        text-align: right;\n",
       "    }\n",
       "</style>\n",
       "<table border=\"1\" class=\"dataframe\">\n",
       "  <thead>\n",
       "    <tr style=\"text-align: right;\">\n",
       "      <th></th>\n",
       "      <th>User-ID</th>\n",
       "      <th>Location</th>\n",
       "      <th>Age</th>\n",
       "    </tr>\n",
       "  </thead>\n",
       "  <tbody>\n",
       "    <tr>\n",
       "      <th>0</th>\n",
       "      <td>1</td>\n",
       "      <td>nyc, new york, usa</td>\n",
       "      <td>NaN</td>\n",
       "    </tr>\n",
       "    <tr>\n",
       "      <th>1</th>\n",
       "      <td>2</td>\n",
       "      <td>stockton, california, usa</td>\n",
       "      <td>18.0</td>\n",
       "    </tr>\n",
       "    <tr>\n",
       "      <th>2</th>\n",
       "      <td>3</td>\n",
       "      <td>moscow, yukon territory, russia</td>\n",
       "      <td>NaN</td>\n",
       "    </tr>\n",
       "    <tr>\n",
       "      <th>3</th>\n",
       "      <td>4</td>\n",
       "      <td>porto, v.n.gaia, portugal</td>\n",
       "      <td>17.0</td>\n",
       "    </tr>\n",
       "    <tr>\n",
       "      <th>4</th>\n",
       "      <td>5</td>\n",
       "      <td>farnborough, hants, united kingdom</td>\n",
       "      <td>NaN</td>\n",
       "    </tr>\n",
       "  </tbody>\n",
       "</table>\n",
       "</div>"
      ],
      "text/plain": [
       "   User-ID                            Location   Age\n",
       "0        1                  nyc, new york, usa   NaN\n",
       "1        2           stockton, california, usa  18.0\n",
       "2        3     moscow, yukon territory, russia   NaN\n",
       "3        4           porto, v.n.gaia, portugal  17.0\n",
       "4        5  farnborough, hants, united kingdom   NaN"
      ]
     },
     "execution_count": 5,
     "metadata": {},
     "output_type": "execute_result"
    }
   ],
   "source": [
    "Book_users_df.head()"
   ]
  },
  {
   "cell_type": "code",
   "execution_count": null,
   "id": "bd6e36ec",
   "metadata": {},
   "outputs": [],
   "source": []
  },
  {
   "cell_type": "code",
   "execution_count": null,
   "id": "6bdf729a",
   "metadata": {},
   "outputs": [],
   "source": []
  },
  {
   "cell_type": "code",
   "execution_count": null,
   "id": "ca0e7a3d",
   "metadata": {},
   "outputs": [],
   "source": []
  },
  {
   "cell_type": "code",
   "execution_count": 6,
   "id": "6d1268a3",
   "metadata": {},
   "outputs": [
    {
     "data": {
      "text/plain": [
       "User-ID        0\n",
       "Location       0\n",
       "Age         3727\n",
       "dtype: int64"
      ]
     },
     "execution_count": 6,
     "metadata": {},
     "output_type": "execute_result"
    }
   ],
   "source": [
    "#Start by cleaning the Users Dataframe\n",
    "Book_users_df.isnull().sum()"
   ]
  },
  {
   "cell_type": "code",
   "execution_count": 7,
   "id": "3eaf7adb",
   "metadata": {},
   "outputs": [],
   "source": [
    "#Since Age is the only column with missing values we can just remove those rows (This might cause issues later around merging)\n",
    "Book_users_df.dropna(inplace=True)"
   ]
  },
  {
   "cell_type": "code",
   "execution_count": null,
   "id": "b29dafa0",
   "metadata": {},
   "outputs": [],
   "source": []
  },
  {
   "cell_type": "code",
   "execution_count": null,
   "id": "adbc0815",
   "metadata": {},
   "outputs": [],
   "source": []
  },
  {
   "cell_type": "code",
   "execution_count": null,
   "id": "d2d228da",
   "metadata": {},
   "outputs": [],
   "source": []
  },
  {
   "cell_type": "code",
   "execution_count": 8,
   "id": "f3edfdb1",
   "metadata": {},
   "outputs": [
    {
     "data": {
      "text/plain": [
       "User-ID        0\n",
       "ISBN           0\n",
       "Book-Rating    0\n",
       "dtype: int64"
      ]
     },
     "execution_count": 8,
     "metadata": {},
     "output_type": "execute_result"
    }
   ],
   "source": [
    "#Now we deal with the missing values in the Book Ratings df\n",
    "Book_ratings_df.isnull().sum()"
   ]
  },
  {
   "cell_type": "code",
   "execution_count": 9,
   "id": "da5fa5d5",
   "metadata": {},
   "outputs": [],
   "source": [
    "#No missing values!!!!!"
   ]
  },
  {
   "cell_type": "code",
   "execution_count": null,
   "id": "6a5d81ee",
   "metadata": {},
   "outputs": [],
   "source": []
  },
  {
   "cell_type": "code",
   "execution_count": 10,
   "id": "6830ca2b",
   "metadata": {},
   "outputs": [
    {
     "data": {
      "text/plain": [
       "ISBN                   0\n",
       "Book-Title             0\n",
       "Book-Author            0\n",
       "Year-Of-Publication    0\n",
       "Publisher              0\n",
       "dtype: int64"
      ]
     },
     "execution_count": 10,
     "metadata": {},
     "output_type": "execute_result"
    }
   ],
   "source": [
    "#Now we deal with the books df itself\n",
    "Books_df.isnull().sum()"
   ]
  },
  {
   "cell_type": "code",
   "execution_count": 11,
   "id": "3ca257a5",
   "metadata": {},
   "outputs": [],
   "source": [
    "#Since there are only two missing values we are going to replace them with unknown \n",
    "#Note here that I think a better option would be to find the missing entires and then look them up online to have all of the correct information\n",
    "Books_df['Book-Author'].fillna('Unknown', inplace=True)\n",
    "Books_df['Publisher'].fillna('Unknown', inplace=True)"
   ]
  },
  {
   "cell_type": "code",
   "execution_count": null,
   "id": "d05dae58",
   "metadata": {},
   "outputs": [],
   "source": []
  },
  {
   "cell_type": "code",
   "execution_count": null,
   "id": "daf21674",
   "metadata": {},
   "outputs": [],
   "source": []
  },
  {
   "cell_type": "code",
   "execution_count": 12,
   "id": "f3cb0c2d",
   "metadata": {},
   "outputs": [
    {
     "data": {
      "text/plain": [
       "ISBN                   object\n",
       "Book-Title             object\n",
       "Book-Author            object\n",
       "Year-Of-Publication     int64\n",
       "Publisher              object\n",
       "dtype: object"
      ]
     },
     "execution_count": 12,
     "metadata": {},
     "output_type": "execute_result"
    }
   ],
   "source": [
    "Books_df.dtypes"
   ]
  },
  {
   "cell_type": "code",
   "execution_count": 13,
   "id": "d3a1da84",
   "metadata": {},
   "outputs": [
    {
     "data": {
      "text/plain": [
       "User-ID         int64\n",
       "ISBN           object\n",
       "Book-Rating     int64\n",
       "dtype: object"
      ]
     },
     "execution_count": 13,
     "metadata": {},
     "output_type": "execute_result"
    }
   ],
   "source": [
    "Book_ratings_df.dtypes"
   ]
  },
  {
   "cell_type": "code",
   "execution_count": 14,
   "id": "8e2c3786",
   "metadata": {},
   "outputs": [
    {
     "data": {
      "text/plain": [
       "User-ID       int64\n",
       "Location     object\n",
       "Age         float64\n",
       "dtype: object"
      ]
     },
     "execution_count": 14,
     "metadata": {},
     "output_type": "execute_result"
    }
   ],
   "source": [
    "Book_users_df.dtypes"
   ]
  },
  {
   "cell_type": "code",
   "execution_count": null,
   "id": "0e435ad1",
   "metadata": {},
   "outputs": [],
   "source": []
  },
  {
   "cell_type": "code",
   "execution_count": 15,
   "id": "e2716e08",
   "metadata": {},
   "outputs": [
    {
     "data": {
      "text/plain": [
       "count    10000.000000\n",
       "mean         1.974700\n",
       "std          3.424884\n",
       "min          0.000000\n",
       "25%          0.000000\n",
       "50%          0.000000\n",
       "75%          4.000000\n",
       "max         10.000000\n",
       "Name: Book-Rating, dtype: float64"
      ]
     },
     "execution_count": 15,
     "metadata": {},
     "output_type": "execute_result"
    }
   ],
   "source": [
    "Book_ratings_df['Book-Rating'].describe()"
   ]
  },
  {
   "cell_type": "code",
   "execution_count": null,
   "id": "21119b86",
   "metadata": {},
   "outputs": [],
   "source": []
  },
  {
   "cell_type": "code",
   "execution_count": 16,
   "id": "ea5cc0b8",
   "metadata": {},
   "outputs": [],
   "source": [
    "#Now we begin to merge the Books Data into one dataframe\n",
    "# Merge Book_ratings_df with Books_df based on the 'ISBN' column\n",
    "Books_merged_df = pd.merge(Book_ratings_df, Books_df, on='ISBN', how='inner')"
   ]
  },
  {
   "cell_type": "code",
   "execution_count": 17,
   "id": "c462a6a7",
   "metadata": {},
   "outputs": [
    {
     "data": {
      "text/html": [
       "<div>\n",
       "<style scoped>\n",
       "    .dataframe tbody tr th:only-of-type {\n",
       "        vertical-align: middle;\n",
       "    }\n",
       "\n",
       "    .dataframe tbody tr th {\n",
       "        vertical-align: top;\n",
       "    }\n",
       "\n",
       "    .dataframe thead th {\n",
       "        text-align: right;\n",
       "    }\n",
       "</style>\n",
       "<table border=\"1\" class=\"dataframe\">\n",
       "  <thead>\n",
       "    <tr style=\"text-align: right;\">\n",
       "      <th></th>\n",
       "      <th>User-ID</th>\n",
       "      <th>ISBN</th>\n",
       "      <th>Book-Rating</th>\n",
       "      <th>Book-Title</th>\n",
       "      <th>Book-Author</th>\n",
       "      <th>Year-Of-Publication</th>\n",
       "      <th>Publisher</th>\n",
       "      <th>Location</th>\n",
       "      <th>Age</th>\n",
       "    </tr>\n",
       "  </thead>\n",
       "  <tbody>\n",
       "    <tr>\n",
       "      <th>0</th>\n",
       "      <td>99</td>\n",
       "      <td>0451166892</td>\n",
       "      <td>3</td>\n",
       "      <td>The Pillars of the Earth</td>\n",
       "      <td>Ken Follett</td>\n",
       "      <td>1996</td>\n",
       "      <td>Signet Book</td>\n",
       "      <td>franktown, colorado, usa</td>\n",
       "      <td>42.0</td>\n",
       "    </tr>\n",
       "    <tr>\n",
       "      <th>1</th>\n",
       "      <td>99</td>\n",
       "      <td>0786868716</td>\n",
       "      <td>0</td>\n",
       "      <td>The Five People You Meet in Heaven</td>\n",
       "      <td>Mitch Albom</td>\n",
       "      <td>2003</td>\n",
       "      <td>Hyperion</td>\n",
       "      <td>franktown, colorado, usa</td>\n",
       "      <td>42.0</td>\n",
       "    </tr>\n",
       "    <tr>\n",
       "      <th>2</th>\n",
       "      <td>99</td>\n",
       "      <td>067976397X</td>\n",
       "      <td>0</td>\n",
       "      <td>Corelli's Mandolin : A Novel</td>\n",
       "      <td>LOUIS DE BERNIERES</td>\n",
       "      <td>1995</td>\n",
       "      <td>Vintage</td>\n",
       "      <td>franktown, colorado, usa</td>\n",
       "      <td>42.0</td>\n",
       "    </tr>\n",
       "    <tr>\n",
       "      <th>3</th>\n",
       "      <td>99</td>\n",
       "      <td>0312252617</td>\n",
       "      <td>8</td>\n",
       "      <td>Fast Women</td>\n",
       "      <td>Jennifer Crusie</td>\n",
       "      <td>2001</td>\n",
       "      <td>St. Martin's Press</td>\n",
       "      <td>franktown, colorado, usa</td>\n",
       "      <td>42.0</td>\n",
       "    </tr>\n",
       "    <tr>\n",
       "      <th>4</th>\n",
       "      <td>99</td>\n",
       "      <td>0312261594</td>\n",
       "      <td>8</td>\n",
       "      <td>Female Intelligence</td>\n",
       "      <td>Jane Heller</td>\n",
       "      <td>2001</td>\n",
       "      <td>St. Martin's Press</td>\n",
       "      <td>franktown, colorado, usa</td>\n",
       "      <td>42.0</td>\n",
       "    </tr>\n",
       "  </tbody>\n",
       "</table>\n",
       "</div>"
      ],
      "text/plain": [
       "   User-ID        ISBN  Book-Rating                          Book-Title  \\\n",
       "0       99  0451166892            3            The Pillars of the Earth   \n",
       "1       99  0786868716            0  The Five People You Meet in Heaven   \n",
       "2       99  067976397X            0        Corelli's Mandolin : A Novel   \n",
       "3       99  0312252617            8                          Fast Women   \n",
       "4       99  0312261594            8                 Female Intelligence   \n",
       "\n",
       "          Book-Author  Year-Of-Publication           Publisher  \\\n",
       "0         Ken Follett                 1996         Signet Book   \n",
       "1         Mitch Albom                 2003            Hyperion   \n",
       "2  LOUIS DE BERNIERES                 1995             Vintage   \n",
       "3     Jennifer Crusie                 2001  St. Martin's Press   \n",
       "4         Jane Heller                 2001  St. Martin's Press   \n",
       "\n",
       "                   Location   Age  \n",
       "0  franktown, colorado, usa  42.0  \n",
       "1  franktown, colorado, usa  42.0  \n",
       "2  franktown, colorado, usa  42.0  \n",
       "3  franktown, colorado, usa  42.0  \n",
       "4  franktown, colorado, usa  42.0  "
      ]
     },
     "execution_count": 17,
     "metadata": {},
     "output_type": "execute_result"
    }
   ],
   "source": [
    "# Merge the resulting DataFrame with Book_users_df based on the 'User-ID' column\n",
    "Books_final_df = pd.merge(Books_merged_df, Book_users_df, on='User-ID', how='inner')\n",
    "\n",
    "Books_final_df.head()"
   ]
  },
  {
   "cell_type": "code",
   "execution_count": 18,
   "id": "e9780e33",
   "metadata": {},
   "outputs": [],
   "source": [
    "#Want to change the location here so that its just the country.\n",
    "# Split the 'Location' column and extract the country (last part)\n",
    "Books_final_df['Country'] = Books_final_df['Location'].str.split(',').str[-1].str.strip()"
   ]
  },
  {
   "cell_type": "code",
   "execution_count": 19,
   "id": "0592139d",
   "metadata": {},
   "outputs": [],
   "source": [
    "# Drop the original 'Location' column\n",
    "Books_final_df.drop('Location', axis=1, inplace=True)"
   ]
  },
  {
   "cell_type": "code",
   "execution_count": 20,
   "id": "93d18dce",
   "metadata": {},
   "outputs": [],
   "source": [
    "#Change the age column into an int rounded up for merging later\n",
    "Books_final_df['Age'] = Books_final_df['Age'].apply(np.ceil).astype(int)"
   ]
  },
  {
   "cell_type": "code",
   "execution_count": 21,
   "id": "29c4205f",
   "metadata": {},
   "outputs": [
    {
     "data": {
      "text/plain": [
       "User-ID                0\n",
       "ISBN                   0\n",
       "Book-Rating            0\n",
       "Book-Title             0\n",
       "Book-Author            0\n",
       "Year-Of-Publication    0\n",
       "Publisher              0\n",
       "Age                    0\n",
       "Country                0\n",
       "dtype: int64"
      ]
     },
     "execution_count": 21,
     "metadata": {},
     "output_type": "execute_result"
    }
   ],
   "source": [
    "Books_final_df.isnull().sum()"
   ]
  },
  {
   "cell_type": "code",
   "execution_count": 22,
   "id": "a965b559",
   "metadata": {},
   "outputs": [
    {
     "data": {
      "text/plain": [
       "array([42, 16, 43, 23, 37, 34, 62, 57, 17, 49, 51, 18, 26, 14, 19, 24, 32,\n",
       "       44, 20, 41, 47, 38, 45, 35, 28, 27, 33, 15, 21])"
      ]
     },
     "execution_count": 22,
     "metadata": {},
     "output_type": "execute_result"
    }
   ],
   "source": [
    "Books_final_df['Age'].unique()"
   ]
  },
  {
   "cell_type": "code",
   "execution_count": 23,
   "id": "63926402",
   "metadata": {},
   "outputs": [
    {
     "data": {
      "text/plain": [
       "array(['usa', 'india', 'germany', 'spain', '', 'canada', 'france',\n",
       "       'united kingdom', 'portugal', 'belgium', 'philippines'],\n",
       "      dtype=object)"
      ]
     },
     "execution_count": 23,
     "metadata": {},
     "output_type": "execute_result"
    }
   ],
   "source": [
    "Books_final_df['Country'].unique()"
   ]
  },
  {
   "cell_type": "code",
   "execution_count": 24,
   "id": "6c538361",
   "metadata": {},
   "outputs": [],
   "source": [
    "# Remove rows with invalid ages\n",
    "Books_final_df = Books_final_df[(Books_final_df['Age'] >= 0) & (Books_final_df['Age'] <= 120)]"
   ]
  },
  {
   "cell_type": "code",
   "execution_count": 25,
   "id": "901d85fa",
   "metadata": {},
   "outputs": [],
   "source": [
    "# Convert 'Age' column to integer\n",
    "Books_final_df.loc[:, 'Age'] = Books_final_df['Age'].astype(int)"
   ]
  },
  {
   "cell_type": "code",
   "execution_count": 26,
   "id": "a963f289",
   "metadata": {},
   "outputs": [],
   "source": [
    "# Convert country names to lowercase and remove leading/trailing whitespace\n",
    "Books_final_df.loc[:, 'Country'] = Books_final_df['Country'].str.lower().str.strip()\n",
    "\n",
    "# Handle inconsistent country names and spellings\n",
    "country_mapping = {\n",
    "    'usa': 'united states',\n",
    "    'united state': 'united states',\n",
    "    'u.s.a.': 'united states',\n",
    "    'america': 'united states',\n",
    "    'ysa': 'united states',\n",
    "    'uk': 'united kingdom',\n",
    "    'u.k.': 'united kingdom',\n",
    "    'españa': 'spain',\n",
    "    'la france': 'france',\n",
    "    'deutschland': 'germany',\n",
    "    'italia': 'italy',\n",
    "    'nz': 'new zealand',\n",
    "    'phillipines': 'philippines',\n",
    "    'philippines\"': 'philippines',\n",
    "    'quit': np.nan,\n",
    "    'n/a': np.nan,\n",
    "    'n/a - on the road': np.nan,\n",
    "    '\\\\\"n/a\\\\\"\"': np.nan,\n",
    "    'far away...': np.nan,\n",
    "    'universe': np.nan,\n",
    "    'everywhere and anywhere': np.nan,\n",
    "    '': np.nan,\n",
    "    # Add more mappings as needed\n",
    "}\n",
    "\n",
    "Books_final_df.loc[:, 'Country'] = Books_final_df['Country'].map(country_mapping).fillna(Books_final_df['Country'])"
   ]
  },
  {
   "cell_type": "code",
   "execution_count": 27,
   "id": "d6ccbea7",
   "metadata": {},
   "outputs": [
    {
     "data": {
      "text/html": [
       "<div>\n",
       "<style scoped>\n",
       "    .dataframe tbody tr th:only-of-type {\n",
       "        vertical-align: middle;\n",
       "    }\n",
       "\n",
       "    .dataframe tbody tr th {\n",
       "        vertical-align: top;\n",
       "    }\n",
       "\n",
       "    .dataframe thead th {\n",
       "        text-align: right;\n",
       "    }\n",
       "</style>\n",
       "<table border=\"1\" class=\"dataframe\">\n",
       "  <thead>\n",
       "    <tr style=\"text-align: right;\">\n",
       "      <th></th>\n",
       "      <th>User-ID</th>\n",
       "      <th>ISBN</th>\n",
       "      <th>Book-Rating</th>\n",
       "      <th>Book-Title</th>\n",
       "      <th>Book-Author</th>\n",
       "      <th>Year-Of-Publication</th>\n",
       "      <th>Publisher</th>\n",
       "      <th>Age</th>\n",
       "      <th>Country</th>\n",
       "    </tr>\n",
       "  </thead>\n",
       "  <tbody>\n",
       "    <tr>\n",
       "      <th>0</th>\n",
       "      <td>99</td>\n",
       "      <td>0451166892</td>\n",
       "      <td>3</td>\n",
       "      <td>The Pillars of the Earth</td>\n",
       "      <td>Ken Follett</td>\n",
       "      <td>1996</td>\n",
       "      <td>Signet Book</td>\n",
       "      <td>42</td>\n",
       "      <td>united states</td>\n",
       "    </tr>\n",
       "    <tr>\n",
       "      <th>1</th>\n",
       "      <td>99</td>\n",
       "      <td>0786868716</td>\n",
       "      <td>0</td>\n",
       "      <td>The Five People You Meet in Heaven</td>\n",
       "      <td>Mitch Albom</td>\n",
       "      <td>2003</td>\n",
       "      <td>Hyperion</td>\n",
       "      <td>42</td>\n",
       "      <td>united states</td>\n",
       "    </tr>\n",
       "    <tr>\n",
       "      <th>2</th>\n",
       "      <td>99</td>\n",
       "      <td>067976397X</td>\n",
       "      <td>0</td>\n",
       "      <td>Corelli's Mandolin : A Novel</td>\n",
       "      <td>LOUIS DE BERNIERES</td>\n",
       "      <td>1995</td>\n",
       "      <td>Vintage</td>\n",
       "      <td>42</td>\n",
       "      <td>united states</td>\n",
       "    </tr>\n",
       "    <tr>\n",
       "      <th>3</th>\n",
       "      <td>99</td>\n",
       "      <td>0312252617</td>\n",
       "      <td>8</td>\n",
       "      <td>Fast Women</td>\n",
       "      <td>Jennifer Crusie</td>\n",
       "      <td>2001</td>\n",
       "      <td>St. Martin's Press</td>\n",
       "      <td>42</td>\n",
       "      <td>united states</td>\n",
       "    </tr>\n",
       "    <tr>\n",
       "      <th>4</th>\n",
       "      <td>99</td>\n",
       "      <td>0312261594</td>\n",
       "      <td>8</td>\n",
       "      <td>Female Intelligence</td>\n",
       "      <td>Jane Heller</td>\n",
       "      <td>2001</td>\n",
       "      <td>St. Martin's Press</td>\n",
       "      <td>42</td>\n",
       "      <td>united states</td>\n",
       "    </tr>\n",
       "  </tbody>\n",
       "</table>\n",
       "</div>"
      ],
      "text/plain": [
       "   User-ID        ISBN  Book-Rating                          Book-Title  \\\n",
       "0       99  0451166892            3            The Pillars of the Earth   \n",
       "1       99  0786868716            0  The Five People You Meet in Heaven   \n",
       "2       99  067976397X            0        Corelli's Mandolin : A Novel   \n",
       "3       99  0312252617            8                          Fast Women   \n",
       "4       99  0312261594            8                 Female Intelligence   \n",
       "\n",
       "          Book-Author  Year-Of-Publication           Publisher  Age  \\\n",
       "0         Ken Follett                 1996         Signet Book   42   \n",
       "1         Mitch Albom                 2003            Hyperion   42   \n",
       "2  LOUIS DE BERNIERES                 1995             Vintage   42   \n",
       "3     Jennifer Crusie                 2001  St. Martin's Press   42   \n",
       "4         Jane Heller                 2001  St. Martin's Press   42   \n",
       "\n",
       "         Country  \n",
       "0  united states  \n",
       "1  united states  \n",
       "2  united states  \n",
       "3  united states  \n",
       "4  united states  "
      ]
     },
     "execution_count": 27,
     "metadata": {},
     "output_type": "execute_result"
    }
   ],
   "source": [
    "Books_final_df.head()"
   ]
  },
  {
   "cell_type": "code",
   "execution_count": 28,
   "id": "31005ba7",
   "metadata": {},
   "outputs": [
    {
     "data": {
      "text/plain": [
       "array([ 3,  0,  8,  7,  6, 10,  9,  4,  5])"
      ]
     },
     "execution_count": 28,
     "metadata": {},
     "output_type": "execute_result"
    }
   ],
   "source": [
    "Books_final_df['Book-Rating'].unique()"
   ]
  },
  {
   "cell_type": "code",
   "execution_count": 29,
   "id": "23af28f5",
   "metadata": {},
   "outputs": [
    {
     "data": {
      "text/plain": [
       "array([1996, 2003, 1995, 2001, 2002, 1987, 2000, 1986, 1997, 1998, 1994,\n",
       "       1978, 1980, 2004, 1984,    0, 1981, 1999, 1988, 1993, 1991, 1968,\n",
       "       1992, 1983, 1952, 1979, 1990, 1989])"
      ]
     },
     "execution_count": 29,
     "metadata": {},
     "output_type": "execute_result"
    }
   ],
   "source": [
    "Books_final_df['Year-Of-Publication'].unique()"
   ]
  },
  {
   "cell_type": "code",
   "execution_count": 30,
   "id": "203aa072",
   "metadata": {
    "scrolled": true
   },
   "outputs": [],
   "source": [
    "# Remove non-numeric values and invalid years\n",
    "#Books_final_df = Books_final_df[Books_final_df['Year-Of-Publication'].str.isdigit()]\n",
    "#Books_final_df = Books_final_df[Books_final_df['Year-Of-Publication'].astype(int) <= 2023]"
   ]
  },
  {
   "cell_type": "code",
   "execution_count": 31,
   "id": "1214c492",
   "metadata": {},
   "outputs": [],
   "source": [
    "# Convert 'Year-Of-Publication' column to integer\n",
    "Books_final_df.loc[:, 'Year-Of-Publication'] = Books_final_df['Year-Of-Publication'].astype(int)"
   ]
  },
  {
   "cell_type": "code",
   "execution_count": 32,
   "id": "752cf308",
   "metadata": {},
   "outputs": [
    {
     "data": {
      "text/html": [
       "<div>\n",
       "<style scoped>\n",
       "    .dataframe tbody tr th:only-of-type {\n",
       "        vertical-align: middle;\n",
       "    }\n",
       "\n",
       "    .dataframe tbody tr th {\n",
       "        vertical-align: top;\n",
       "    }\n",
       "\n",
       "    .dataframe thead th {\n",
       "        text-align: right;\n",
       "    }\n",
       "</style>\n",
       "<table border=\"1\" class=\"dataframe\">\n",
       "  <thead>\n",
       "    <tr style=\"text-align: right;\">\n",
       "      <th></th>\n",
       "      <th>User-ID</th>\n",
       "      <th>ISBN</th>\n",
       "      <th>Book-Rating</th>\n",
       "      <th>Book-Title</th>\n",
       "      <th>Book-Author</th>\n",
       "      <th>Year-Of-Publication</th>\n",
       "      <th>Publisher</th>\n",
       "      <th>Age</th>\n",
       "      <th>Country</th>\n",
       "    </tr>\n",
       "  </thead>\n",
       "  <tbody>\n",
       "    <tr>\n",
       "      <th>0</th>\n",
       "      <td>99</td>\n",
       "      <td>0451166892</td>\n",
       "      <td>3</td>\n",
       "      <td>The Pillars of the Earth</td>\n",
       "      <td>Ken Follett</td>\n",
       "      <td>1996</td>\n",
       "      <td>Signet Book</td>\n",
       "      <td>42</td>\n",
       "      <td>united states</td>\n",
       "    </tr>\n",
       "    <tr>\n",
       "      <th>1</th>\n",
       "      <td>99</td>\n",
       "      <td>0786868716</td>\n",
       "      <td>0</td>\n",
       "      <td>The Five People You Meet in Heaven</td>\n",
       "      <td>Mitch Albom</td>\n",
       "      <td>2003</td>\n",
       "      <td>Hyperion</td>\n",
       "      <td>42</td>\n",
       "      <td>united states</td>\n",
       "    </tr>\n",
       "    <tr>\n",
       "      <th>2</th>\n",
       "      <td>99</td>\n",
       "      <td>067976397X</td>\n",
       "      <td>0</td>\n",
       "      <td>Corelli's Mandolin : A Novel</td>\n",
       "      <td>LOUIS DE BERNIERES</td>\n",
       "      <td>1995</td>\n",
       "      <td>Vintage</td>\n",
       "      <td>42</td>\n",
       "      <td>united states</td>\n",
       "    </tr>\n",
       "    <tr>\n",
       "      <th>3</th>\n",
       "      <td>99</td>\n",
       "      <td>0312252617</td>\n",
       "      <td>8</td>\n",
       "      <td>Fast Women</td>\n",
       "      <td>Jennifer Crusie</td>\n",
       "      <td>2001</td>\n",
       "      <td>St. Martin's Press</td>\n",
       "      <td>42</td>\n",
       "      <td>united states</td>\n",
       "    </tr>\n",
       "    <tr>\n",
       "      <th>4</th>\n",
       "      <td>99</td>\n",
       "      <td>0312261594</td>\n",
       "      <td>8</td>\n",
       "      <td>Female Intelligence</td>\n",
       "      <td>Jane Heller</td>\n",
       "      <td>2001</td>\n",
       "      <td>St. Martin's Press</td>\n",
       "      <td>42</td>\n",
       "      <td>united states</td>\n",
       "    </tr>\n",
       "  </tbody>\n",
       "</table>\n",
       "</div>"
      ],
      "text/plain": [
       "   User-ID        ISBN  Book-Rating                          Book-Title  \\\n",
       "0       99  0451166892            3            The Pillars of the Earth   \n",
       "1       99  0786868716            0  The Five People You Meet in Heaven   \n",
       "2       99  067976397X            0        Corelli's Mandolin : A Novel   \n",
       "3       99  0312252617            8                          Fast Women   \n",
       "4       99  0312261594            8                 Female Intelligence   \n",
       "\n",
       "          Book-Author  Year-Of-Publication           Publisher  Age  \\\n",
       "0         Ken Follett                 1996         Signet Book   42   \n",
       "1         Mitch Albom                 2003            Hyperion   42   \n",
       "2  LOUIS DE BERNIERES                 1995             Vintage   42   \n",
       "3     Jennifer Crusie                 2001  St. Martin's Press   42   \n",
       "4         Jane Heller                 2001  St. Martin's Press   42   \n",
       "\n",
       "         Country  \n",
       "0  united states  \n",
       "1  united states  \n",
       "2  united states  \n",
       "3  united states  \n",
       "4  united states  "
      ]
     },
     "execution_count": 32,
     "metadata": {},
     "output_type": "execute_result"
    }
   ],
   "source": [
    "Books_final_df.head()"
   ]
  },
  {
   "cell_type": "code",
   "execution_count": 33,
   "id": "0dab2144",
   "metadata": {},
   "outputs": [],
   "source": [
    "Books_final_df = Books_final_df.rename(columns={'Age': 'age', 'Country':'country'})"
   ]
  },
  {
   "cell_type": "code",
   "execution_count": null,
   "id": "6f8baa9a",
   "metadata": {},
   "outputs": [],
   "source": []
  },
  {
   "cell_type": "code",
   "execution_count": null,
   "id": "7cd98057",
   "metadata": {},
   "outputs": [],
   "source": []
  },
  {
   "cell_type": "code",
   "execution_count": null,
   "id": "6bbc74d7",
   "metadata": {},
   "outputs": [],
   "source": []
  },
  {
   "cell_type": "code",
   "execution_count": null,
   "id": "6d15ccef",
   "metadata": {},
   "outputs": [],
   "source": []
  },
  {
   "cell_type": "code",
   "execution_count": null,
   "id": "9cfce9cd",
   "metadata": {},
   "outputs": [],
   "source": []
  },
  {
   "cell_type": "code",
   "execution_count": null,
   "id": "08bb8b76",
   "metadata": {},
   "outputs": [],
   "source": []
  },
  {
   "cell_type": "code",
   "execution_count": null,
   "id": "852bf426",
   "metadata": {},
   "outputs": [],
   "source": []
  },
  {
   "cell_type": "code",
   "execution_count": 34,
   "id": "d70d13be",
   "metadata": {},
   "outputs": [
    {
     "name": "stdout",
     "output_type": "stream",
     "text": [
      "movies.dat:\n",
      "1::Toy Story (1995)::Animation|Children's|Comedy\n",
      "2::Jumanji (1995)::Adventure|Children's|Fantasy\n",
      "3::Grumpier Old Men (1995)::Comedy|Romance\n",
      "4::Waiting to Exhale (1995)::Comedy|Drama\n",
      "5::Father of the Bride Part II (1995)::Comedy\n",
      "\n",
      "ratings.dat:\n",
      "1::1193::5::978300760\n",
      "1::661::3::978302109\n",
      "1::914::3::978301968\n",
      "1::3408::4::978300275\n",
      "1::2355::5::978824291\n",
      "\n",
      "users.dat:\n",
      "1::F::1::10::48067\n",
      "2::M::56::16::70072\n",
      "3::M::25::15::55117\n",
      "4::M::45::7::02460\n",
      "5::M::25::20::55455\n"
     ]
    }
   ],
   "source": [
    "#Now we will start to look at the movies dataset\n",
    "# File paths\n",
    "movies_file = os.path.join(\"..\", \"Data\", \"Movie Recommendation Raw Dataset\", \"movies.dat\")\n",
    "ratings_file = os.path.join(\"..\", \"Data\", \"Movie Recommendation Raw Dataset\", \"ratings.dat\")\n",
    "users_file = os.path.join(\"..\", \"Data\", \"Movie Recommendation Raw Dataset\", \"users.dat\")\n",
    "\n",
    "# Read the first few lines of each file to check the encoding as utf-8 did not work\n",
    "with open(movies_file, 'r', encoding='latin1') as file:\n",
    "    print(\"movies.dat:\")\n",
    "    for _ in range(5):\n",
    "        print(file.readline().strip())\n",
    "\n",
    "with open(ratings_file, 'r', encoding='latin1') as file:\n",
    "    print(\"\\nratings.dat:\")\n",
    "    for _ in range(5):\n",
    "        print(file.readline().strip())\n",
    "\n",
    "with open(users_file, 'r', encoding='latin1') as file:\n",
    "    print(\"\\nusers.dat:\")\n",
    "    for _ in range(5):\n",
    "        print(file.readline().strip())"
   ]
  },
  {
   "cell_type": "code",
   "execution_count": 35,
   "id": "b6cae60f",
   "metadata": {},
   "outputs": [],
   "source": [
    "# Read movies.dat\n",
    "movies_df = pd.read_csv(movies_file, delimiter='::', header=None, names=['movie_id', 'title', 'genres'], encoding='latin1', engine='python', nrows=10000)\n",
    "\n",
    "# Read ratings.dat\n",
    "movie_ratings_df = pd.read_csv(ratings_file, delimiter='::', header=None, names=['user_id', 'movie_id', 'rating', 'timestamp'], encoding='latin1', engine='python', nrows=10000)\n",
    "\n",
    "# Read users.dat\n",
    "movie_users_df = pd.read_csv(users_file, delimiter='::', header=None, names=['user_id', 'gender', 'age', 'occupation', 'zip_code'], encoding='latin1', engine='python', nrows=10000)\n"
   ]
  },
  {
   "cell_type": "code",
   "execution_count": 36,
   "id": "02f4fc37",
   "metadata": {},
   "outputs": [
    {
     "data": {
      "text/html": [
       "<div>\n",
       "<style scoped>\n",
       "    .dataframe tbody tr th:only-of-type {\n",
       "        vertical-align: middle;\n",
       "    }\n",
       "\n",
       "    .dataframe tbody tr th {\n",
       "        vertical-align: top;\n",
       "    }\n",
       "\n",
       "    .dataframe thead th {\n",
       "        text-align: right;\n",
       "    }\n",
       "</style>\n",
       "<table border=\"1\" class=\"dataframe\">\n",
       "  <thead>\n",
       "    <tr style=\"text-align: right;\">\n",
       "      <th></th>\n",
       "      <th>movie_id</th>\n",
       "      <th>title</th>\n",
       "      <th>genres</th>\n",
       "    </tr>\n",
       "  </thead>\n",
       "  <tbody>\n",
       "    <tr>\n",
       "      <th>0</th>\n",
       "      <td>1</td>\n",
       "      <td>Toy Story (1995)</td>\n",
       "      <td>Animation|Children's|Comedy</td>\n",
       "    </tr>\n",
       "    <tr>\n",
       "      <th>1</th>\n",
       "      <td>2</td>\n",
       "      <td>Jumanji (1995)</td>\n",
       "      <td>Adventure|Children's|Fantasy</td>\n",
       "    </tr>\n",
       "    <tr>\n",
       "      <th>2</th>\n",
       "      <td>3</td>\n",
       "      <td>Grumpier Old Men (1995)</td>\n",
       "      <td>Comedy|Romance</td>\n",
       "    </tr>\n",
       "    <tr>\n",
       "      <th>3</th>\n",
       "      <td>4</td>\n",
       "      <td>Waiting to Exhale (1995)</td>\n",
       "      <td>Comedy|Drama</td>\n",
       "    </tr>\n",
       "    <tr>\n",
       "      <th>4</th>\n",
       "      <td>5</td>\n",
       "      <td>Father of the Bride Part II (1995)</td>\n",
       "      <td>Comedy</td>\n",
       "    </tr>\n",
       "  </tbody>\n",
       "</table>\n",
       "</div>"
      ],
      "text/plain": [
       "   movie_id                               title                        genres\n",
       "0         1                    Toy Story (1995)   Animation|Children's|Comedy\n",
       "1         2                      Jumanji (1995)  Adventure|Children's|Fantasy\n",
       "2         3             Grumpier Old Men (1995)                Comedy|Romance\n",
       "3         4            Waiting to Exhale (1995)                  Comedy|Drama\n",
       "4         5  Father of the Bride Part II (1995)                        Comedy"
      ]
     },
     "execution_count": 36,
     "metadata": {},
     "output_type": "execute_result"
    }
   ],
   "source": [
    "movies_df.head()"
   ]
  },
  {
   "cell_type": "code",
   "execution_count": 37,
   "id": "cf91bd66",
   "metadata": {},
   "outputs": [
    {
     "data": {
      "text/html": [
       "<div>\n",
       "<style scoped>\n",
       "    .dataframe tbody tr th:only-of-type {\n",
       "        vertical-align: middle;\n",
       "    }\n",
       "\n",
       "    .dataframe tbody tr th {\n",
       "        vertical-align: top;\n",
       "    }\n",
       "\n",
       "    .dataframe thead th {\n",
       "        text-align: right;\n",
       "    }\n",
       "</style>\n",
       "<table border=\"1\" class=\"dataframe\">\n",
       "  <thead>\n",
       "    <tr style=\"text-align: right;\">\n",
       "      <th></th>\n",
       "      <th>user_id</th>\n",
       "      <th>movie_id</th>\n",
       "      <th>rating</th>\n",
       "      <th>timestamp</th>\n",
       "    </tr>\n",
       "  </thead>\n",
       "  <tbody>\n",
       "    <tr>\n",
       "      <th>0</th>\n",
       "      <td>1</td>\n",
       "      <td>1193</td>\n",
       "      <td>5</td>\n",
       "      <td>978300760</td>\n",
       "    </tr>\n",
       "    <tr>\n",
       "      <th>1</th>\n",
       "      <td>1</td>\n",
       "      <td>661</td>\n",
       "      <td>3</td>\n",
       "      <td>978302109</td>\n",
       "    </tr>\n",
       "    <tr>\n",
       "      <th>2</th>\n",
       "      <td>1</td>\n",
       "      <td>914</td>\n",
       "      <td>3</td>\n",
       "      <td>978301968</td>\n",
       "    </tr>\n",
       "    <tr>\n",
       "      <th>3</th>\n",
       "      <td>1</td>\n",
       "      <td>3408</td>\n",
       "      <td>4</td>\n",
       "      <td>978300275</td>\n",
       "    </tr>\n",
       "    <tr>\n",
       "      <th>4</th>\n",
       "      <td>1</td>\n",
       "      <td>2355</td>\n",
       "      <td>5</td>\n",
       "      <td>978824291</td>\n",
       "    </tr>\n",
       "  </tbody>\n",
       "</table>\n",
       "</div>"
      ],
      "text/plain": [
       "   user_id  movie_id  rating  timestamp\n",
       "0        1      1193       5  978300760\n",
       "1        1       661       3  978302109\n",
       "2        1       914       3  978301968\n",
       "3        1      3408       4  978300275\n",
       "4        1      2355       5  978824291"
      ]
     },
     "execution_count": 37,
     "metadata": {},
     "output_type": "execute_result"
    }
   ],
   "source": [
    "movie_ratings_df.head()"
   ]
  },
  {
   "cell_type": "code",
   "execution_count": 38,
   "id": "119e274b",
   "metadata": {},
   "outputs": [
    {
     "data": {
      "text/html": [
       "<div>\n",
       "<style scoped>\n",
       "    .dataframe tbody tr th:only-of-type {\n",
       "        vertical-align: middle;\n",
       "    }\n",
       "\n",
       "    .dataframe tbody tr th {\n",
       "        vertical-align: top;\n",
       "    }\n",
       "\n",
       "    .dataframe thead th {\n",
       "        text-align: right;\n",
       "    }\n",
       "</style>\n",
       "<table border=\"1\" class=\"dataframe\">\n",
       "  <thead>\n",
       "    <tr style=\"text-align: right;\">\n",
       "      <th></th>\n",
       "      <th>user_id</th>\n",
       "      <th>gender</th>\n",
       "      <th>age</th>\n",
       "      <th>occupation</th>\n",
       "      <th>zip_code</th>\n",
       "    </tr>\n",
       "  </thead>\n",
       "  <tbody>\n",
       "    <tr>\n",
       "      <th>0</th>\n",
       "      <td>1</td>\n",
       "      <td>F</td>\n",
       "      <td>1</td>\n",
       "      <td>10</td>\n",
       "      <td>48067</td>\n",
       "    </tr>\n",
       "    <tr>\n",
       "      <th>1</th>\n",
       "      <td>2</td>\n",
       "      <td>M</td>\n",
       "      <td>56</td>\n",
       "      <td>16</td>\n",
       "      <td>70072</td>\n",
       "    </tr>\n",
       "    <tr>\n",
       "      <th>2</th>\n",
       "      <td>3</td>\n",
       "      <td>M</td>\n",
       "      <td>25</td>\n",
       "      <td>15</td>\n",
       "      <td>55117</td>\n",
       "    </tr>\n",
       "    <tr>\n",
       "      <th>3</th>\n",
       "      <td>4</td>\n",
       "      <td>M</td>\n",
       "      <td>45</td>\n",
       "      <td>7</td>\n",
       "      <td>02460</td>\n",
       "    </tr>\n",
       "    <tr>\n",
       "      <th>4</th>\n",
       "      <td>5</td>\n",
       "      <td>M</td>\n",
       "      <td>25</td>\n",
       "      <td>20</td>\n",
       "      <td>55455</td>\n",
       "    </tr>\n",
       "  </tbody>\n",
       "</table>\n",
       "</div>"
      ],
      "text/plain": [
       "   user_id gender  age  occupation zip_code\n",
       "0        1      F    1          10    48067\n",
       "1        2      M   56          16    70072\n",
       "2        3      M   25          15    55117\n",
       "3        4      M   45           7    02460\n",
       "4        5      M   25          20    55455"
      ]
     },
     "execution_count": 38,
     "metadata": {},
     "output_type": "execute_result"
    }
   ],
   "source": [
    "movie_users_df.head()"
   ]
  },
  {
   "cell_type": "code",
   "execution_count": null,
   "id": "84d46311",
   "metadata": {},
   "outputs": [],
   "source": []
  },
  {
   "cell_type": "code",
   "execution_count": null,
   "id": "55730a9e",
   "metadata": {},
   "outputs": [],
   "source": []
  },
  {
   "cell_type": "code",
   "execution_count": 39,
   "id": "12c63b2c",
   "metadata": {},
   "outputs": [
    {
     "data": {
      "text/plain": [
       "movie_id    0\n",
       "title       0\n",
       "genres      0\n",
       "dtype: int64"
      ]
     },
     "execution_count": 39,
     "metadata": {},
     "output_type": "execute_result"
    }
   ],
   "source": [
    "movies_df.isnull().sum()"
   ]
  },
  {
   "cell_type": "code",
   "execution_count": 40,
   "id": "e84233b4",
   "metadata": {},
   "outputs": [
    {
     "data": {
      "text/plain": [
       "0"
      ]
     },
     "execution_count": 40,
     "metadata": {},
     "output_type": "execute_result"
    }
   ],
   "source": [
    "movies_df.duplicated(subset='movie_id').sum()"
   ]
  },
  {
   "cell_type": "code",
   "execution_count": 41,
   "id": "68af3961",
   "metadata": {},
   "outputs": [
    {
     "data": {
      "text/plain": [
       "0"
      ]
     },
     "execution_count": 41,
     "metadata": {},
     "output_type": "execute_result"
    }
   ],
   "source": [
    "movies_df.duplicated().sum()"
   ]
  },
  {
   "cell_type": "code",
   "execution_count": 42,
   "id": "6ff18894",
   "metadata": {},
   "outputs": [
    {
     "data": {
      "text/plain": [
       "movie_id     int64\n",
       "title       object\n",
       "genres      object\n",
       "dtype: object"
      ]
     },
     "execution_count": 42,
     "metadata": {},
     "output_type": "execute_result"
    }
   ],
   "source": [
    "movies_df.dtypes"
   ]
  },
  {
   "cell_type": "code",
   "execution_count": null,
   "id": "68e16c08",
   "metadata": {},
   "outputs": [],
   "source": []
  },
  {
   "cell_type": "code",
   "execution_count": null,
   "id": "2a77e625",
   "metadata": {},
   "outputs": [],
   "source": []
  },
  {
   "cell_type": "code",
   "execution_count": 43,
   "id": "5dee5998",
   "metadata": {},
   "outputs": [
    {
     "data": {
      "text/plain": [
       "user_id      0\n",
       "movie_id     0\n",
       "rating       0\n",
       "timestamp    0\n",
       "dtype: int64"
      ]
     },
     "execution_count": 43,
     "metadata": {},
     "output_type": "execute_result"
    }
   ],
   "source": [
    "movie_ratings_df.isnull().sum()"
   ]
  },
  {
   "cell_type": "code",
   "execution_count": 44,
   "id": "60f5080c",
   "metadata": {},
   "outputs": [
    {
     "data": {
      "text/plain": [
       "count    10000.000000\n",
       "mean         3.633900\n",
       "std          1.077213\n",
       "min          1.000000\n",
       "25%          3.000000\n",
       "50%          4.000000\n",
       "75%          4.000000\n",
       "max          5.000000\n",
       "Name: rating, dtype: float64"
      ]
     },
     "execution_count": 44,
     "metadata": {},
     "output_type": "execute_result"
    }
   ],
   "source": [
    "movie_ratings_df['rating'].describe()"
   ]
  },
  {
   "cell_type": "code",
   "execution_count": 45,
   "id": "ad54e57f",
   "metadata": {},
   "outputs": [
    {
     "data": {
      "text/plain": [
       "user_id      int64\n",
       "movie_id     int64\n",
       "rating       int64\n",
       "timestamp    int64\n",
       "dtype: object"
      ]
     },
     "execution_count": 45,
     "metadata": {},
     "output_type": "execute_result"
    }
   ],
   "source": [
    "movie_ratings_df.dtypes"
   ]
  },
  {
   "cell_type": "code",
   "execution_count": null,
   "id": "7e306f06",
   "metadata": {},
   "outputs": [],
   "source": []
  },
  {
   "cell_type": "code",
   "execution_count": null,
   "id": "57662849",
   "metadata": {},
   "outputs": [],
   "source": []
  },
  {
   "cell_type": "code",
   "execution_count": 46,
   "id": "aca1abf4",
   "metadata": {},
   "outputs": [
    {
     "data": {
      "text/plain": [
       "user_id       0\n",
       "gender        0\n",
       "age           0\n",
       "occupation    0\n",
       "zip_code      0\n",
       "dtype: int64"
      ]
     },
     "execution_count": 46,
     "metadata": {},
     "output_type": "execute_result"
    }
   ],
   "source": [
    "movie_users_df.isnull().sum()"
   ]
  },
  {
   "cell_type": "code",
   "execution_count": 47,
   "id": "951b49dc",
   "metadata": {},
   "outputs": [
    {
     "data": {
      "text/plain": [
       "0"
      ]
     },
     "execution_count": 47,
     "metadata": {},
     "output_type": "execute_result"
    }
   ],
   "source": [
    "movie_users_df.duplicated(subset='user_id').sum()"
   ]
  },
  {
   "cell_type": "code",
   "execution_count": 48,
   "id": "44bfa15b",
   "metadata": {},
   "outputs": [
    {
     "data": {
      "text/plain": [
       "user_id        int64\n",
       "gender        object\n",
       "age            int64\n",
       "occupation     int64\n",
       "zip_code      object\n",
       "dtype: object"
      ]
     },
     "execution_count": 48,
     "metadata": {},
     "output_type": "execute_result"
    }
   ],
   "source": [
    "movie_users_df.dtypes"
   ]
  },
  {
   "cell_type": "code",
   "execution_count": null,
   "id": "c24af37d",
   "metadata": {},
   "outputs": [],
   "source": []
  },
  {
   "cell_type": "code",
   "execution_count": null,
   "id": "17bf1c4b",
   "metadata": {},
   "outputs": [],
   "source": []
  },
  {
   "cell_type": "code",
   "execution_count": 49,
   "id": "24611624",
   "metadata": {},
   "outputs": [],
   "source": [
    "# Merge movie_users_df with movie_ratings_df\n",
    "movies_merged_df = pd.merge(movie_users_df, movie_ratings_df, on='user_id', how='left')"
   ]
  },
  {
   "cell_type": "code",
   "execution_count": 50,
   "id": "ef9c79bf",
   "metadata": {},
   "outputs": [
    {
     "data": {
      "text/html": [
       "<div>\n",
       "<style scoped>\n",
       "    .dataframe tbody tr th:only-of-type {\n",
       "        vertical-align: middle;\n",
       "    }\n",
       "\n",
       "    .dataframe tbody tr th {\n",
       "        vertical-align: top;\n",
       "    }\n",
       "\n",
       "    .dataframe thead th {\n",
       "        text-align: right;\n",
       "    }\n",
       "</style>\n",
       "<table border=\"1\" class=\"dataframe\">\n",
       "  <thead>\n",
       "    <tr style=\"text-align: right;\">\n",
       "      <th></th>\n",
       "      <th>user_id</th>\n",
       "      <th>gender</th>\n",
       "      <th>age</th>\n",
       "      <th>occupation</th>\n",
       "      <th>zip_code</th>\n",
       "      <th>movie_id</th>\n",
       "      <th>rating</th>\n",
       "      <th>timestamp</th>\n",
       "      <th>title</th>\n",
       "      <th>genres</th>\n",
       "    </tr>\n",
       "  </thead>\n",
       "  <tbody>\n",
       "    <tr>\n",
       "      <th>0</th>\n",
       "      <td>1</td>\n",
       "      <td>F</td>\n",
       "      <td>1</td>\n",
       "      <td>10</td>\n",
       "      <td>48067</td>\n",
       "      <td>1193.0</td>\n",
       "      <td>5.0</td>\n",
       "      <td>978300760.0</td>\n",
       "      <td>One Flew Over the Cuckoo's Nest (1975)</td>\n",
       "      <td>Drama</td>\n",
       "    </tr>\n",
       "    <tr>\n",
       "      <th>1</th>\n",
       "      <td>1</td>\n",
       "      <td>F</td>\n",
       "      <td>1</td>\n",
       "      <td>10</td>\n",
       "      <td>48067</td>\n",
       "      <td>661.0</td>\n",
       "      <td>3.0</td>\n",
       "      <td>978302109.0</td>\n",
       "      <td>James and the Giant Peach (1996)</td>\n",
       "      <td>Animation|Children's|Musical</td>\n",
       "    </tr>\n",
       "    <tr>\n",
       "      <th>2</th>\n",
       "      <td>1</td>\n",
       "      <td>F</td>\n",
       "      <td>1</td>\n",
       "      <td>10</td>\n",
       "      <td>48067</td>\n",
       "      <td>914.0</td>\n",
       "      <td>3.0</td>\n",
       "      <td>978301968.0</td>\n",
       "      <td>My Fair Lady (1964)</td>\n",
       "      <td>Musical|Romance</td>\n",
       "    </tr>\n",
       "    <tr>\n",
       "      <th>3</th>\n",
       "      <td>1</td>\n",
       "      <td>F</td>\n",
       "      <td>1</td>\n",
       "      <td>10</td>\n",
       "      <td>48067</td>\n",
       "      <td>3408.0</td>\n",
       "      <td>4.0</td>\n",
       "      <td>978300275.0</td>\n",
       "      <td>Erin Brockovich (2000)</td>\n",
       "      <td>Drama</td>\n",
       "    </tr>\n",
       "    <tr>\n",
       "      <th>4</th>\n",
       "      <td>1</td>\n",
       "      <td>F</td>\n",
       "      <td>1</td>\n",
       "      <td>10</td>\n",
       "      <td>48067</td>\n",
       "      <td>2355.0</td>\n",
       "      <td>5.0</td>\n",
       "      <td>978824291.0</td>\n",
       "      <td>Bug's Life, A (1998)</td>\n",
       "      <td>Animation|Children's|Comedy</td>\n",
       "    </tr>\n",
       "  </tbody>\n",
       "</table>\n",
       "</div>"
      ],
      "text/plain": [
       "   user_id gender  age  occupation zip_code  movie_id  rating    timestamp  \\\n",
       "0        1      F    1          10    48067    1193.0     5.0  978300760.0   \n",
       "1        1      F    1          10    48067     661.0     3.0  978302109.0   \n",
       "2        1      F    1          10    48067     914.0     3.0  978301968.0   \n",
       "3        1      F    1          10    48067    3408.0     4.0  978300275.0   \n",
       "4        1      F    1          10    48067    2355.0     5.0  978824291.0   \n",
       "\n",
       "                                    title                        genres  \n",
       "0  One Flew Over the Cuckoo's Nest (1975)                         Drama  \n",
       "1        James and the Giant Peach (1996)  Animation|Children's|Musical  \n",
       "2                     My Fair Lady (1964)               Musical|Romance  \n",
       "3                  Erin Brockovich (2000)                         Drama  \n",
       "4                    Bug's Life, A (1998)   Animation|Children's|Comedy  "
      ]
     },
     "execution_count": 50,
     "metadata": {},
     "output_type": "execute_result"
    }
   ],
   "source": [
    "# Merge the resulting DataFrame with movies_df\n",
    "movies_final_df = pd.merge(movies_merged_df, movies_df, on='movie_id', how='left')\n",
    "\n",
    "movies_final_df.head()"
   ]
  },
  {
   "cell_type": "code",
   "execution_count": 51,
   "id": "69f02078",
   "metadata": {},
   "outputs": [
    {
     "data": {
      "text/plain": [
       "user_id          0\n",
       "gender           0\n",
       "age              0\n",
       "occupation       0\n",
       "zip_code         0\n",
       "movie_id      5970\n",
       "rating        5970\n",
       "timestamp     5970\n",
       "title         5970\n",
       "genres        5970\n",
       "dtype: int64"
      ]
     },
     "execution_count": 51,
     "metadata": {},
     "output_type": "execute_result"
    }
   ],
   "source": [
    "movies_final_df.isnull().sum()"
   ]
  },
  {
   "cell_type": "code",
   "execution_count": 52,
   "id": "0aee62f1",
   "metadata": {},
   "outputs": [
    {
     "data": {
      "text/plain": [
       "array(['F', 'M'], dtype=object)"
      ]
     },
     "execution_count": 52,
     "metadata": {},
     "output_type": "execute_result"
    }
   ],
   "source": [
    "movies_final_df['gender'].unique()"
   ]
  },
  {
   "cell_type": "code",
   "execution_count": 53,
   "id": "68f3f21d",
   "metadata": {},
   "outputs": [
    {
     "data": {
      "text/plain": [
       "array([ 1, 56, 25, 45, 50, 35, 18])"
      ]
     },
     "execution_count": 53,
     "metadata": {},
     "output_type": "execute_result"
    }
   ],
   "source": [
    "movies_final_df['age'].unique()"
   ]
  },
  {
   "cell_type": "code",
   "execution_count": 54,
   "id": "b60dece6",
   "metadata": {},
   "outputs": [
    {
     "data": {
      "text/plain": [
       "array([ 5.,  3.,  4.,  2.,  1., nan])"
      ]
     },
     "execution_count": 54,
     "metadata": {},
     "output_type": "execute_result"
    }
   ],
   "source": [
    "movies_final_df['rating'].unique()"
   ]
  },
  {
   "cell_type": "code",
   "execution_count": null,
   "id": "c4996191",
   "metadata": {},
   "outputs": [],
   "source": []
  },
  {
   "cell_type": "code",
   "execution_count": null,
   "id": "a97ff4b6",
   "metadata": {},
   "outputs": [],
   "source": []
  },
  {
   "cell_type": "code",
   "execution_count": null,
   "id": "041405ec",
   "metadata": {},
   "outputs": [],
   "source": []
  },
  {
   "cell_type": "code",
   "execution_count": null,
   "id": "48a91171",
   "metadata": {},
   "outputs": [],
   "source": []
  },
  {
   "cell_type": "code",
   "execution_count": null,
   "id": "c4aead15",
   "metadata": {},
   "outputs": [],
   "source": []
  },
  {
   "cell_type": "code",
   "execution_count": null,
   "id": "1c0ee819",
   "metadata": {},
   "outputs": [],
   "source": []
  },
  {
   "cell_type": "code",
   "execution_count": 55,
   "id": "96624837",
   "metadata": {},
   "outputs": [],
   "source": [
    "#Lastly we look at the music dataset\n",
    "# File paths\n",
    "music_file = os.path.join(\"..\", \"Data\", \"Music Recommendation Raw Dataset\", \"usersha1-artmbid-artname-plays.tsv\")\n",
    "users_file = os.path.join(\"..\", \"Data\", \"Music Recommendation Raw Dataset\", \"usersha1-profile.tsv\")"
   ]
  },
  {
   "cell_type": "code",
   "execution_count": 56,
   "id": "e2f8b32a",
   "metadata": {},
   "outputs": [],
   "source": [
    "# Read music.tsv file\n",
    "music_df = pd.read_csv(music_file, sep='\\t', header=None, names=['user_id', 'artist_id', 'artist_name', 'plays'], nrows=10000)\n",
    "\n",
    "\n",
    "# Read users.tsv file\n",
    "music_users_df = pd.read_csv(users_file, sep='\\t', header=None, names=['user_id', 'gender', 'age', 'country', 'signup'], nrows=10000)"
   ]
  },
  {
   "cell_type": "code",
   "execution_count": null,
   "id": "6ee14986",
   "metadata": {},
   "outputs": [],
   "source": []
  },
  {
   "cell_type": "code",
   "execution_count": null,
   "id": "878bed39",
   "metadata": {},
   "outputs": [],
   "source": []
  },
  {
   "cell_type": "code",
   "execution_count": 57,
   "id": "9805b147",
   "metadata": {},
   "outputs": [
    {
     "data": {
      "text/html": [
       "<div>\n",
       "<style scoped>\n",
       "    .dataframe tbody tr th:only-of-type {\n",
       "        vertical-align: middle;\n",
       "    }\n",
       "\n",
       "    .dataframe tbody tr th {\n",
       "        vertical-align: top;\n",
       "    }\n",
       "\n",
       "    .dataframe thead th {\n",
       "        text-align: right;\n",
       "    }\n",
       "</style>\n",
       "<table border=\"1\" class=\"dataframe\">\n",
       "  <thead>\n",
       "    <tr style=\"text-align: right;\">\n",
       "      <th></th>\n",
       "      <th>user_id</th>\n",
       "      <th>artist_id</th>\n",
       "      <th>artist_name</th>\n",
       "      <th>plays</th>\n",
       "    </tr>\n",
       "  </thead>\n",
       "  <tbody>\n",
       "    <tr>\n",
       "      <th>0</th>\n",
       "      <td>00000c289a1829a808ac09c00daf10bc3c4e223b</td>\n",
       "      <td>3bd73256-3905-4f3a-97e2-8b341527f805</td>\n",
       "      <td>betty blowtorch</td>\n",
       "      <td>2137</td>\n",
       "    </tr>\n",
       "    <tr>\n",
       "      <th>1</th>\n",
       "      <td>00000c289a1829a808ac09c00daf10bc3c4e223b</td>\n",
       "      <td>f2fb0ff0-5679-42ec-a55c-15109ce6e320</td>\n",
       "      <td>die Ärzte</td>\n",
       "      <td>1099</td>\n",
       "    </tr>\n",
       "    <tr>\n",
       "      <th>2</th>\n",
       "      <td>00000c289a1829a808ac09c00daf10bc3c4e223b</td>\n",
       "      <td>b3ae82c2-e60b-4551-a76d-6620f1b456aa</td>\n",
       "      <td>melissa etheridge</td>\n",
       "      <td>897</td>\n",
       "    </tr>\n",
       "    <tr>\n",
       "      <th>3</th>\n",
       "      <td>00000c289a1829a808ac09c00daf10bc3c4e223b</td>\n",
       "      <td>3d6bbeb7-f90e-4d10-b440-e153c0d10b53</td>\n",
       "      <td>elvenking</td>\n",
       "      <td>717</td>\n",
       "    </tr>\n",
       "    <tr>\n",
       "      <th>4</th>\n",
       "      <td>00000c289a1829a808ac09c00daf10bc3c4e223b</td>\n",
       "      <td>bbd2ffd7-17f4-4506-8572-c1ea58c3f9a8</td>\n",
       "      <td>juliette &amp; the licks</td>\n",
       "      <td>706</td>\n",
       "    </tr>\n",
       "  </tbody>\n",
       "</table>\n",
       "</div>"
      ],
      "text/plain": [
       "                                    user_id  \\\n",
       "0  00000c289a1829a808ac09c00daf10bc3c4e223b   \n",
       "1  00000c289a1829a808ac09c00daf10bc3c4e223b   \n",
       "2  00000c289a1829a808ac09c00daf10bc3c4e223b   \n",
       "3  00000c289a1829a808ac09c00daf10bc3c4e223b   \n",
       "4  00000c289a1829a808ac09c00daf10bc3c4e223b   \n",
       "\n",
       "                              artist_id           artist_name  plays  \n",
       "0  3bd73256-3905-4f3a-97e2-8b341527f805       betty blowtorch   2137  \n",
       "1  f2fb0ff0-5679-42ec-a55c-15109ce6e320             die Ärzte   1099  \n",
       "2  b3ae82c2-e60b-4551-a76d-6620f1b456aa     melissa etheridge    897  \n",
       "3  3d6bbeb7-f90e-4d10-b440-e153c0d10b53             elvenking    717  \n",
       "4  bbd2ffd7-17f4-4506-8572-c1ea58c3f9a8  juliette & the licks    706  "
      ]
     },
     "execution_count": 57,
     "metadata": {},
     "output_type": "execute_result"
    }
   ],
   "source": [
    "music_df.head()"
   ]
  },
  {
   "cell_type": "code",
   "execution_count": 58,
   "id": "d0cc6ab2",
   "metadata": {},
   "outputs": [
    {
     "data": {
      "text/html": [
       "<div>\n",
       "<style scoped>\n",
       "    .dataframe tbody tr th:only-of-type {\n",
       "        vertical-align: middle;\n",
       "    }\n",
       "\n",
       "    .dataframe tbody tr th {\n",
       "        vertical-align: top;\n",
       "    }\n",
       "\n",
       "    .dataframe thead th {\n",
       "        text-align: right;\n",
       "    }\n",
       "</style>\n",
       "<table border=\"1\" class=\"dataframe\">\n",
       "  <thead>\n",
       "    <tr style=\"text-align: right;\">\n",
       "      <th></th>\n",
       "      <th>user_id</th>\n",
       "      <th>gender</th>\n",
       "      <th>age</th>\n",
       "      <th>country</th>\n",
       "      <th>signup</th>\n",
       "    </tr>\n",
       "  </thead>\n",
       "  <tbody>\n",
       "    <tr>\n",
       "      <th>0</th>\n",
       "      <td>00000c289a1829a808ac09c00daf10bc3c4e223b</td>\n",
       "      <td>f</td>\n",
       "      <td>22.0</td>\n",
       "      <td>Germany</td>\n",
       "      <td>Feb 1, 2007</td>\n",
       "    </tr>\n",
       "    <tr>\n",
       "      <th>1</th>\n",
       "      <td>00001411dc427966b17297bf4d69e7e193135d89</td>\n",
       "      <td>f</td>\n",
       "      <td>NaN</td>\n",
       "      <td>Canada</td>\n",
       "      <td>Dec 4, 2007</td>\n",
       "    </tr>\n",
       "    <tr>\n",
       "      <th>2</th>\n",
       "      <td>00004d2ac9316e22dc007ab2243d6fcb239e707d</td>\n",
       "      <td>NaN</td>\n",
       "      <td>NaN</td>\n",
       "      <td>Germany</td>\n",
       "      <td>Sep 1, 2006</td>\n",
       "    </tr>\n",
       "    <tr>\n",
       "      <th>3</th>\n",
       "      <td>000063d3fe1cf2ba248b9e3c3f0334845a27a6bf</td>\n",
       "      <td>m</td>\n",
       "      <td>19.0</td>\n",
       "      <td>Mexico</td>\n",
       "      <td>Apr 28, 2008</td>\n",
       "    </tr>\n",
       "    <tr>\n",
       "      <th>4</th>\n",
       "      <td>00007a47085b9aab8af55f52ec8846ac479ac4fe</td>\n",
       "      <td>m</td>\n",
       "      <td>28.0</td>\n",
       "      <td>United States</td>\n",
       "      <td>Jan 27, 2006</td>\n",
       "    </tr>\n",
       "  </tbody>\n",
       "</table>\n",
       "</div>"
      ],
      "text/plain": [
       "                                    user_id gender   age        country  \\\n",
       "0  00000c289a1829a808ac09c00daf10bc3c4e223b      f  22.0        Germany   \n",
       "1  00001411dc427966b17297bf4d69e7e193135d89      f   NaN         Canada   \n",
       "2  00004d2ac9316e22dc007ab2243d6fcb239e707d    NaN   NaN        Germany   \n",
       "3  000063d3fe1cf2ba248b9e3c3f0334845a27a6bf      m  19.0         Mexico   \n",
       "4  00007a47085b9aab8af55f52ec8846ac479ac4fe      m  28.0  United States   \n",
       "\n",
       "         signup  \n",
       "0   Feb 1, 2007  \n",
       "1   Dec 4, 2007  \n",
       "2   Sep 1, 2006  \n",
       "3  Apr 28, 2008  \n",
       "4  Jan 27, 2006  "
      ]
     },
     "execution_count": 58,
     "metadata": {},
     "output_type": "execute_result"
    }
   ],
   "source": [
    "music_users_df.head()"
   ]
  },
  {
   "cell_type": "code",
   "execution_count": 59,
   "id": "ad2346a9",
   "metadata": {},
   "outputs": [],
   "source": [
    "music_df['plays'] = music_df['plays'].astype(int)\n",
    "music_users_df['age'] = pd.to_numeric(music_users_df['age'], errors='coerce')\n",
    "music_users_df['signup'] = pd.to_datetime(music_users_df['signup'], format='%b %d, %Y', errors='coerce')\n",
    "music_users_df.replace('', np.nan, inplace=True)"
   ]
  },
  {
   "cell_type": "code",
   "execution_count": null,
   "id": "13bde8ed",
   "metadata": {},
   "outputs": [],
   "source": []
  },
  {
   "cell_type": "code",
   "execution_count": 60,
   "id": "afa88c1b",
   "metadata": {},
   "outputs": [
    {
     "data": {
      "text/plain": [
       "user_id          0\n",
       "artist_id      123\n",
       "artist_name      0\n",
       "plays            0\n",
       "dtype: int64"
      ]
     },
     "execution_count": 60,
     "metadata": {},
     "output_type": "execute_result"
    }
   ],
   "source": [
    "music_df.isnull().sum()"
   ]
  },
  {
   "cell_type": "code",
   "execution_count": 61,
   "id": "300827ba",
   "metadata": {},
   "outputs": [
    {
     "data": {
      "text/plain": [
       "user_id       0\n",
       "gender      941\n",
       "age        2107\n",
       "country       0\n",
       "signup        0\n",
       "dtype: int64"
      ]
     },
     "execution_count": 61,
     "metadata": {},
     "output_type": "execute_result"
    }
   ],
   "source": [
    "music_users_df.isnull().sum()"
   ]
  },
  {
   "cell_type": "code",
   "execution_count": 62,
   "id": "a41e5f3e",
   "metadata": {},
   "outputs": [],
   "source": [
    "# Drop unwanted columns from music\n",
    "music_df = music_df[['user_id', 'artist_name', 'plays']]\n",
    "\n",
    "# Drop unwanted columns from music_users\n",
    "music_users_df = music_users_df[['user_id', 'age', 'country']]"
   ]
  },
  {
   "cell_type": "code",
   "execution_count": 63,
   "id": "1bd0bcd9",
   "metadata": {},
   "outputs": [
    {
     "data": {
      "text/plain": [
       "user_id        0\n",
       "artist_name    0\n",
       "plays          0\n",
       "dtype: int64"
      ]
     },
     "execution_count": 63,
     "metadata": {},
     "output_type": "execute_result"
    }
   ],
   "source": [
    "music_df.isnull().sum()"
   ]
  },
  {
   "cell_type": "code",
   "execution_count": 64,
   "id": "ee85272d",
   "metadata": {},
   "outputs": [
    {
     "data": {
      "text/plain": [
       "user_id       0\n",
       "age        2107\n",
       "country       0\n",
       "dtype: int64"
      ]
     },
     "execution_count": 64,
     "metadata": {},
     "output_type": "execute_result"
    }
   ],
   "source": [
    "music_users_df.isnull().sum()"
   ]
  },
  {
   "cell_type": "code",
   "execution_count": 65,
   "id": "6da089ef",
   "metadata": {},
   "outputs": [],
   "source": [
    "# Handle missing values\n",
    "music_df.dropna(inplace=True)\n",
    "music_users_df.dropna(inplace=True)"
   ]
  },
  {
   "cell_type": "code",
   "execution_count": null,
   "id": "e54f98ad",
   "metadata": {},
   "outputs": [],
   "source": []
  },
  {
   "cell_type": "code",
   "execution_count": 66,
   "id": "52cb433d",
   "metadata": {},
   "outputs": [],
   "source": [
    "# Merge on user_id\n",
    "music_final_df = pd.merge(music_df, music_users_df, on='user_id', how='inner')"
   ]
  },
  {
   "cell_type": "code",
   "execution_count": 67,
   "id": "f4384ff8",
   "metadata": {},
   "outputs": [
    {
     "data": {
      "text/html": [
       "<div>\n",
       "<style scoped>\n",
       "    .dataframe tbody tr th:only-of-type {\n",
       "        vertical-align: middle;\n",
       "    }\n",
       "\n",
       "    .dataframe tbody tr th {\n",
       "        vertical-align: top;\n",
       "    }\n",
       "\n",
       "    .dataframe thead th {\n",
       "        text-align: right;\n",
       "    }\n",
       "</style>\n",
       "<table border=\"1\" class=\"dataframe\">\n",
       "  <thead>\n",
       "    <tr style=\"text-align: right;\">\n",
       "      <th></th>\n",
       "      <th>user_id</th>\n",
       "      <th>artist_name</th>\n",
       "      <th>plays</th>\n",
       "      <th>age</th>\n",
       "      <th>country</th>\n",
       "    </tr>\n",
       "  </thead>\n",
       "  <tbody>\n",
       "    <tr>\n",
       "      <th>0</th>\n",
       "      <td>00000c289a1829a808ac09c00daf10bc3c4e223b</td>\n",
       "      <td>betty blowtorch</td>\n",
       "      <td>2137</td>\n",
       "      <td>22.0</td>\n",
       "      <td>Germany</td>\n",
       "    </tr>\n",
       "    <tr>\n",
       "      <th>1</th>\n",
       "      <td>00000c289a1829a808ac09c00daf10bc3c4e223b</td>\n",
       "      <td>die Ärzte</td>\n",
       "      <td>1099</td>\n",
       "      <td>22.0</td>\n",
       "      <td>Germany</td>\n",
       "    </tr>\n",
       "    <tr>\n",
       "      <th>2</th>\n",
       "      <td>00000c289a1829a808ac09c00daf10bc3c4e223b</td>\n",
       "      <td>melissa etheridge</td>\n",
       "      <td>897</td>\n",
       "      <td>22.0</td>\n",
       "      <td>Germany</td>\n",
       "    </tr>\n",
       "    <tr>\n",
       "      <th>3</th>\n",
       "      <td>00000c289a1829a808ac09c00daf10bc3c4e223b</td>\n",
       "      <td>elvenking</td>\n",
       "      <td>717</td>\n",
       "      <td>22.0</td>\n",
       "      <td>Germany</td>\n",
       "    </tr>\n",
       "    <tr>\n",
       "      <th>4</th>\n",
       "      <td>00000c289a1829a808ac09c00daf10bc3c4e223b</td>\n",
       "      <td>juliette &amp; the licks</td>\n",
       "      <td>706</td>\n",
       "      <td>22.0</td>\n",
       "      <td>Germany</td>\n",
       "    </tr>\n",
       "  </tbody>\n",
       "</table>\n",
       "</div>"
      ],
      "text/plain": [
       "                                    user_id           artist_name  plays  \\\n",
       "0  00000c289a1829a808ac09c00daf10bc3c4e223b       betty blowtorch   2137   \n",
       "1  00000c289a1829a808ac09c00daf10bc3c4e223b             die Ärzte   1099   \n",
       "2  00000c289a1829a808ac09c00daf10bc3c4e223b     melissa etheridge    897   \n",
       "3  00000c289a1829a808ac09c00daf10bc3c4e223b             elvenking    717   \n",
       "4  00000c289a1829a808ac09c00daf10bc3c4e223b  juliette & the licks    706   \n",
       "\n",
       "    age  country  \n",
       "0  22.0  Germany  \n",
       "1  22.0  Germany  \n",
       "2  22.0  Germany  \n",
       "3  22.0  Germany  \n",
       "4  22.0  Germany  "
      ]
     },
     "execution_count": 67,
     "metadata": {},
     "output_type": "execute_result"
    }
   ],
   "source": [
    "music_final_df.head()"
   ]
  },
  {
   "cell_type": "code",
   "execution_count": 68,
   "id": "370d51ce",
   "metadata": {},
   "outputs": [
    {
     "data": {
      "text/plain": [
       "array(['Germany', 'Mexico', 'United States', 'United Kingdom', 'Finland',\n",
       "       'Poland', 'Spain', 'Sweden', 'Portugal', 'Australia', 'Belgium',\n",
       "       'Guatemala', 'Netherlands', 'Bulgaria', 'Italy', 'Austria',\n",
       "       'Korea, Republic of', 'Brazil', 'South Africa', 'Japan', 'Greece',\n",
       "       'Russian Federation', 'Iran, Islamic Republic of', 'Ukraine',\n",
       "       'Chile', 'Thailand', 'Norway', 'Slovakia', 'Turkey',\n",
       "       'Czech Republic', 'France', 'El Salvador', 'Belarus', 'Canada',\n",
       "       'Estonia', 'Uruguay', 'Lithuania', 'Ireland', 'Croatia',\n",
       "       'Argentina', 'Lebanon'], dtype=object)"
      ]
     },
     "execution_count": 68,
     "metadata": {},
     "output_type": "execute_result"
    }
   ],
   "source": [
    "music_final_df['country'].unique()"
   ]
  },
  {
   "cell_type": "code",
   "execution_count": 69,
   "id": "88f2dc4a",
   "metadata": {},
   "outputs": [],
   "source": [
    "music_country_mapping = {\n",
    "    'united states': 'united states',\n",
    "    'united kingdom': 'united kingdom',\n",
    "    'korea, republic of': 'south korea',\n",
    "    'korea, democratic people\\'s republic of': 'north korea',\n",
    "    'iran, islamic republic of': 'iran',\n",
    "    'syrian arab republic': 'syria',\n",
    "    'virgin islands, u.s.': 'united states virgin islands',\n",
    "    'tanzania, united republic of': 'tanzania',\n",
    "    'virgin islands, british': 'british virgin islands',\n",
    "    'united states minor outlying islands': 'united states',\n",
    "    'palestinian territory, occupied': 'palestine',\n",
    "    'holy see (vatican city state)': 'vatican city',\n",
    "    \"cote d'ivoire\": 'ivory coast',\n",
    "    'congo, the democratic republic of the': 'democratic republic of the congo',\n",
    "    'falkland islands (malvinas)': 'falkland islands',\n",
    "    'saint kitts and nevis': 'saint kitts and nevis',\n",
    "    'marshall islands': 'marshall islands',\n",
    "}\n",
    "\n",
    "music_final_df['country'] = music_final_df['country'].str.lower().map(music_country_mapping).fillna(music_final_df['country'].str.lower())"
   ]
  },
  {
   "cell_type": "code",
   "execution_count": 70,
   "id": "83b3432a",
   "metadata": {
    "scrolled": false
   },
   "outputs": [
    {
     "data": {
      "text/plain": [
       "array([22., 19., 28., 20., 17., 24., 27., 23., 18., 30., 26., 14., 34.,\n",
       "       31., 21., 32., 16., 47., 29., 54., 33., 57., 36., 25., 45., 15.,\n",
       "       38., 43.])"
      ]
     },
     "execution_count": 70,
     "metadata": {},
     "output_type": "execute_result"
    }
   ],
   "source": [
    "music_final_df['age'].unique()"
   ]
  },
  {
   "cell_type": "code",
   "execution_count": 71,
   "id": "463f1b83",
   "metadata": {},
   "outputs": [],
   "source": [
    "# Convert age values to integers\n",
    "music_final_df['age'] = music_final_df['age'].astype(int)\n",
    "\n",
    "# Remove negative or unrealistic age values\n",
    "music_final_df = music_final_df[(music_final_df['age'] >= 0) & (music_final_df['age'] <= 120)]"
   ]
  },
  {
   "cell_type": "code",
   "execution_count": 72,
   "id": "f28e51aa",
   "metadata": {},
   "outputs": [
    {
     "data": {
      "text/html": [
       "<div>\n",
       "<style scoped>\n",
       "    .dataframe tbody tr th:only-of-type {\n",
       "        vertical-align: middle;\n",
       "    }\n",
       "\n",
       "    .dataframe tbody tr th {\n",
       "        vertical-align: top;\n",
       "    }\n",
       "\n",
       "    .dataframe thead th {\n",
       "        text-align: right;\n",
       "    }\n",
       "</style>\n",
       "<table border=\"1\" class=\"dataframe\">\n",
       "  <thead>\n",
       "    <tr style=\"text-align: right;\">\n",
       "      <th></th>\n",
       "      <th>user_id</th>\n",
       "      <th>artist_name</th>\n",
       "      <th>plays</th>\n",
       "      <th>age</th>\n",
       "      <th>country</th>\n",
       "    </tr>\n",
       "  </thead>\n",
       "  <tbody>\n",
       "    <tr>\n",
       "      <th>0</th>\n",
       "      <td>00000c289a1829a808ac09c00daf10bc3c4e223b</td>\n",
       "      <td>betty blowtorch</td>\n",
       "      <td>2137</td>\n",
       "      <td>22</td>\n",
       "      <td>germany</td>\n",
       "    </tr>\n",
       "    <tr>\n",
       "      <th>1</th>\n",
       "      <td>00000c289a1829a808ac09c00daf10bc3c4e223b</td>\n",
       "      <td>die Ärzte</td>\n",
       "      <td>1099</td>\n",
       "      <td>22</td>\n",
       "      <td>germany</td>\n",
       "    </tr>\n",
       "    <tr>\n",
       "      <th>2</th>\n",
       "      <td>00000c289a1829a808ac09c00daf10bc3c4e223b</td>\n",
       "      <td>melissa etheridge</td>\n",
       "      <td>897</td>\n",
       "      <td>22</td>\n",
       "      <td>germany</td>\n",
       "    </tr>\n",
       "    <tr>\n",
       "      <th>3</th>\n",
       "      <td>00000c289a1829a808ac09c00daf10bc3c4e223b</td>\n",
       "      <td>elvenking</td>\n",
       "      <td>717</td>\n",
       "      <td>22</td>\n",
       "      <td>germany</td>\n",
       "    </tr>\n",
       "    <tr>\n",
       "      <th>4</th>\n",
       "      <td>00000c289a1829a808ac09c00daf10bc3c4e223b</td>\n",
       "      <td>juliette &amp; the licks</td>\n",
       "      <td>706</td>\n",
       "      <td>22</td>\n",
       "      <td>germany</td>\n",
       "    </tr>\n",
       "  </tbody>\n",
       "</table>\n",
       "</div>"
      ],
      "text/plain": [
       "                                    user_id           artist_name  plays  age  \\\n",
       "0  00000c289a1829a808ac09c00daf10bc3c4e223b       betty blowtorch   2137   22   \n",
       "1  00000c289a1829a808ac09c00daf10bc3c4e223b             die Ärzte   1099   22   \n",
       "2  00000c289a1829a808ac09c00daf10bc3c4e223b     melissa etheridge    897   22   \n",
       "3  00000c289a1829a808ac09c00daf10bc3c4e223b             elvenking    717   22   \n",
       "4  00000c289a1829a808ac09c00daf10bc3c4e223b  juliette & the licks    706   22   \n",
       "\n",
       "   country  \n",
       "0  germany  \n",
       "1  germany  \n",
       "2  germany  \n",
       "3  germany  \n",
       "4  germany  "
      ]
     },
     "execution_count": 72,
     "metadata": {},
     "output_type": "execute_result"
    }
   ],
   "source": [
    "music_final_df.head()"
   ]
  },
  {
   "cell_type": "code",
   "execution_count": null,
   "id": "7911f394",
   "metadata": {},
   "outputs": [],
   "source": []
  },
  {
   "cell_type": "code",
   "execution_count": null,
   "id": "4af62627",
   "metadata": {},
   "outputs": [],
   "source": []
  },
  {
   "cell_type": "code",
   "execution_count": 73,
   "id": "fc483609",
   "metadata": {},
   "outputs": [
    {
     "data": {
      "text/plain": [
       "user_id        object\n",
       "artist_name    object\n",
       "plays           int64\n",
       "age             int64\n",
       "country        object\n",
       "dtype: object"
      ]
     },
     "execution_count": 73,
     "metadata": {},
     "output_type": "execute_result"
    }
   ],
   "source": [
    "music_final_df.dtypes"
   ]
  },
  {
   "cell_type": "code",
   "execution_count": 74,
   "id": "ba0374fa",
   "metadata": {},
   "outputs": [
    {
     "data": {
      "text/plain": [
       "user_id         int64\n",
       "gender         object\n",
       "age             int64\n",
       "occupation      int64\n",
       "zip_code       object\n",
       "movie_id      float64\n",
       "rating        float64\n",
       "timestamp     float64\n",
       "title          object\n",
       "genres         object\n",
       "dtype: object"
      ]
     },
     "execution_count": 74,
     "metadata": {},
     "output_type": "execute_result"
    }
   ],
   "source": [
    "movies_final_df.dtypes"
   ]
  },
  {
   "cell_type": "code",
   "execution_count": 75,
   "id": "44f0996c",
   "metadata": {},
   "outputs": [
    {
     "data": {
      "text/plain": [
       "User-ID                 int64\n",
       "ISBN                   object\n",
       "Book-Rating             int64\n",
       "Book-Title             object\n",
       "Book-Author            object\n",
       "Year-Of-Publication     int64\n",
       "Publisher              object\n",
       "age                     int64\n",
       "country                object\n",
       "dtype: object"
      ]
     },
     "execution_count": 75,
     "metadata": {},
     "output_type": "execute_result"
    }
   ],
   "source": [
    "Books_final_df.dtypes"
   ]
  },
  {
   "cell_type": "code",
   "execution_count": 76,
   "id": "64089803",
   "metadata": {},
   "outputs": [],
   "source": [
    "# Create user-item matrix for books\n",
    "books_matrix = Books_final_df.reset_index().pivot_table(index='index', columns='Book-Title', values='Book-Rating', fill_value=0)\n",
    "books_matrix = books_matrix / 10.0  # Normalize book ratings to 0-1 range\n",
    "\n",
    "\n",
    "# Create user-item matrix for music\n",
    "music_matrix = music_final_df.reset_index().pivot_table(index='index', columns='artist_name', values='plays', fill_value=0)\n",
    "music_matrix = music_matrix / music_matrix.max().max()  # Normalize music plays to 0-1 range\n",
    "\n",
    "\n",
    "# Create user-item matrix for movies\n",
    "movies_matrix = movies_final_df.reset_index().pivot_table(index='index', columns='title', values='rating', fill_value=0)\n",
    "movies_matrix = movies_matrix / 5.0  # Normalize movie ratings to 0-1 range"
   ]
  },
  {
   "cell_type": "code",
   "execution_count": 77,
   "id": "4ce62305",
   "metadata": {},
   "outputs": [],
   "source": [
    "# Merge user-item matrices\n",
    "merged_matrix = pd.merge(books_matrix, music_matrix, left_index=True, right_index=True, how='outer')\n",
    "merged_matrix = pd.merge(merged_matrix, movies_matrix, left_index=True, right_index=True, how='outer')\n",
    "merged_matrix.fillna(0, inplace=True)"
   ]
  },
  {
   "cell_type": "code",
   "execution_count": 78,
   "id": "06057431",
   "metadata": {},
   "outputs": [
    {
     "data": {
      "text/html": [
       "<div>\n",
       "<style scoped>\n",
       "    .dataframe tbody tr th:only-of-type {\n",
       "        vertical-align: middle;\n",
       "    }\n",
       "\n",
       "    .dataframe tbody tr th {\n",
       "        vertical-align: top;\n",
       "    }\n",
       "\n",
       "    .dataframe thead th {\n",
       "        text-align: right;\n",
       "    }\n",
       "</style>\n",
       "<table border=\"1\" class=\"dataframe\">\n",
       "  <thead>\n",
       "    <tr style=\"text-align: right;\">\n",
       "      <th></th>\n",
       "      <th>A Kiss Remembered</th>\n",
       "      <th>All He Ever Wanted: A Novel</th>\n",
       "      <th>Always Daddy's Girl: Understanding Your Father's Impact on Who You Are</th>\n",
       "      <th>Angels &amp;amp; Demons</th>\n",
       "      <th>Atonement : A Novel</th>\n",
       "      <th>Before I Say Good-Bye</th>\n",
       "      <th>Black Beauty (Illustrated Classics)</th>\n",
       "      <th>Bless The Beasts And Children : Bless The Beasts And Children</th>\n",
       "      <th>Blood Oath</th>\n",
       "      <th>Breathing Lessons</th>\n",
       "      <th>...</th>\n",
       "      <th>Yojimbo (1961)</th>\n",
       "      <th>You Can't Take It With You (1938)</th>\n",
       "      <th>You've Got Mail (1998)</th>\n",
       "      <th>Young Frankenstein (1974)</th>\n",
       "      <th>Young Guns (1988)</th>\n",
       "      <th>Young Guns II (1990)</th>\n",
       "      <th>Young Sherlock Holmes (1985)</th>\n",
       "      <th>Your Friends and Neighbors (1998)</th>\n",
       "      <th>Zero Effect (1998)</th>\n",
       "      <th>eXistenZ (1999)</th>\n",
       "    </tr>\n",
       "    <tr>\n",
       "      <th>index</th>\n",
       "      <th></th>\n",
       "      <th></th>\n",
       "      <th></th>\n",
       "      <th></th>\n",
       "      <th></th>\n",
       "      <th></th>\n",
       "      <th></th>\n",
       "      <th></th>\n",
       "      <th></th>\n",
       "      <th></th>\n",
       "      <th></th>\n",
       "      <th></th>\n",
       "      <th></th>\n",
       "      <th></th>\n",
       "      <th></th>\n",
       "      <th></th>\n",
       "      <th></th>\n",
       "      <th></th>\n",
       "      <th></th>\n",
       "      <th></th>\n",
       "      <th></th>\n",
       "    </tr>\n",
       "  </thead>\n",
       "  <tbody>\n",
       "    <tr>\n",
       "      <th>0</th>\n",
       "      <td>0.0</td>\n",
       "      <td>0.0</td>\n",
       "      <td>0.0</td>\n",
       "      <td>0.0</td>\n",
       "      <td>0.0</td>\n",
       "      <td>0.0</td>\n",
       "      <td>0.0</td>\n",
       "      <td>0.0</td>\n",
       "      <td>0.0</td>\n",
       "      <td>0.0</td>\n",
       "      <td>...</td>\n",
       "      <td>0.0</td>\n",
       "      <td>0.0</td>\n",
       "      <td>0.0</td>\n",
       "      <td>0.0</td>\n",
       "      <td>0.0</td>\n",
       "      <td>0.0</td>\n",
       "      <td>0.0</td>\n",
       "      <td>0.0</td>\n",
       "      <td>0.0</td>\n",
       "      <td>0.0</td>\n",
       "    </tr>\n",
       "    <tr>\n",
       "      <th>1</th>\n",
       "      <td>0.0</td>\n",
       "      <td>0.0</td>\n",
       "      <td>0.0</td>\n",
       "      <td>0.0</td>\n",
       "      <td>0.0</td>\n",
       "      <td>0.0</td>\n",
       "      <td>0.0</td>\n",
       "      <td>0.0</td>\n",
       "      <td>0.0</td>\n",
       "      <td>0.0</td>\n",
       "      <td>...</td>\n",
       "      <td>0.0</td>\n",
       "      <td>0.0</td>\n",
       "      <td>0.0</td>\n",
       "      <td>0.0</td>\n",
       "      <td>0.0</td>\n",
       "      <td>0.0</td>\n",
       "      <td>0.0</td>\n",
       "      <td>0.0</td>\n",
       "      <td>0.0</td>\n",
       "      <td>0.0</td>\n",
       "    </tr>\n",
       "    <tr>\n",
       "      <th>2</th>\n",
       "      <td>0.0</td>\n",
       "      <td>0.0</td>\n",
       "      <td>0.0</td>\n",
       "      <td>0.0</td>\n",
       "      <td>0.0</td>\n",
       "      <td>0.0</td>\n",
       "      <td>0.0</td>\n",
       "      <td>0.0</td>\n",
       "      <td>0.0</td>\n",
       "      <td>0.0</td>\n",
       "      <td>...</td>\n",
       "      <td>0.0</td>\n",
       "      <td>0.0</td>\n",
       "      <td>0.0</td>\n",
       "      <td>0.0</td>\n",
       "      <td>0.0</td>\n",
       "      <td>0.0</td>\n",
       "      <td>0.0</td>\n",
       "      <td>0.0</td>\n",
       "      <td>0.0</td>\n",
       "      <td>0.0</td>\n",
       "    </tr>\n",
       "    <tr>\n",
       "      <th>3</th>\n",
       "      <td>0.0</td>\n",
       "      <td>0.0</td>\n",
       "      <td>0.0</td>\n",
       "      <td>0.0</td>\n",
       "      <td>0.0</td>\n",
       "      <td>0.0</td>\n",
       "      <td>0.0</td>\n",
       "      <td>0.0</td>\n",
       "      <td>0.0</td>\n",
       "      <td>0.0</td>\n",
       "      <td>...</td>\n",
       "      <td>0.0</td>\n",
       "      <td>0.0</td>\n",
       "      <td>0.0</td>\n",
       "      <td>0.0</td>\n",
       "      <td>0.0</td>\n",
       "      <td>0.0</td>\n",
       "      <td>0.0</td>\n",
       "      <td>0.0</td>\n",
       "      <td>0.0</td>\n",
       "      <td>0.0</td>\n",
       "    </tr>\n",
       "    <tr>\n",
       "      <th>4</th>\n",
       "      <td>0.0</td>\n",
       "      <td>0.0</td>\n",
       "      <td>0.0</td>\n",
       "      <td>0.0</td>\n",
       "      <td>0.0</td>\n",
       "      <td>0.0</td>\n",
       "      <td>0.0</td>\n",
       "      <td>0.0</td>\n",
       "      <td>0.0</td>\n",
       "      <td>0.0</td>\n",
       "      <td>...</td>\n",
       "      <td>0.0</td>\n",
       "      <td>0.0</td>\n",
       "      <td>0.0</td>\n",
       "      <td>0.0</td>\n",
       "      <td>0.0</td>\n",
       "      <td>0.0</td>\n",
       "      <td>0.0</td>\n",
       "      <td>0.0</td>\n",
       "      <td>0.0</td>\n",
       "      <td>0.0</td>\n",
       "    </tr>\n",
       "  </tbody>\n",
       "</table>\n",
       "<p>5 rows × 6855 columns</p>\n",
       "</div>"
      ],
      "text/plain": [
       "       A Kiss Remembered  All He Ever Wanted: A Novel  \\\n",
       "index                                                   \n",
       "0                    0.0                          0.0   \n",
       "1                    0.0                          0.0   \n",
       "2                    0.0                          0.0   \n",
       "3                    0.0                          0.0   \n",
       "4                    0.0                          0.0   \n",
       "\n",
       "       Always Daddy's Girl: Understanding Your Father's Impact on Who You Are  \\\n",
       "index                                                                           \n",
       "0                                                    0.0                        \n",
       "1                                                    0.0                        \n",
       "2                                                    0.0                        \n",
       "3                                                    0.0                        \n",
       "4                                                    0.0                        \n",
       "\n",
       "       Angels &amp; Demons  Atonement : A Novel  Before I Say Good-Bye  \\\n",
       "index                                                                    \n",
       "0                      0.0                  0.0                    0.0   \n",
       "1                      0.0                  0.0                    0.0   \n",
       "2                      0.0                  0.0                    0.0   \n",
       "3                      0.0                  0.0                    0.0   \n",
       "4                      0.0                  0.0                    0.0   \n",
       "\n",
       "       Black Beauty (Illustrated Classics)  \\\n",
       "index                                        \n",
       "0                                      0.0   \n",
       "1                                      0.0   \n",
       "2                                      0.0   \n",
       "3                                      0.0   \n",
       "4                                      0.0   \n",
       "\n",
       "       Bless The Beasts And Children : Bless The Beasts And Children  \\\n",
       "index                                                                  \n",
       "0                                                    0.0               \n",
       "1                                                    0.0               \n",
       "2                                                    0.0               \n",
       "3                                                    0.0               \n",
       "4                                                    0.0               \n",
       "\n",
       "       Blood Oath  Breathing Lessons  ...  Yojimbo (1961)  \\\n",
       "index                                 ...                   \n",
       "0             0.0                0.0  ...             0.0   \n",
       "1             0.0                0.0  ...             0.0   \n",
       "2             0.0                0.0  ...             0.0   \n",
       "3             0.0                0.0  ...             0.0   \n",
       "4             0.0                0.0  ...             0.0   \n",
       "\n",
       "       You Can't Take It With You (1938)  You've Got Mail (1998)  \\\n",
       "index                                                              \n",
       "0                                    0.0                     0.0   \n",
       "1                                    0.0                     0.0   \n",
       "2                                    0.0                     0.0   \n",
       "3                                    0.0                     0.0   \n",
       "4                                    0.0                     0.0   \n",
       "\n",
       "       Young Frankenstein (1974)  Young Guns (1988)  Young Guns II (1990)  \\\n",
       "index                                                                       \n",
       "0                            0.0                0.0                   0.0   \n",
       "1                            0.0                0.0                   0.0   \n",
       "2                            0.0                0.0                   0.0   \n",
       "3                            0.0                0.0                   0.0   \n",
       "4                            0.0                0.0                   0.0   \n",
       "\n",
       "       Young Sherlock Holmes (1985)  Your Friends and Neighbors (1998)  \\\n",
       "index                                                                    \n",
       "0                               0.0                                0.0   \n",
       "1                               0.0                                0.0   \n",
       "2                               0.0                                0.0   \n",
       "3                               0.0                                0.0   \n",
       "4                               0.0                                0.0   \n",
       "\n",
       "       Zero Effect (1998)  eXistenZ (1999)  \n",
       "index                                       \n",
       "0                     0.0              0.0  \n",
       "1                     0.0              0.0  \n",
       "2                     0.0              0.0  \n",
       "3                     0.0              0.0  \n",
       "4                     0.0              0.0  \n",
       "\n",
       "[5 rows x 6855 columns]"
      ]
     },
     "execution_count": 78,
     "metadata": {},
     "output_type": "execute_result"
    }
   ],
   "source": [
    "merged_matrix.head()"
   ]
  },
  {
   "cell_type": "code",
   "execution_count": 79,
   "id": "54ead6fb",
   "metadata": {},
   "outputs": [
    {
     "data": {
      "text/html": [
       "<div>\n",
       "<style scoped>\n",
       "    .dataframe tbody tr th:only-of-type {\n",
       "        vertical-align: middle;\n",
       "    }\n",
       "\n",
       "    .dataframe tbody tr th {\n",
       "        vertical-align: top;\n",
       "    }\n",
       "\n",
       "    .dataframe thead th {\n",
       "        text-align: right;\n",
       "    }\n",
       "</style>\n",
       "<table border=\"1\" class=\"dataframe\">\n",
       "  <thead>\n",
       "    <tr style=\"text-align: right;\">\n",
       "      <th></th>\n",
       "      <th>A Kiss Remembered</th>\n",
       "      <th>All He Ever Wanted: A Novel</th>\n",
       "      <th>Always Daddy's Girl: Understanding Your Father's Impact on Who You Are</th>\n",
       "      <th>Angels &amp;amp; Demons</th>\n",
       "      <th>Atonement : A Novel</th>\n",
       "      <th>Before I Say Good-Bye</th>\n",
       "      <th>Black Beauty (Illustrated Classics)</th>\n",
       "      <th>Bless The Beasts And Children : Bless The Beasts And Children</th>\n",
       "      <th>Blood Oath</th>\n",
       "      <th>Breathing Lessons</th>\n",
       "      <th>...</th>\n",
       "      <th>Yojimbo (1961)</th>\n",
       "      <th>You Can't Take It With You (1938)</th>\n",
       "      <th>You've Got Mail (1998)</th>\n",
       "      <th>Young Frankenstein (1974)</th>\n",
       "      <th>Young Guns (1988)</th>\n",
       "      <th>Young Guns II (1990)</th>\n",
       "      <th>Young Sherlock Holmes (1985)</th>\n",
       "      <th>Your Friends and Neighbors (1998)</th>\n",
       "      <th>Zero Effect (1998)</th>\n",
       "      <th>eXistenZ (1999)</th>\n",
       "    </tr>\n",
       "  </thead>\n",
       "  <tbody>\n",
       "    <tr>\n",
       "      <th>count</th>\n",
       "      <td>10000.00000</td>\n",
       "      <td>10000.00000</td>\n",
       "      <td>10000.0</td>\n",
       "      <td>10000.0000</td>\n",
       "      <td>10000.0</td>\n",
       "      <td>10000.0</td>\n",
       "      <td>10000.0</td>\n",
       "      <td>10000.00000</td>\n",
       "      <td>10000.00000</td>\n",
       "      <td>10000.0</td>\n",
       "      <td>...</td>\n",
       "      <td>10000.000000</td>\n",
       "      <td>10000.00000</td>\n",
       "      <td>10000.000000</td>\n",
       "      <td>10000.000000</td>\n",
       "      <td>10000.000000</td>\n",
       "      <td>10000.00000</td>\n",
       "      <td>10000.000000</td>\n",
       "      <td>10000.0000</td>\n",
       "      <td>10000.000000</td>\n",
       "      <td>10000.000000</td>\n",
       "    </tr>\n",
       "    <tr>\n",
       "      <th>mean</th>\n",
       "      <td>0.00008</td>\n",
       "      <td>0.00007</td>\n",
       "      <td>0.0</td>\n",
       "      <td>0.0001</td>\n",
       "      <td>0.0</td>\n",
       "      <td>0.0</td>\n",
       "      <td>0.0</td>\n",
       "      <td>0.00005</td>\n",
       "      <td>0.00007</td>\n",
       "      <td>0.0</td>\n",
       "      <td>...</td>\n",
       "      <td>0.000380</td>\n",
       "      <td>0.00008</td>\n",
       "      <td>0.000720</td>\n",
       "      <td>0.001160</td>\n",
       "      <td>0.000360</td>\n",
       "      <td>0.00028</td>\n",
       "      <td>0.000280</td>\n",
       "      <td>0.0001</td>\n",
       "      <td>0.000200</td>\n",
       "      <td>0.000260</td>\n",
       "    </tr>\n",
       "    <tr>\n",
       "      <th>std</th>\n",
       "      <td>0.00800</td>\n",
       "      <td>0.00700</td>\n",
       "      <td>0.0</td>\n",
       "      <td>0.0100</td>\n",
       "      <td>0.0</td>\n",
       "      <td>0.0</td>\n",
       "      <td>0.0</td>\n",
       "      <td>0.00500</td>\n",
       "      <td>0.00700</td>\n",
       "      <td>0.0</td>\n",
       "      <td>...</td>\n",
       "      <td>0.018218</td>\n",
       "      <td>0.00800</td>\n",
       "      <td>0.023655</td>\n",
       "      <td>0.031855</td>\n",
       "      <td>0.016489</td>\n",
       "      <td>0.01414</td>\n",
       "      <td>0.012959</td>\n",
       "      <td>0.0100</td>\n",
       "      <td>0.012328</td>\n",
       "      <td>0.012488</td>\n",
       "    </tr>\n",
       "    <tr>\n",
       "      <th>min</th>\n",
       "      <td>0.00000</td>\n",
       "      <td>0.00000</td>\n",
       "      <td>0.0</td>\n",
       "      <td>0.0000</td>\n",
       "      <td>0.0</td>\n",
       "      <td>0.0</td>\n",
       "      <td>0.0</td>\n",
       "      <td>0.00000</td>\n",
       "      <td>0.00000</td>\n",
       "      <td>0.0</td>\n",
       "      <td>...</td>\n",
       "      <td>0.000000</td>\n",
       "      <td>0.00000</td>\n",
       "      <td>0.000000</td>\n",
       "      <td>0.000000</td>\n",
       "      <td>0.000000</td>\n",
       "      <td>0.00000</td>\n",
       "      <td>0.000000</td>\n",
       "      <td>0.0000</td>\n",
       "      <td>0.000000</td>\n",
       "      <td>0.000000</td>\n",
       "    </tr>\n",
       "    <tr>\n",
       "      <th>25%</th>\n",
       "      <td>0.00000</td>\n",
       "      <td>0.00000</td>\n",
       "      <td>0.0</td>\n",
       "      <td>0.0000</td>\n",
       "      <td>0.0</td>\n",
       "      <td>0.0</td>\n",
       "      <td>0.0</td>\n",
       "      <td>0.00000</td>\n",
       "      <td>0.00000</td>\n",
       "      <td>0.0</td>\n",
       "      <td>...</td>\n",
       "      <td>0.000000</td>\n",
       "      <td>0.00000</td>\n",
       "      <td>0.000000</td>\n",
       "      <td>0.000000</td>\n",
       "      <td>0.000000</td>\n",
       "      <td>0.00000</td>\n",
       "      <td>0.000000</td>\n",
       "      <td>0.0000</td>\n",
       "      <td>0.000000</td>\n",
       "      <td>0.000000</td>\n",
       "    </tr>\n",
       "    <tr>\n",
       "      <th>50%</th>\n",
       "      <td>0.00000</td>\n",
       "      <td>0.00000</td>\n",
       "      <td>0.0</td>\n",
       "      <td>0.0000</td>\n",
       "      <td>0.0</td>\n",
       "      <td>0.0</td>\n",
       "      <td>0.0</td>\n",
       "      <td>0.00000</td>\n",
       "      <td>0.00000</td>\n",
       "      <td>0.0</td>\n",
       "      <td>...</td>\n",
       "      <td>0.000000</td>\n",
       "      <td>0.00000</td>\n",
       "      <td>0.000000</td>\n",
       "      <td>0.000000</td>\n",
       "      <td>0.000000</td>\n",
       "      <td>0.00000</td>\n",
       "      <td>0.000000</td>\n",
       "      <td>0.0000</td>\n",
       "      <td>0.000000</td>\n",
       "      <td>0.000000</td>\n",
       "    </tr>\n",
       "    <tr>\n",
       "      <th>75%</th>\n",
       "      <td>0.00000</td>\n",
       "      <td>0.00000</td>\n",
       "      <td>0.0</td>\n",
       "      <td>0.0000</td>\n",
       "      <td>0.0</td>\n",
       "      <td>0.0</td>\n",
       "      <td>0.0</td>\n",
       "      <td>0.00000</td>\n",
       "      <td>0.00000</td>\n",
       "      <td>0.0</td>\n",
       "      <td>...</td>\n",
       "      <td>0.000000</td>\n",
       "      <td>0.00000</td>\n",
       "      <td>0.000000</td>\n",
       "      <td>0.000000</td>\n",
       "      <td>0.000000</td>\n",
       "      <td>0.00000</td>\n",
       "      <td>0.000000</td>\n",
       "      <td>0.0000</td>\n",
       "      <td>0.000000</td>\n",
       "      <td>0.000000</td>\n",
       "    </tr>\n",
       "    <tr>\n",
       "      <th>max</th>\n",
       "      <td>0.80000</td>\n",
       "      <td>0.70000</td>\n",
       "      <td>0.0</td>\n",
       "      <td>1.0000</td>\n",
       "      <td>0.0</td>\n",
       "      <td>0.0</td>\n",
       "      <td>0.0</td>\n",
       "      <td>0.50000</td>\n",
       "      <td>0.70000</td>\n",
       "      <td>0.0</td>\n",
       "      <td>...</td>\n",
       "      <td>1.000000</td>\n",
       "      <td>0.80000</td>\n",
       "      <td>1.000000</td>\n",
       "      <td>1.000000</td>\n",
       "      <td>1.000000</td>\n",
       "      <td>0.80000</td>\n",
       "      <td>0.800000</td>\n",
       "      <td>1.0000</td>\n",
       "      <td>1.000000</td>\n",
       "      <td>0.800000</td>\n",
       "    </tr>\n",
       "  </tbody>\n",
       "</table>\n",
       "<p>8 rows × 6855 columns</p>\n",
       "</div>"
      ],
      "text/plain": [
       "       A Kiss Remembered  All He Ever Wanted: A Novel  \\\n",
       "count        10000.00000                  10000.00000   \n",
       "mean             0.00008                      0.00007   \n",
       "std              0.00800                      0.00700   \n",
       "min              0.00000                      0.00000   \n",
       "25%              0.00000                      0.00000   \n",
       "50%              0.00000                      0.00000   \n",
       "75%              0.00000                      0.00000   \n",
       "max              0.80000                      0.70000   \n",
       "\n",
       "       Always Daddy's Girl: Understanding Your Father's Impact on Who You Are  \\\n",
       "count                                            10000.0                        \n",
       "mean                                                 0.0                        \n",
       "std                                                  0.0                        \n",
       "min                                                  0.0                        \n",
       "25%                                                  0.0                        \n",
       "50%                                                  0.0                        \n",
       "75%                                                  0.0                        \n",
       "max                                                  0.0                        \n",
       "\n",
       "       Angels &amp; Demons  Atonement : A Novel  Before I Say Good-Bye  \\\n",
       "count           10000.0000              10000.0                10000.0   \n",
       "mean                0.0001                  0.0                    0.0   \n",
       "std                 0.0100                  0.0                    0.0   \n",
       "min                 0.0000                  0.0                    0.0   \n",
       "25%                 0.0000                  0.0                    0.0   \n",
       "50%                 0.0000                  0.0                    0.0   \n",
       "75%                 0.0000                  0.0                    0.0   \n",
       "max                 1.0000                  0.0                    0.0   \n",
       "\n",
       "       Black Beauty (Illustrated Classics)  \\\n",
       "count                              10000.0   \n",
       "mean                                   0.0   \n",
       "std                                    0.0   \n",
       "min                                    0.0   \n",
       "25%                                    0.0   \n",
       "50%                                    0.0   \n",
       "75%                                    0.0   \n",
       "max                                    0.0   \n",
       "\n",
       "       Bless The Beasts And Children : Bless The Beasts And Children  \\\n",
       "count                                        10000.00000               \n",
       "mean                                             0.00005               \n",
       "std                                              0.00500               \n",
       "min                                              0.00000               \n",
       "25%                                              0.00000               \n",
       "50%                                              0.00000               \n",
       "75%                                              0.00000               \n",
       "max                                              0.50000               \n",
       "\n",
       "        Blood Oath  Breathing Lessons  ...  Yojimbo (1961)  \\\n",
       "count  10000.00000            10000.0  ...    10000.000000   \n",
       "mean       0.00007                0.0  ...        0.000380   \n",
       "std        0.00700                0.0  ...        0.018218   \n",
       "min        0.00000                0.0  ...        0.000000   \n",
       "25%        0.00000                0.0  ...        0.000000   \n",
       "50%        0.00000                0.0  ...        0.000000   \n",
       "75%        0.00000                0.0  ...        0.000000   \n",
       "max        0.70000                0.0  ...        1.000000   \n",
       "\n",
       "       You Can't Take It With You (1938)  You've Got Mail (1998)  \\\n",
       "count                        10000.00000            10000.000000   \n",
       "mean                             0.00008                0.000720   \n",
       "std                              0.00800                0.023655   \n",
       "min                              0.00000                0.000000   \n",
       "25%                              0.00000                0.000000   \n",
       "50%                              0.00000                0.000000   \n",
       "75%                              0.00000                0.000000   \n",
       "max                              0.80000                1.000000   \n",
       "\n",
       "       Young Frankenstein (1974)  Young Guns (1988)  Young Guns II (1990)  \\\n",
       "count               10000.000000       10000.000000           10000.00000   \n",
       "mean                    0.001160           0.000360               0.00028   \n",
       "std                     0.031855           0.016489               0.01414   \n",
       "min                     0.000000           0.000000               0.00000   \n",
       "25%                     0.000000           0.000000               0.00000   \n",
       "50%                     0.000000           0.000000               0.00000   \n",
       "75%                     0.000000           0.000000               0.00000   \n",
       "max                     1.000000           1.000000               0.80000   \n",
       "\n",
       "       Young Sherlock Holmes (1985)  Your Friends and Neighbors (1998)  \\\n",
       "count                  10000.000000                         10000.0000   \n",
       "mean                       0.000280                             0.0001   \n",
       "std                        0.012959                             0.0100   \n",
       "min                        0.000000                             0.0000   \n",
       "25%                        0.000000                             0.0000   \n",
       "50%                        0.000000                             0.0000   \n",
       "75%                        0.000000                             0.0000   \n",
       "max                        0.800000                             1.0000   \n",
       "\n",
       "       Zero Effect (1998)  eXistenZ (1999)  \n",
       "count        10000.000000     10000.000000  \n",
       "mean             0.000200         0.000260  \n",
       "std              0.012328         0.012488  \n",
       "min              0.000000         0.000000  \n",
       "25%              0.000000         0.000000  \n",
       "50%              0.000000         0.000000  \n",
       "75%              0.000000         0.000000  \n",
       "max              1.000000         0.800000  \n",
       "\n",
       "[8 rows x 6855 columns]"
      ]
     },
     "execution_count": 79,
     "metadata": {},
     "output_type": "execute_result"
    }
   ],
   "source": [
    "merged_matrix.describe()"
   ]
  },
  {
   "cell_type": "code",
   "execution_count": null,
   "id": "12c37cb6",
   "metadata": {},
   "outputs": [],
   "source": []
  },
  {
   "cell_type": "code",
   "execution_count": null,
   "id": "c68ca7d7",
   "metadata": {},
   "outputs": [],
   "source": []
  },
  {
   "cell_type": "code",
   "execution_count": null,
   "id": "2cd16328",
   "metadata": {},
   "outputs": [],
   "source": []
  },
  {
   "cell_type": "code",
   "execution_count": 80,
   "id": "62ba53f2",
   "metadata": {},
   "outputs": [
    {
     "name": "stdout",
     "output_type": "stream",
     "text": [
      "Sparsity: 99.97%\n"
     ]
    }
   ],
   "source": [
    "#Formula for calculating sparsity\n",
    "sparsity = 1.0 - (merged_matrix.astype(bool).sum().sum() / (merged_matrix.shape[0] * merged_matrix.shape[1]))\n",
    "print(f\"Sparsity: {sparsity:.2%}\")"
   ]
  },
  {
   "cell_type": "markdown",
   "id": "5159ef3f",
   "metadata": {},
   "source": [
    "I will need to think of a way to deal with this sparsity later"
   ]
  },
  {
   "cell_type": "code",
   "execution_count": null,
   "id": "7a926be9",
   "metadata": {},
   "outputs": [],
   "source": []
  },
  {
   "cell_type": "code",
   "execution_count": null,
   "id": "7534a84b",
   "metadata": {},
   "outputs": [],
   "source": []
  },
  {
   "cell_type": "code",
   "execution_count": 81,
   "id": "1073e2b1",
   "metadata": {},
   "outputs": [],
   "source": [
    "# Create a copy of the merged matrix for implicit ratings\n",
    "merged_matrix_implicit = merged_matrix.copy()\n",
    "\n",
    "# Set non-zero values to 1 (implicit positive interaction)\n",
    "merged_matrix_implicit[merged_matrix_implicit > 0] = 1"
   ]
  },
  {
   "cell_type": "code",
   "execution_count": 82,
   "id": "df4a6749",
   "metadata": {},
   "outputs": [
    {
     "data": {
      "text/html": [
       "<div>\n",
       "<style scoped>\n",
       "    .dataframe tbody tr th:only-of-type {\n",
       "        vertical-align: middle;\n",
       "    }\n",
       "\n",
       "    .dataframe tbody tr th {\n",
       "        vertical-align: top;\n",
       "    }\n",
       "\n",
       "    .dataframe thead th {\n",
       "        text-align: right;\n",
       "    }\n",
       "</style>\n",
       "<table border=\"1\" class=\"dataframe\">\n",
       "  <thead>\n",
       "    <tr style=\"text-align: right;\">\n",
       "      <th></th>\n",
       "      <th>A Kiss Remembered</th>\n",
       "      <th>All He Ever Wanted: A Novel</th>\n",
       "      <th>Always Daddy's Girl: Understanding Your Father's Impact on Who You Are</th>\n",
       "      <th>Angels &amp;amp; Demons</th>\n",
       "      <th>Atonement : A Novel</th>\n",
       "      <th>Before I Say Good-Bye</th>\n",
       "      <th>Black Beauty (Illustrated Classics)</th>\n",
       "      <th>Bless The Beasts And Children : Bless The Beasts And Children</th>\n",
       "      <th>Blood Oath</th>\n",
       "      <th>Breathing Lessons</th>\n",
       "      <th>...</th>\n",
       "      <th>Yojimbo (1961)</th>\n",
       "      <th>You Can't Take It With You (1938)</th>\n",
       "      <th>You've Got Mail (1998)</th>\n",
       "      <th>Young Frankenstein (1974)</th>\n",
       "      <th>Young Guns (1988)</th>\n",
       "      <th>Young Guns II (1990)</th>\n",
       "      <th>Young Sherlock Holmes (1985)</th>\n",
       "      <th>Your Friends and Neighbors (1998)</th>\n",
       "      <th>Zero Effect (1998)</th>\n",
       "      <th>eXistenZ (1999)</th>\n",
       "    </tr>\n",
       "  </thead>\n",
       "  <tbody>\n",
       "    <tr>\n",
       "      <th>count</th>\n",
       "      <td>10000.0000</td>\n",
       "      <td>10000.0000</td>\n",
       "      <td>10000.0</td>\n",
       "      <td>10000.0000</td>\n",
       "      <td>10000.0</td>\n",
       "      <td>10000.0</td>\n",
       "      <td>10000.0</td>\n",
       "      <td>10000.0000</td>\n",
       "      <td>10000.0000</td>\n",
       "      <td>10000.0</td>\n",
       "      <td>...</td>\n",
       "      <td>10000.000000</td>\n",
       "      <td>10000.0000</td>\n",
       "      <td>10000.000000</td>\n",
       "      <td>10000.000000</td>\n",
       "      <td>10000.000000</td>\n",
       "      <td>10000.000000</td>\n",
       "      <td>10000.000000</td>\n",
       "      <td>10000.0000</td>\n",
       "      <td>10000.000000</td>\n",
       "      <td>10000.000000</td>\n",
       "    </tr>\n",
       "    <tr>\n",
       "      <th>mean</th>\n",
       "      <td>0.0001</td>\n",
       "      <td>0.0001</td>\n",
       "      <td>0.0</td>\n",
       "      <td>0.0001</td>\n",
       "      <td>0.0</td>\n",
       "      <td>0.0</td>\n",
       "      <td>0.0</td>\n",
       "      <td>0.0001</td>\n",
       "      <td>0.0001</td>\n",
       "      <td>0.0</td>\n",
       "      <td>...</td>\n",
       "      <td>0.000500</td>\n",
       "      <td>0.0001</td>\n",
       "      <td>0.001000</td>\n",
       "      <td>0.001400</td>\n",
       "      <td>0.000500</td>\n",
       "      <td>0.000400</td>\n",
       "      <td>0.000500</td>\n",
       "      <td>0.0001</td>\n",
       "      <td>0.000300</td>\n",
       "      <td>0.000500</td>\n",
       "    </tr>\n",
       "    <tr>\n",
       "      <th>std</th>\n",
       "      <td>0.0100</td>\n",
       "      <td>0.0100</td>\n",
       "      <td>0.0</td>\n",
       "      <td>0.0100</td>\n",
       "      <td>0.0</td>\n",
       "      <td>0.0</td>\n",
       "      <td>0.0</td>\n",
       "      <td>0.0100</td>\n",
       "      <td>0.0100</td>\n",
       "      <td>0.0</td>\n",
       "      <td>...</td>\n",
       "      <td>0.022356</td>\n",
       "      <td>0.0100</td>\n",
       "      <td>0.031609</td>\n",
       "      <td>0.037392</td>\n",
       "      <td>0.022356</td>\n",
       "      <td>0.019997</td>\n",
       "      <td>0.022356</td>\n",
       "      <td>0.0100</td>\n",
       "      <td>0.017319</td>\n",
       "      <td>0.022356</td>\n",
       "    </tr>\n",
       "    <tr>\n",
       "      <th>min</th>\n",
       "      <td>0.0000</td>\n",
       "      <td>0.0000</td>\n",
       "      <td>0.0</td>\n",
       "      <td>0.0000</td>\n",
       "      <td>0.0</td>\n",
       "      <td>0.0</td>\n",
       "      <td>0.0</td>\n",
       "      <td>0.0000</td>\n",
       "      <td>0.0000</td>\n",
       "      <td>0.0</td>\n",
       "      <td>...</td>\n",
       "      <td>0.000000</td>\n",
       "      <td>0.0000</td>\n",
       "      <td>0.000000</td>\n",
       "      <td>0.000000</td>\n",
       "      <td>0.000000</td>\n",
       "      <td>0.000000</td>\n",
       "      <td>0.000000</td>\n",
       "      <td>0.0000</td>\n",
       "      <td>0.000000</td>\n",
       "      <td>0.000000</td>\n",
       "    </tr>\n",
       "    <tr>\n",
       "      <th>25%</th>\n",
       "      <td>0.0000</td>\n",
       "      <td>0.0000</td>\n",
       "      <td>0.0</td>\n",
       "      <td>0.0000</td>\n",
       "      <td>0.0</td>\n",
       "      <td>0.0</td>\n",
       "      <td>0.0</td>\n",
       "      <td>0.0000</td>\n",
       "      <td>0.0000</td>\n",
       "      <td>0.0</td>\n",
       "      <td>...</td>\n",
       "      <td>0.000000</td>\n",
       "      <td>0.0000</td>\n",
       "      <td>0.000000</td>\n",
       "      <td>0.000000</td>\n",
       "      <td>0.000000</td>\n",
       "      <td>0.000000</td>\n",
       "      <td>0.000000</td>\n",
       "      <td>0.0000</td>\n",
       "      <td>0.000000</td>\n",
       "      <td>0.000000</td>\n",
       "    </tr>\n",
       "    <tr>\n",
       "      <th>50%</th>\n",
       "      <td>0.0000</td>\n",
       "      <td>0.0000</td>\n",
       "      <td>0.0</td>\n",
       "      <td>0.0000</td>\n",
       "      <td>0.0</td>\n",
       "      <td>0.0</td>\n",
       "      <td>0.0</td>\n",
       "      <td>0.0000</td>\n",
       "      <td>0.0000</td>\n",
       "      <td>0.0</td>\n",
       "      <td>...</td>\n",
       "      <td>0.000000</td>\n",
       "      <td>0.0000</td>\n",
       "      <td>0.000000</td>\n",
       "      <td>0.000000</td>\n",
       "      <td>0.000000</td>\n",
       "      <td>0.000000</td>\n",
       "      <td>0.000000</td>\n",
       "      <td>0.0000</td>\n",
       "      <td>0.000000</td>\n",
       "      <td>0.000000</td>\n",
       "    </tr>\n",
       "    <tr>\n",
       "      <th>75%</th>\n",
       "      <td>0.0000</td>\n",
       "      <td>0.0000</td>\n",
       "      <td>0.0</td>\n",
       "      <td>0.0000</td>\n",
       "      <td>0.0</td>\n",
       "      <td>0.0</td>\n",
       "      <td>0.0</td>\n",
       "      <td>0.0000</td>\n",
       "      <td>0.0000</td>\n",
       "      <td>0.0</td>\n",
       "      <td>...</td>\n",
       "      <td>0.000000</td>\n",
       "      <td>0.0000</td>\n",
       "      <td>0.000000</td>\n",
       "      <td>0.000000</td>\n",
       "      <td>0.000000</td>\n",
       "      <td>0.000000</td>\n",
       "      <td>0.000000</td>\n",
       "      <td>0.0000</td>\n",
       "      <td>0.000000</td>\n",
       "      <td>0.000000</td>\n",
       "    </tr>\n",
       "    <tr>\n",
       "      <th>max</th>\n",
       "      <td>1.0000</td>\n",
       "      <td>1.0000</td>\n",
       "      <td>0.0</td>\n",
       "      <td>1.0000</td>\n",
       "      <td>0.0</td>\n",
       "      <td>0.0</td>\n",
       "      <td>0.0</td>\n",
       "      <td>1.0000</td>\n",
       "      <td>1.0000</td>\n",
       "      <td>0.0</td>\n",
       "      <td>...</td>\n",
       "      <td>1.000000</td>\n",
       "      <td>1.0000</td>\n",
       "      <td>1.000000</td>\n",
       "      <td>1.000000</td>\n",
       "      <td>1.000000</td>\n",
       "      <td>1.000000</td>\n",
       "      <td>1.000000</td>\n",
       "      <td>1.0000</td>\n",
       "      <td>1.000000</td>\n",
       "      <td>1.000000</td>\n",
       "    </tr>\n",
       "  </tbody>\n",
       "</table>\n",
       "<p>8 rows × 6855 columns</p>\n",
       "</div>"
      ],
      "text/plain": [
       "       A Kiss Remembered  All He Ever Wanted: A Novel  \\\n",
       "count         10000.0000                   10000.0000   \n",
       "mean              0.0001                       0.0001   \n",
       "std               0.0100                       0.0100   \n",
       "min               0.0000                       0.0000   \n",
       "25%               0.0000                       0.0000   \n",
       "50%               0.0000                       0.0000   \n",
       "75%               0.0000                       0.0000   \n",
       "max               1.0000                       1.0000   \n",
       "\n",
       "       Always Daddy's Girl: Understanding Your Father's Impact on Who You Are  \\\n",
       "count                                            10000.0                        \n",
       "mean                                                 0.0                        \n",
       "std                                                  0.0                        \n",
       "min                                                  0.0                        \n",
       "25%                                                  0.0                        \n",
       "50%                                                  0.0                        \n",
       "75%                                                  0.0                        \n",
       "max                                                  0.0                        \n",
       "\n",
       "       Angels &amp; Demons  Atonement : A Novel  Before I Say Good-Bye  \\\n",
       "count           10000.0000              10000.0                10000.0   \n",
       "mean                0.0001                  0.0                    0.0   \n",
       "std                 0.0100                  0.0                    0.0   \n",
       "min                 0.0000                  0.0                    0.0   \n",
       "25%                 0.0000                  0.0                    0.0   \n",
       "50%                 0.0000                  0.0                    0.0   \n",
       "75%                 0.0000                  0.0                    0.0   \n",
       "max                 1.0000                  0.0                    0.0   \n",
       "\n",
       "       Black Beauty (Illustrated Classics)  \\\n",
       "count                              10000.0   \n",
       "mean                                   0.0   \n",
       "std                                    0.0   \n",
       "min                                    0.0   \n",
       "25%                                    0.0   \n",
       "50%                                    0.0   \n",
       "75%                                    0.0   \n",
       "max                                    0.0   \n",
       "\n",
       "       Bless The Beasts And Children : Bless The Beasts And Children  \\\n",
       "count                                         10000.0000               \n",
       "mean                                              0.0001               \n",
       "std                                               0.0100               \n",
       "min                                               0.0000               \n",
       "25%                                               0.0000               \n",
       "50%                                               0.0000               \n",
       "75%                                               0.0000               \n",
       "max                                               1.0000               \n",
       "\n",
       "       Blood Oath  Breathing Lessons  ...  Yojimbo (1961)  \\\n",
       "count  10000.0000            10000.0  ...    10000.000000   \n",
       "mean       0.0001                0.0  ...        0.000500   \n",
       "std        0.0100                0.0  ...        0.022356   \n",
       "min        0.0000                0.0  ...        0.000000   \n",
       "25%        0.0000                0.0  ...        0.000000   \n",
       "50%        0.0000                0.0  ...        0.000000   \n",
       "75%        0.0000                0.0  ...        0.000000   \n",
       "max        1.0000                0.0  ...        1.000000   \n",
       "\n",
       "       You Can't Take It With You (1938)  You've Got Mail (1998)  \\\n",
       "count                         10000.0000            10000.000000   \n",
       "mean                              0.0001                0.001000   \n",
       "std                               0.0100                0.031609   \n",
       "min                               0.0000                0.000000   \n",
       "25%                               0.0000                0.000000   \n",
       "50%                               0.0000                0.000000   \n",
       "75%                               0.0000                0.000000   \n",
       "max                               1.0000                1.000000   \n",
       "\n",
       "       Young Frankenstein (1974)  Young Guns (1988)  Young Guns II (1990)  \\\n",
       "count               10000.000000       10000.000000          10000.000000   \n",
       "mean                    0.001400           0.000500              0.000400   \n",
       "std                     0.037392           0.022356              0.019997   \n",
       "min                     0.000000           0.000000              0.000000   \n",
       "25%                     0.000000           0.000000              0.000000   \n",
       "50%                     0.000000           0.000000              0.000000   \n",
       "75%                     0.000000           0.000000              0.000000   \n",
       "max                     1.000000           1.000000              1.000000   \n",
       "\n",
       "       Young Sherlock Holmes (1985)  Your Friends and Neighbors (1998)  \\\n",
       "count                  10000.000000                         10000.0000   \n",
       "mean                       0.000500                             0.0001   \n",
       "std                        0.022356                             0.0100   \n",
       "min                        0.000000                             0.0000   \n",
       "25%                        0.000000                             0.0000   \n",
       "50%                        0.000000                             0.0000   \n",
       "75%                        0.000000                             0.0000   \n",
       "max                        1.000000                             1.0000   \n",
       "\n",
       "       Zero Effect (1998)  eXistenZ (1999)  \n",
       "count        10000.000000     10000.000000  \n",
       "mean             0.000300         0.000500  \n",
       "std              0.017319         0.022356  \n",
       "min              0.000000         0.000000  \n",
       "25%              0.000000         0.000000  \n",
       "50%              0.000000         0.000000  \n",
       "75%              0.000000         0.000000  \n",
       "max              1.000000         1.000000  \n",
       "\n",
       "[8 rows x 6855 columns]"
      ]
     },
     "execution_count": 82,
     "metadata": {},
     "output_type": "execute_result"
    }
   ],
   "source": [
    "merged_matrix_implicit.describe()"
   ]
  },
  {
   "cell_type": "code",
   "execution_count": null,
   "id": "f3cc58bc",
   "metadata": {},
   "outputs": [],
   "source": []
  },
  {
   "cell_type": "code",
   "execution_count": null,
   "id": "b822f981",
   "metadata": {},
   "outputs": [],
   "source": []
  },
  {
   "cell_type": "code",
   "execution_count": 83,
   "id": "28125732",
   "metadata": {},
   "outputs": [],
   "source": [
    "# Define the path to the directory where you want to save the CSV files\n",
    "save_directory = os.path.join(\"..\", \"Data\", \"Cleaned-Data\")"
   ]
  },
  {
   "cell_type": "code",
   "execution_count": 84,
   "id": "52830227",
   "metadata": {},
   "outputs": [],
   "source": [
    "# Define the file path\n",
    "implicit_path = os.path.join(save_directory, 'merged_matrix_implicit.csv')"
   ]
  },
  {
   "cell_type": "code",
   "execution_count": 86,
   "id": "3ec1fdb6",
   "metadata": {},
   "outputs": [],
   "source": [
    "# Save the data to CSV files\n",
    "merged_matrix_implicit.to_csv(implicit_path, index=False)"
   ]
  },
  {
   "cell_type": "code",
   "execution_count": 89,
   "id": "12107f91",
   "metadata": {},
   "outputs": [
    {
     "name": "stdout",
     "output_type": "stream",
     "text": [
      "Training Data Shape: (8000, 6855)\n",
      "Testing Data Shape: (2000, 6855)\n",
      "Implicit Matrix Shape: (10000, 6855)\n"
     ]
    }
   ],
   "source": [
    "# Verify shape\n",
    "print(f\"Implicit Matrix Shape: {merged_matrix_implicit.shape}\")"
   ]
  },
  {
   "cell_type": "code",
   "execution_count": null,
   "id": "dd526497",
   "metadata": {},
   "outputs": [],
   "source": []
  }
 ],
 "metadata": {
  "kernelspec": {
   "display_name": "Python 3 (ipykernel)",
   "language": "python",
   "name": "python3"
  },
  "language_info": {
   "codemirror_mode": {
    "name": "ipython",
    "version": 3
   },
   "file_extension": ".py",
   "mimetype": "text/x-python",
   "name": "python",
   "nbconvert_exporter": "python",
   "pygments_lexer": "ipython3",
   "version": "3.11.5"
  }
 },
 "nbformat": 4,
 "nbformat_minor": 5
}
