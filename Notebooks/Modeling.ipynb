{
 "cells": [
  {
   "cell_type": "code",
   "execution_count": 1,
   "id": "f65fc0cb",
   "metadata": {},
   "outputs": [],
   "source": [
    "import os\n",
    "import pandas as pd\n",
    "import numpy as np\n",
    "from scipy.sparse import csr_matrix\n",
    "from sklearn.model_selection import train_test_split\n",
    "from scipy.sparse.linalg import svds\n",
    "from sklearn.metrics import mean_squared_error, precision_score, recall_score, f1_score\n",
    "from sklearn.decomposition import TruncatedSVD\n",
    "from sklearn.pipeline import make_pipeline\n",
    "from pyspark.sql import SparkSession\n",
    "from pyspark.ml.recommendation import ALS\n",
    "from pyspark.ml.evaluation import RegressionEvaluator\n",
    "from pyspark.ml.tuning import CrossValidator, ParamGridBuilder\n",
    "\n",
    "import tensorflow as tf\n",
    "from tensorflow.keras.models import Model\n",
    "from tensorflow.keras.layers import Input, Embedding, Flatten, Concatenate, Dense, Dropout\n",
    "from tensorflow.keras.regularizers import l2\n",
    "from tensorflow.keras.optimizers import Adam\n",
    "from itertools import product"
   ]
  },
  {
   "cell_type": "code",
   "execution_count": null,
   "id": "c6b06224",
   "metadata": {},
   "outputs": [],
   "source": []
  },
  {
   "cell_type": "markdown",
   "id": "e7aaf932",
   "metadata": {},
   "source": [
    "### Data Loading\n",
    "We start by loading the preprocessed user-item matrix saved from the data cleaning step. This data will be split into training and testing sets for model development."
   ]
  },
  {
   "cell_type": "code",
   "execution_count": 2,
   "id": "a83db5da",
   "metadata": {},
   "outputs": [],
   "source": [
    "# Read the CSV file into a DataFrame\n",
    "#Load the user-item matrix\n",
    "user_item = os.path.join(\"..\", \"Data\", \"Cleaned-Data\", 'user_item_filtered.csv')\n",
    "user_item_df = pd.read_csv(user_item)\n",
    "\n",
    "# Convert the DataFrame to a sparse matrix\n",
    "user_item_filtered = csr_matrix(user_item_df.values)"
   ]
  },
  {
   "cell_type": "code",
   "execution_count": null,
   "id": "8478a88e",
   "metadata": {},
   "outputs": [],
   "source": []
  },
  {
   "cell_type": "markdown",
   "id": "70825b16",
   "metadata": {},
   "source": [
    "### Train/Test Split\n",
    "We split the user-item interaction matrix into training and testing subsets. This allows us to train our models on a portion of the data and evaluate their performance on unseen data."
   ]
  },
  {
   "cell_type": "code",
   "execution_count": 3,
   "id": "31b18040",
   "metadata": {},
   "outputs": [],
   "source": [
    "# Split the user-item interaction matrix into train and test subsets\n",
    "train_data, test_data = train_test_split(user_item_filtered, test_size=0.2, random_state=42)"
   ]
  },
  {
   "cell_type": "markdown",
   "id": "6b7a4d7e",
   "metadata": {},
   "source": [
    "### Model 1: Singular Value Decomposition (SVD)\n",
    "The first model we develop is based on SVD. SVD is a popular technique for matrix factorization in recommendation systems, especially useful for capturing latent features in sparse matrices."
   ]
  },
  {
   "cell_type": "code",
   "execution_count": 4,
   "id": "7a0574e5",
   "metadata": {},
   "outputs": [
    {
     "name": "stdout",
     "output_type": "stream",
     "text": [
      "Length of actual ratings: (1824,)\n",
      "Length of predicted ratings: (1824,)\n",
      "RMSE: 0.9996157395847921\n"
     ]
    }
   ],
   "source": [
    "# Perform SVD on the training data\n",
    "u, s, vt = svds(train_data, k=100)\n",
    "\n",
    "# Convert singular values to a diagonal matrix\n",
    "s_diag = np.diag(s)\n",
    "\n",
    "# Predict ratings for the test data\n",
    "predicted_ratings = np.dot(np.dot(u, s_diag), vt)\n",
    "\n",
    "# Get the non-zero indices of the test data\n",
    "test_nonzero_indices = test_data.nonzero()\n",
    "\n",
    "# Get the actual ratings from the test data\n",
    "actual_ratings = np.array(test_data[test_nonzero_indices].data).ravel()\n",
    "\n",
    "# Get the predicted ratings for the non-zero indices\n",
    "predicted_ratings_nonzero = predicted_ratings[test_nonzero_indices[0], test_nonzero_indices[1]]\n",
    "\n",
    "# Ensure predicted_ratings_nonzero is a 1D array\n",
    "predicted_ratings_nonzero = predicted_ratings_nonzero.ravel()\n",
    "\n",
    "# Debug: print lengths to check consistency\n",
    "print(\"Length of actual ratings:\", actual_ratings.shape)\n",
    "print(\"Length of predicted ratings:\", predicted_ratings_nonzero.shape)\n",
    "\n",
    "# Evaluate the model using RMSE\n",
    "mse = mean_squared_error(actual_ratings, predicted_ratings_nonzero)\n",
    "rmse = np.sqrt(mse)\n",
    "print(\"RMSE:\", rmse)"
   ]
  },
  {
   "cell_type": "markdown",
   "id": "fa8ea9ce",
   "metadata": {},
   "source": [
    "That was a really bad model considering the RMSE is so close to 1. Maybe some other metrics would help us here? "
   ]
  },
  {
   "cell_type": "code",
   "execution_count": 5,
   "id": "00f08e4c",
   "metadata": {},
   "outputs": [
    {
     "name": "stdout",
     "output_type": "stream",
     "text": [
      "SVD Evaluation:\n",
      "Precision: 0.0\n",
      "Recall: 0.0\n",
      "F1-score: 0.0\n"
     ]
    },
    {
     "name": "stderr",
     "output_type": "stream",
     "text": [
      "/Users/jin/anaconda3/lib/python3.11/site-packages/sklearn/metrics/_classification.py:1469: UndefinedMetricWarning: Precision is ill-defined and being set to 0.0 due to no predicted samples. Use `zero_division` parameter to control this behavior.\n",
      "  _warn_prf(average, modifier, msg_start, len(result))\n"
     ]
    }
   ],
   "source": [
    "# Compute precision, recall, and F1-score for SVD\n",
    "precision_svd = precision_score(actual_ratings, predicted_ratings_nonzero.round())\n",
    "recall_svd = recall_score(actual_ratings, predicted_ratings_nonzero.round())\n",
    "f1_svd = f1_score(actual_ratings, predicted_ratings_nonzero.round())\n",
    "\n",
    "print(\"SVD Evaluation:\")\n",
    "print(\"Precision:\", precision_svd)\n",
    "print(\"Recall:\", recall_svd)\n",
    "print(\"F1-score:\", f1_svd)"
   ]
  },
  {
   "cell_type": "code",
   "execution_count": null,
   "id": "e784c405",
   "metadata": {},
   "outputs": [],
   "source": []
  },
  {
   "cell_type": "code",
   "execution_count": null,
   "id": "43099c45",
   "metadata": {},
   "outputs": [],
   "source": []
  },
  {
   "cell_type": "code",
   "execution_count": null,
   "id": "20ad0173",
   "metadata": {},
   "outputs": [],
   "source": []
  },
  {
   "cell_type": "code",
   "execution_count": null,
   "id": "7159f7f9",
   "metadata": {},
   "outputs": [],
   "source": []
  },
  {
   "cell_type": "code",
   "execution_count": 6,
   "id": "f3006a77",
   "metadata": {},
   "outputs": [],
   "source": [
    "# Create a Truncated SVD instance\n",
    "svd = TruncatedSVD(n_components=100, random_state=42)"
   ]
  },
  {
   "cell_type": "code",
   "execution_count": 7,
   "id": "5ea2a6a6",
   "metadata": {},
   "outputs": [],
   "source": [
    "# Perform SVD on the training data\n",
    "lsa = make_pipeline(svd)\n",
    "train_data_reduced = lsa.fit_transform(train_data)\n",
    "\n",
    "# Transform the test data using the same model\n",
    "test_data_reduced = lsa.transform(test_data)\n",
    "\n",
    "# Compute predictions (for binary you might need to threshold these)\n",
    "predicted_ratings_l2 = np.dot(train_data_reduced, svd.components_)"
   ]
  },
  {
   "cell_type": "code",
   "execution_count": 8,
   "id": "7915acbe",
   "metadata": {},
   "outputs": [
    {
     "name": "stdout",
     "output_type": "stream",
     "text": [
      "RMSE: 0.999647555897552\n"
     ]
    }
   ],
   "source": [
    "# Get the non-zero indices of the test data\n",
    "test_nonzero_indices = test_data.nonzero()\n",
    "\n",
    "# Extract actual ratings for the non-zero indices\n",
    "actual_ratings = np.array(test_data[test_nonzero_indices]).ravel()\n",
    "\n",
    "# Extract predicted ratings for the non-zero indices\n",
    "predicted_ratings_nonzero_l2 = predicted_ratings_l2[test_nonzero_indices].ravel()\n",
    "\n",
    "# Evaluate the model using RMSE\n",
    "mse = mean_squared_error(actual_ratings, predicted_ratings_nonzero_l2)\n",
    "rmse = np.sqrt(mse)\n",
    "print(\"RMSE:\", rmse)"
   ]
  },
  {
   "cell_type": "markdown",
   "id": "002dece7",
   "metadata": {},
   "source": [
    "That was a really bad model considering the RMSE is so close to 1. Maybe some other metrics would help us here? (Same explanaton as the other one.) "
   ]
  },
  {
   "cell_type": "code",
   "execution_count": 9,
   "id": "8d58627a",
   "metadata": {},
   "outputs": [
    {
     "name": "stdout",
     "output_type": "stream",
     "text": [
      "\n",
      "Truncated SVD Evaluation:\n",
      "Precision: 0.0\n",
      "Recall: 0.0\n",
      "F1-score: 0.0\n"
     ]
    },
    {
     "name": "stderr",
     "output_type": "stream",
     "text": [
      "/Users/jin/anaconda3/lib/python3.11/site-packages/sklearn/metrics/_classification.py:1469: UndefinedMetricWarning: Precision is ill-defined and being set to 0.0 due to no predicted samples. Use `zero_division` parameter to control this behavior.\n",
      "  _warn_prf(average, modifier, msg_start, len(result))\n"
     ]
    }
   ],
   "source": [
    "# Compute precision, recall, and F1-score for Truncated SVD\n",
    "precision_tsvd = precision_score(actual_ratings, predicted_ratings_nonzero_l2.round())\n",
    "recall_tsvd = recall_score(actual_ratings, predicted_ratings_nonzero_l2.round())\n",
    "f1_tsvd = f1_score(actual_ratings, predicted_ratings_nonzero_l2.round())\n",
    "\n",
    "\n",
    "print(\"\\nTruncated SVD Evaluation:\")\n",
    "print(\"Precision:\", precision_tsvd)\n",
    "print(\"Recall:\", recall_tsvd)\n",
    "print(\"F1-score:\", f1_tsvd)"
   ]
  },
  {
   "cell_type": "markdown",
   "id": "aedf405d",
   "metadata": {},
   "source": [
    "It seems as if both the SVD and TSVD are encountering a divide by zero error, this indicates that both models are not predicting any positive interactions correctly. This might be due to the sparsity of the user-item matrix. "
   ]
  },
  {
   "cell_type": "code",
   "execution_count": null,
   "id": "56ffce67",
   "metadata": {},
   "outputs": [],
   "source": []
  },
  {
   "cell_type": "code",
   "execution_count": null,
   "id": "2a4202a5",
   "metadata": {},
   "outputs": [],
   "source": []
  },
  {
   "cell_type": "code",
   "execution_count": null,
   "id": "67de5828",
   "metadata": {},
   "outputs": [],
   "source": []
  },
  {
   "cell_type": "code",
   "execution_count": null,
   "id": "2d7cfacc",
   "metadata": {},
   "outputs": [],
   "source": []
  },
  {
   "cell_type": "code",
   "execution_count": null,
   "id": "d490da7b",
   "metadata": {},
   "outputs": [],
   "source": []
  },
  {
   "cell_type": "code",
   "execution_count": null,
   "id": "8e39c446",
   "metadata": {},
   "outputs": [],
   "source": []
  },
  {
   "cell_type": "code",
   "execution_count": null,
   "id": "2b9a9410",
   "metadata": {},
   "outputs": [],
   "source": []
  },
  {
   "cell_type": "markdown",
   "id": "70358be8",
   "metadata": {},
   "source": [
    "### Model 2: Alternating Least Squares (ALS)\n",
    "The next model we explore is ALS. ALS is designed to handle implicit feedback by assigning confidence levels to interactions, making it well-suited for large-scale recommendation systems."
   ]
  },
  {
   "cell_type": "code",
   "execution_count": 34,
   "id": "5797c94f",
   "metadata": {},
   "outputs": [],
   "source": [
    "# Create a Spark session\n",
    "spark = SparkSession.builder.appName(\"CollaborativeFiltering\").config(\"spark.executor.memory\", \"8g\").config(\"spark.driver.memory\", \"8g\").config(\"spark.sql.execution.arrow.pyspark.enabled\", \"true\").getOrCreate()"
   ]
  },
  {
   "cell_type": "code",
   "execution_count": 35,
   "id": "acbd51c2",
   "metadata": {},
   "outputs": [],
   "source": [
    "# Suppress log warnings\n",
    "spark.sparkContext.setLogLevel(\"ERROR\")"
   ]
  },
  {
   "cell_type": "code",
   "execution_count": 36,
   "id": "eefcf239",
   "metadata": {
    "scrolled": false
   },
   "outputs": [],
   "source": [
    "# Convert the user-item interaction matrix to a Spark DataFrame\n",
    "user_item_df_spark = spark.createDataFrame(\n",
    "    [(i, j, float(user_item_df.iloc[i, j])) for i in range(user_item_df.shape[0]) for j in range(user_item_df.shape[1])],\n",
    "    [\"user\", \"item\", \"rating\"]\n",
    ")\n",
    "\n",
    "#Needed to reduce the size of the matrix to account for hardware constraints on my machine\n",
    "user_item_df_spark_sample = user_item_df_spark.sample(fraction=0.1, seed=42)"
   ]
  },
  {
   "cell_type": "code",
   "execution_count": 37,
   "id": "4bb107c2",
   "metadata": {},
   "outputs": [],
   "source": [
    "# Split the data into training and testing sets\n",
    "#(training_data_spark, test_data_spark) = user_item_df_spark.randomSplit([0.8, 0.2])\n",
    "\n",
    "(training_data_spark, test_data_spark) = user_item_df_spark_sample.randomSplit([0.8, 0.2])"
   ]
  },
  {
   "cell_type": "code",
   "execution_count": 38,
   "id": "03810382",
   "metadata": {},
   "outputs": [],
   "source": [
    "# Create an ALS model\n",
    "als = ALS(maxIter=10, regParam=0.01, userCol=\"user\", itemCol=\"item\", ratingCol=\"rating\",\n",
    "          coldStartStrategy=\"drop\")"
   ]
  },
  {
   "cell_type": "code",
   "execution_count": 39,
   "id": "48d98034",
   "metadata": {
    "scrolled": true
   },
   "outputs": [
    {
     "name": "stderr",
     "output_type": "stream",
     "text": [
      "                                                                                \r"
     ]
    }
   ],
   "source": [
    "# Train the model\n",
    "model = als.fit(training_data_spark)"
   ]
  },
  {
   "cell_type": "code",
   "execution_count": 40,
   "id": "f9fc1e75",
   "metadata": {},
   "outputs": [],
   "source": [
    "# Generate predictions on the test data\n",
    "predictions = model.transform(test_data_spark)"
   ]
  },
  {
   "cell_type": "code",
   "execution_count": 41,
   "id": "667c09d9",
   "metadata": {
    "scrolled": true
   },
   "outputs": [
    {
     "name": "stderr",
     "output_type": "stream",
     "text": [
      "                                                                                \r"
     ]
    },
    {
     "name": "stdout",
     "output_type": "stream",
     "text": [
      "Root-mean-square error = 0.020309390684188168\n"
     ]
    }
   ],
   "source": [
    "# Evaluate the model\n",
    "evaluator = RegressionEvaluator(metricName=\"rmse\", labelCol=\"rating\", predictionCol=\"prediction\")\n",
    "rmse = evaluator.evaluate(predictions)\n",
    "print(\"Root-mean-square error = \" + str(rmse))"
   ]
  },
  {
   "cell_type": "code",
   "execution_count": 42,
   "id": "96659c8b",
   "metadata": {
    "scrolled": true
   },
   "outputs": [
    {
     "name": "stderr",
     "output_type": "stream",
     "text": [
      "[Stage 2890:=====================================>              (73 + 12) / 100]\r"
     ]
    },
    {
     "name": "stdout",
     "output_type": "stream",
     "text": [
      "+----+-----------------------------------------------------------------------------------------------------------------------------------------------------------------------------------------------------------------------------------+\n",
      "|user|recommendations                                                                                                                                                                                                                    |\n",
      "+----+-----------------------------------------------------------------------------------------------------------------------------------------------------------------------------------------------------------------------------------+\n",
      "|12  |[{3403, 8.107912E-21}, {288, 3.209575E-21}, {3099, 3.061551E-21}, {2479, 1.6572113E-21}, {4104, 1.6190934E-21}, {387, 1.3059998E-21}, {3287, 1.2951236E-21}, {534, 1.1945253E-21}, {3532, 9.683101E-22}, {3698, 8.18446E-22}]      |\n",
      "|22  |[{1176, 1.9878367E-20}, {3403, 6.0629556E-21}, {4104, 5.4315296E-21}, {2833, 5.1430916E-21}, {288, 2.4000643E-21}, {3099, 5.9342424E-22}, {387, 5.663469E-22}, {4236, 4.4085415E-22}, {2945, 4.2993813E-22}, {3698, 3.5491912E-22}]|\n",
      "|26  |[{99, 0.0}, {98, 0.0}, {97, 0.0}, {96, 0.0}, {95, 0.0}, {94, 0.0}, {93, 0.0}, {92, 0.0}, {91, 0.0}, {90, 0.0}]                                                                                                                     |\n",
      "|27  |[{99, 0.0}, {98, 0.0}, {97, 0.0}, {96, 0.0}, {95, 0.0}, {94, 0.0}, {93, 0.0}, {92, 0.0}, {91, 0.0}, {90, 0.0}]                                                                                                                     |\n",
      "|28  |[{99, 0.0}, {98, 0.0}, {97, 0.0}, {96, 0.0}, {95, 0.0}, {94, 0.0}, {93, 0.0}, {92, 0.0}, {91, 0.0}, {90, 0.0}]                                                                                                                     |\n",
      "|31  |[{99, 0.0}, {98, 0.0}, {97, 0.0}, {96, 0.0}, {95, 0.0}, {94, 0.0}, {93, 0.0}, {92, 0.0}, {91, 0.0}, {90, 0.0}]                                                                                                                     |\n",
      "|34  |[{99, 0.0}, {98, 0.0}, {97, 0.0}, {96, 0.0}, {95, 0.0}, {94, 0.0}, {93, 0.0}, {92, 0.0}, {91, 0.0}, {90, 0.0}]                                                                                                                     |\n",
      "|44  |[{99, 0.0}, {98, 0.0}, {97, 0.0}, {96, 0.0}, {95, 0.0}, {94, 0.0}, {93, 0.0}, {92, 0.0}, {91, 0.0}, {90, 0.0}]                                                                                                                     |\n",
      "|47  |[{99, 0.0}, {98, 0.0}, {97, 0.0}, {96, 0.0}, {95, 0.0}, {94, 0.0}, {93, 0.0}, {92, 0.0}, {91, 0.0}, {90, 0.0}]                                                                                                                     |\n",
      "|53  |[{99, 0.0}, {98, 0.0}, {97, 0.0}, {96, 0.0}, {95, 0.0}, {94, 0.0}, {93, 0.0}, {92, 0.0}, {91, 0.0}, {90, 0.0}]                                                                                                                     |\n",
      "|65  |[{99, 0.0}, {98, 0.0}, {97, 0.0}, {96, 0.0}, {95, 0.0}, {94, 0.0}, {93, 0.0}, {92, 0.0}, {91, 0.0}, {90, 0.0}]                                                                                                                     |\n",
      "|76  |[{99, 0.0}, {98, 0.0}, {97, 0.0}, {96, 0.0}, {95, 0.0}, {94, 0.0}, {93, 0.0}, {92, 0.0}, {91, 0.0}, {90, 0.0}]                                                                                                                     |\n",
      "|78  |[{99, 0.0}, {98, 0.0}, {97, 0.0}, {96, 0.0}, {95, 0.0}, {94, 0.0}, {93, 0.0}, {92, 0.0}, {91, 0.0}, {90, 0.0}]                                                                                                                     |\n",
      "|81  |[{99, 0.0}, {98, 0.0}, {97, 0.0}, {96, 0.0}, {95, 0.0}, {94, 0.0}, {93, 0.0}, {92, 0.0}, {91, 0.0}, {90, 0.0}]                                                                                                                     |\n",
      "|85  |[{99, 0.0}, {98, 0.0}, {97, 0.0}, {96, 0.0}, {95, 0.0}, {94, 0.0}, {93, 0.0}, {92, 0.0}, {91, 0.0}, {90, 0.0}]                                                                                                                     |\n",
      "|91  |[{99, 0.0}, {98, 0.0}, {97, 0.0}, {96, 0.0}, {95, 0.0}, {94, 0.0}, {93, 0.0}, {92, 0.0}, {91, 0.0}, {90, 0.0}]                                                                                                                     |\n",
      "|93  |[{99, 0.0}, {98, 0.0}, {97, 0.0}, {96, 0.0}, {95, 0.0}, {94, 0.0}, {93, 0.0}, {92, 0.0}, {91, 0.0}, {90, 0.0}]                                                                                                                     |\n",
      "|101 |[{3038, 2.9565723E-20}, {1176, 7.6077505E-21}, {3403, 3.26005E-21}, {2833, 1.9297082E-21}, {288, 1.2905143E-21}, {3082, 6.1867107E-22}, {4104, 5.800926E-22}, {534, 4.516557E-22}, {387, 4.3694215E-22}, {2479, 3.6451553E-22}]    |\n",
      "|103 |[{99, 0.0}, {98, 0.0}, {97, 0.0}, {96, 0.0}, {95, 0.0}, {94, 0.0}, {93, 0.0}, {92, 0.0}, {91, 0.0}, {90, 0.0}]                                                                                                                     |\n",
      "|108 |[{99, 0.0}, {98, 0.0}, {97, 0.0}, {96, 0.0}, {95, 0.0}, {94, 0.0}, {93, 0.0}, {92, 0.0}, {91, 0.0}, {90, 0.0}]                                                                                                                     |\n",
      "+----+-----------------------------------------------------------------------------------------------------------------------------------------------------------------------------------------------------------------------------------+\n",
      "only showing top 20 rows\n",
      "\n"
     ]
    },
    {
     "name": "stderr",
     "output_type": "stream",
     "text": [
      "\r",
      "[Stage 2890:=============================================>      (88 + 12) / 100]\r",
      "\r",
      "                                                                                \r"
     ]
    }
   ],
   "source": [
    "# Generate top-k recommendations for each user\n",
    "user_recs = model.recommendForAllUsers(10)\n",
    "user_recs.show(truncate=False)"
   ]
  },
  {
   "cell_type": "code",
   "execution_count": 43,
   "id": "0ceaa742",
   "metadata": {},
   "outputs": [],
   "source": [
    "# Build the parameter grid\n",
    "param_grid = (ParamGridBuilder().addGrid(als.rank, [10, 20]).addGrid(als.regParam, [0.01, 1.0]).addGrid(als.maxIter, [10]).build())"
   ]
  },
  {
   "cell_type": "code",
   "execution_count": 44,
   "id": "041a632b",
   "metadata": {},
   "outputs": [],
   "source": [
    "# Create a cross-validator\n",
    "cross_validator = CrossValidator(estimator=als, estimatorParamMaps=param_grid, evaluator=evaluator,numFolds=5)"
   ]
  },
  {
   "cell_type": "code",
   "execution_count": 46,
   "id": "2172a54c",
   "metadata": {
    "scrolled": true
   },
   "outputs": [
    {
     "name": "stderr",
     "output_type": "stream",
     "text": [
      "                                                                                \r"
     ]
    }
   ],
   "source": [
    "# Run cross-validation to find the best model\n",
    "cv_model = cross_validator.fit(training_data_spark)"
   ]
  },
  {
   "cell_type": "code",
   "execution_count": 47,
   "id": "7574f866",
   "metadata": {},
   "outputs": [],
   "source": [
    "# Get the best model from cross-validation\n",
    "best_model = cv_model.bestModel"
   ]
  },
  {
   "cell_type": "code",
   "execution_count": 48,
   "id": "6f701795",
   "metadata": {},
   "outputs": [],
   "source": [
    "# Generate predictions on the test data\n",
    "best_predictions = best_model.transform(test_data_spark)"
   ]
  },
  {
   "cell_type": "code",
   "execution_count": 49,
   "id": "55083c0a",
   "metadata": {},
   "outputs": [
    {
     "name": "stderr",
     "output_type": "stream",
     "text": [
      "                                                                                \r"
     ]
    },
    {
     "name": "stdout",
     "output_type": "stream",
     "text": [
      "Best RMSE:  0.020309390684188168\n"
     ]
    }
   ],
   "source": [
    "# Evaluate the best model\n",
    "best_rmse = evaluator.evaluate(best_predictions)\n",
    "print(\"Best RMSE: \", best_rmse)"
   ]
  },
  {
   "cell_type": "code",
   "execution_count": 50,
   "id": "689d3653",
   "metadata": {
    "scrolled": true
   },
   "outputs": [
    {
     "name": "stderr",
     "output_type": "stream",
     "text": [
      "[Stage 6674:========================================>           (77 + 12) / 100]\r"
     ]
    },
    {
     "name": "stdout",
     "output_type": "stream",
     "text": [
      "+----+-----------------------------------------------------------------------------------------------------------------------------------------------------------------------------------------------------------------------------------+\n",
      "|user|recommendations                                                                                                                                                                                                                    |\n",
      "+----+-----------------------------------------------------------------------------------------------------------------------------------------------------------------------------------------------------------------------------------+\n",
      "|12  |[{3403, 8.107912E-21}, {288, 3.209575E-21}, {3099, 3.061551E-21}, {2479, 1.6572113E-21}, {4104, 1.6190934E-21}, {387, 1.3059998E-21}, {3287, 1.2951236E-21}, {534, 1.1945253E-21}, {3532, 9.683101E-22}, {3698, 8.18446E-22}]      |\n",
      "|22  |[{1176, 1.9878367E-20}, {3403, 6.0629556E-21}, {4104, 5.4315296E-21}, {2833, 5.1430916E-21}, {288, 2.4000643E-21}, {3099, 5.9342424E-22}, {387, 5.663469E-22}, {4236, 4.4085415E-22}, {2945, 4.2993813E-22}, {3698, 3.5491912E-22}]|\n",
      "|26  |[{99, 0.0}, {98, 0.0}, {97, 0.0}, {96, 0.0}, {95, 0.0}, {94, 0.0}, {93, 0.0}, {92, 0.0}, {91, 0.0}, {90, 0.0}]                                                                                                                     |\n",
      "|27  |[{99, 0.0}, {98, 0.0}, {97, 0.0}, {96, 0.0}, {95, 0.0}, {94, 0.0}, {93, 0.0}, {92, 0.0}, {91, 0.0}, {90, 0.0}]                                                                                                                     |\n",
      "|28  |[{99, 0.0}, {98, 0.0}, {97, 0.0}, {96, 0.0}, {95, 0.0}, {94, 0.0}, {93, 0.0}, {92, 0.0}, {91, 0.0}, {90, 0.0}]                                                                                                                     |\n",
      "|31  |[{99, 0.0}, {98, 0.0}, {97, 0.0}, {96, 0.0}, {95, 0.0}, {94, 0.0}, {93, 0.0}, {92, 0.0}, {91, 0.0}, {90, 0.0}]                                                                                                                     |\n",
      "|34  |[{99, 0.0}, {98, 0.0}, {97, 0.0}, {96, 0.0}, {95, 0.0}, {94, 0.0}, {93, 0.0}, {92, 0.0}, {91, 0.0}, {90, 0.0}]                                                                                                                     |\n",
      "|44  |[{99, 0.0}, {98, 0.0}, {97, 0.0}, {96, 0.0}, {95, 0.0}, {94, 0.0}, {93, 0.0}, {92, 0.0}, {91, 0.0}, {90, 0.0}]                                                                                                                     |\n",
      "|47  |[{99, 0.0}, {98, 0.0}, {97, 0.0}, {96, 0.0}, {95, 0.0}, {94, 0.0}, {93, 0.0}, {92, 0.0}, {91, 0.0}, {90, 0.0}]                                                                                                                     |\n",
      "|53  |[{99, 0.0}, {98, 0.0}, {97, 0.0}, {96, 0.0}, {95, 0.0}, {94, 0.0}, {93, 0.0}, {92, 0.0}, {91, 0.0}, {90, 0.0}]                                                                                                                     |\n",
      "|65  |[{99, 0.0}, {98, 0.0}, {97, 0.0}, {96, 0.0}, {95, 0.0}, {94, 0.0}, {93, 0.0}, {92, 0.0}, {91, 0.0}, {90, 0.0}]                                                                                                                     |\n",
      "|76  |[{99, 0.0}, {98, 0.0}, {97, 0.0}, {96, 0.0}, {95, 0.0}, {94, 0.0}, {93, 0.0}, {92, 0.0}, {91, 0.0}, {90, 0.0}]                                                                                                                     |\n",
      "|78  |[{99, 0.0}, {98, 0.0}, {97, 0.0}, {96, 0.0}, {95, 0.0}, {94, 0.0}, {93, 0.0}, {92, 0.0}, {91, 0.0}, {90, 0.0}]                                                                                                                     |\n",
      "|81  |[{99, 0.0}, {98, 0.0}, {97, 0.0}, {96, 0.0}, {95, 0.0}, {94, 0.0}, {93, 0.0}, {92, 0.0}, {91, 0.0}, {90, 0.0}]                                                                                                                     |\n",
      "|85  |[{99, 0.0}, {98, 0.0}, {97, 0.0}, {96, 0.0}, {95, 0.0}, {94, 0.0}, {93, 0.0}, {92, 0.0}, {91, 0.0}, {90, 0.0}]                                                                                                                     |\n",
      "|91  |[{99, 0.0}, {98, 0.0}, {97, 0.0}, {96, 0.0}, {95, 0.0}, {94, 0.0}, {93, 0.0}, {92, 0.0}, {91, 0.0}, {90, 0.0}]                                                                                                                     |\n",
      "|93  |[{99, 0.0}, {98, 0.0}, {97, 0.0}, {96, 0.0}, {95, 0.0}, {94, 0.0}, {93, 0.0}, {92, 0.0}, {91, 0.0}, {90, 0.0}]                                                                                                                     |\n",
      "|101 |[{3038, 2.9565723E-20}, {1176, 7.6077505E-21}, {3403, 3.26005E-21}, {2833, 1.9297082E-21}, {288, 1.2905143E-21}, {3082, 6.1867107E-22}, {4104, 5.800926E-22}, {534, 4.516557E-22}, {387, 4.3694215E-22}, {2479, 3.6451553E-22}]    |\n",
      "|103 |[{99, 0.0}, {98, 0.0}, {97, 0.0}, {96, 0.0}, {95, 0.0}, {94, 0.0}, {93, 0.0}, {92, 0.0}, {91, 0.0}, {90, 0.0}]                                                                                                                     |\n",
      "|108 |[{99, 0.0}, {98, 0.0}, {97, 0.0}, {96, 0.0}, {95, 0.0}, {94, 0.0}, {93, 0.0}, {92, 0.0}, {91, 0.0}, {90, 0.0}]                                                                                                                     |\n",
      "+----+-----------------------------------------------------------------------------------------------------------------------------------------------------------------------------------------------------------------------------------+\n",
      "only showing top 20 rows\n",
      "\n"
     ]
    },
    {
     "name": "stderr",
     "output_type": "stream",
     "text": [
      "\r",
      "[Stage 6674:=================================================>   (94 + 6) / 100]\r",
      "\r",
      "                                                                                \r"
     ]
    }
   ],
   "source": [
    "# Generate top-k recommendations for each user using the best model\n",
    "best_user_recs = best_model.recommendForAllUsers(10)\n",
    "best_user_recs.show(truncate=False)"
   ]
  },
  {
   "cell_type": "code",
   "execution_count": null,
   "id": "a3200892",
   "metadata": {},
   "outputs": [],
   "source": []
  },
  {
   "cell_type": "code",
   "execution_count": null,
   "id": "65cc0087",
   "metadata": {},
   "outputs": [],
   "source": []
  },
  {
   "cell_type": "code",
   "execution_count": 51,
   "id": "428c0e8a",
   "metadata": {},
   "outputs": [
    {
     "name": "stderr",
     "output_type": "stream",
     "text": [
      "                                                                                \r"
     ]
    }
   ],
   "source": [
    "# Convert predictions to Pandas DataFrame for easier evaluation\n",
    "#predictions_df = best_predictions.toPandas()\n",
    "\n",
    "# Limit the number of rows for testing purposes\n",
    "limited_predictions = best_predictions.limit(500)\n",
    "predictions_df = limited_predictions.toPandas()"
   ]
  },
  {
   "cell_type": "code",
   "execution_count": 52,
   "id": "6b4c5d3d",
   "metadata": {},
   "outputs": [],
   "source": [
    "# Round predictions to get binary values\n",
    "predictions_df['prediction'] = predictions_df['prediction'].round().astype(int)"
   ]
  },
  {
   "cell_type": "code",
   "execution_count": 53,
   "id": "a1d044f7",
   "metadata": {},
   "outputs": [
    {
     "name": "stdout",
     "output_type": "stream",
     "text": [
      "Precision:  1.0\n",
      "Recall:  1.0\n",
      "F1-Score:  1.0\n"
     ]
    }
   ],
   "source": [
    "# Compute precision, recall, and F1-score\n",
    "precision = precision_score(predictions_df['rating'], predictions_df['prediction'], zero_division=1)\n",
    "recall = recall_score(predictions_df['rating'], predictions_df['prediction'], zero_division=1)\n",
    "f1 = f1_score(predictions_df['rating'], predictions_df['prediction'], zero_division=1)\n",
    "\n",
    "print(\"Precision: \", precision)\n",
    "print(\"Recall: \", recall)\n",
    "print(\"F1-Score: \", f1)"
   ]
  },
  {
   "cell_type": "code",
   "execution_count": null,
   "id": "ff218d57",
   "metadata": {},
   "outputs": [],
   "source": []
  },
  {
   "cell_type": "code",
   "execution_count": 58,
   "id": "27a92e63",
   "metadata": {},
   "outputs": [
    {
     "name": "stdout",
     "output_type": "stream",
     "text": [
      "Top 1 Model - Metric: 0.02005747826643014, Params: {Param(parent='ALS_f2a50bb1b2bd', name='rank', doc='rank of the factorization'): 10, Param(parent='ALS_f2a50bb1b2bd', name='regParam', doc='regularization parameter (>= 0).'): 0.01, Param(parent='ALS_f2a50bb1b2bd', name='maxIter', doc='max number of iterations (>= 0).'): 10}\n"
     ]
    },
    {
     "name": "stderr",
     "output_type": "stream",
     "text": [
      "                                                                                \r"
     ]
    },
    {
     "name": "stdout",
     "output_type": "stream",
     "text": [
      "Top 1 Model Evaluation:\n",
      "Precision: 1.0\n",
      "Recall: 1.0\n",
      "F1-Score: 1.0\n",
      "Top 2 Model - Metric: 0.02005747826643014, Params: {Param(parent='ALS_f2a50bb1b2bd', name='rank', doc='rank of the factorization'): 10, Param(parent='ALS_f2a50bb1b2bd', name='regParam', doc='regularization parameter (>= 0).'): 1.0, Param(parent='ALS_f2a50bb1b2bd', name='maxIter', doc='max number of iterations (>= 0).'): 10}\n"
     ]
    },
    {
     "name": "stderr",
     "output_type": "stream",
     "text": [
      "                                                                                \r"
     ]
    },
    {
     "name": "stdout",
     "output_type": "stream",
     "text": [
      "Top 2 Model Evaluation:\n",
      "Precision: 1.0\n",
      "Recall: 1.0\n",
      "F1-Score: 1.0\n",
      "Top 3 Model - Metric: 0.02005747826643014, Params: {Param(parent='ALS_f2a50bb1b2bd', name='rank', doc='rank of the factorization'): 20, Param(parent='ALS_f2a50bb1b2bd', name='regParam', doc='regularization parameter (>= 0).'): 0.01, Param(parent='ALS_f2a50bb1b2bd', name='maxIter', doc='max number of iterations (>= 0).'): 10}\n"
     ]
    },
    {
     "name": "stderr",
     "output_type": "stream",
     "text": [
      "                                                                                \r"
     ]
    },
    {
     "name": "stdout",
     "output_type": "stream",
     "text": [
      "Top 3 Model Evaluation:\n",
      "Precision: 1.0\n",
      "Recall: 1.0\n",
      "F1-Score: 1.0\n",
      "Top 4 Model - Metric: 0.02005747826643014, Params: {Param(parent='ALS_f2a50bb1b2bd', name='rank', doc='rank of the factorization'): 20, Param(parent='ALS_f2a50bb1b2bd', name='regParam', doc='regularization parameter (>= 0).'): 1.0, Param(parent='ALS_f2a50bb1b2bd', name='maxIter', doc='max number of iterations (>= 0).'): 10}\n"
     ]
    },
    {
     "name": "stderr",
     "output_type": "stream",
     "text": [
      "                                                                                \r"
     ]
    },
    {
     "name": "stdout",
     "output_type": "stream",
     "text": [
      "Top 4 Model Evaluation:\n",
      "Precision: 1.0\n",
      "Recall: 1.0\n",
      "F1-Score: 1.0\n"
     ]
    }
   ],
   "source": [
    "# Retrieve the metrics for each parameter combination\n",
    "results = []\n",
    "param_maps = cv_model.getEstimatorParamMaps()\n",
    "for i, avg_metric in enumerate(cv_model.avgMetrics):\n",
    "    results.append((avg_metric, param_maps[i]))\n",
    "\n",
    "# Sort the results by the evaluation metric\n",
    "results.sort(key=lambda x: x[0])\n",
    "\n",
    "# Evaluate the top 4 parameter combinations\n",
    "for i, (metric, params) in enumerate(results[:4]):\n",
    "    print(f\"Top {i+1} Model - Metric: {metric}, Params: {params}\")\n",
    "    model = als.fit(training_data_spark)\n",
    "    predictions = model.transform(test_data_spark)\n",
    "    \n",
    "    # Compute precision, recall, and F1-score\n",
    "    precision = precision_score(predictions_df['rating'], predictions_df['prediction'], zero_division=1)\n",
    "    recall = recall_score(predictions_df['rating'], predictions_df['prediction'], zero_division=1)\n",
    "    f1 = f1_score(predictions_df['rating'], predictions_df['prediction'], zero_division=1)\n",
    "    \n",
    "    print(f\"Top {i+1} Model Evaluation:\")\n",
    "    print(f\"Precision: {precision}\")\n",
    "    print(f\"Recall: {recall}\")\n",
    "    print(f\"F1-Score: {f1}\")"
   ]
  },
  {
   "cell_type": "code",
   "execution_count": null,
   "id": "429033ea",
   "metadata": {},
   "outputs": [],
   "source": []
  },
  {
   "cell_type": "code",
   "execution_count": 59,
   "id": "e3b3e077",
   "metadata": {},
   "outputs": [],
   "source": [
    "# Stop the Spark session\n",
    "spark.stop()"
   ]
  },
  {
   "cell_type": "code",
   "execution_count": null,
   "id": "ec35d009",
   "metadata": {},
   "outputs": [],
   "source": []
  },
  {
   "cell_type": "code",
   "execution_count": null,
   "id": "f4ab7043",
   "metadata": {},
   "outputs": [],
   "source": []
  },
  {
   "cell_type": "markdown",
   "id": "0be6505e",
   "metadata": {},
   "source": [
    "### Model 3: Deep Learning\n",
    "The final model we implement is a deep learning model using TensorFlow. Deep learning models can capture complex, non-linear relationships in the data, providing a flexible approach to learning user preferences."
   ]
  },
  {
   "cell_type": "code",
   "execution_count": 60,
   "id": "f418f8cd",
   "metadata": {
    "scrolled": false
   },
   "outputs": [],
   "source": [
    "#Attempting with deep learning\n",
    "# Prepare the data for the deep learning model\n",
    "train_data_nonzero = train_data.nonzero()\n",
    "test_data_nonzero = test_data.nonzero()\n",
    "\n",
    "train_user = train_data_nonzero[0]\n",
    "train_item = train_data_nonzero[1]\n",
    "train_rating = train_data[train_user, train_item].A1\n",
    "\n",
    "test_user = test_data_nonzero[0]\n",
    "test_item = test_data_nonzero[1]\n",
    "test_rating = test_data[test_user, test_item].A1"
   ]
  },
  {
   "cell_type": "code",
   "execution_count": 61,
   "id": "0e8cf689",
   "metadata": {},
   "outputs": [],
   "source": [
    "# Define the deep learning model\n",
    "num_users = user_item_df.shape[0]\n",
    "num_items = user_item_df.shape[1]\n",
    "\n",
    "user_input = Input(shape=(1,))\n",
    "item_input = Input(shape=(1,))\n",
    "\n",
    "user_embedding = Embedding(num_users, 50)(user_input)\n",
    "item_embedding = Embedding(num_items, 50)(item_input)\n",
    "\n",
    "user_vector = Flatten()(user_embedding)\n",
    "item_vector = Flatten()(item_embedding)\n",
    "\n",
    "concat = Concatenate()([user_vector, item_vector])\n",
    "\n",
    "dense = Dense(128, activation='relu', kernel_regularizer=l2(0.01))(concat)\n",
    "dropout = Dropout(0.5)(dense)\n",
    "output = Dense(1)(dropout)\n",
    "\n",
    "model = Model(inputs=[user_input, item_input], outputs=output)\n",
    "model.compile(optimizer='adam', loss='mean_squared_error')"
   ]
  },
  {
   "cell_type": "code",
   "execution_count": 62,
   "id": "d38b0ed7",
   "metadata": {},
   "outputs": [],
   "source": [
    "# Implement early stopping\n",
    "early_stopping = tf.keras.callbacks.EarlyStopping(monitor='val_loss', patience=3)"
   ]
  },
  {
   "cell_type": "code",
   "execution_count": 63,
   "id": "b5dca1fe",
   "metadata": {},
   "outputs": [
    {
     "name": "stdout",
     "output_type": "stream",
     "text": [
      "Epoch 1/50\n",
      "\u001b[1m103/103\u001b[0m \u001b[32m━━━━━━━━━━━━━━━━━━━━\u001b[0m\u001b[37m\u001b[0m \u001b[1m1s\u001b[0m 2ms/step - loss: 1.3532 - val_loss: 0.1400\n",
      "Epoch 2/50\n",
      "\u001b[1m103/103\u001b[0m \u001b[32m━━━━━━━━━━━━━━━━━━━━\u001b[0m\u001b[37m\u001b[0m \u001b[1m0s\u001b[0m 2ms/step - loss: 0.1005 - val_loss: 0.0095\n",
      "Epoch 3/50\n",
      "\u001b[1m103/103\u001b[0m \u001b[32m━━━━━━━━━━━━━━━━━━━━\u001b[0m\u001b[37m\u001b[0m \u001b[1m0s\u001b[0m 2ms/step - loss: 0.0194 - val_loss: 5.4236e-04\n",
      "Epoch 4/50\n",
      "\u001b[1m103/103\u001b[0m \u001b[32m━━━━━━━━━━━━━━━━━━━━\u001b[0m\u001b[37m\u001b[0m \u001b[1m0s\u001b[0m 2ms/step - loss: 0.0143 - val_loss: 2.9510e-04\n",
      "Epoch 5/50\n",
      "\u001b[1m103/103\u001b[0m \u001b[32m━━━━━━━━━━━━━━━━━━━━\u001b[0m\u001b[37m\u001b[0m \u001b[1m0s\u001b[0m 3ms/step - loss: 0.0131 - val_loss: 2.7287e-04\n",
      "Epoch 6/50\n",
      "\u001b[1m103/103\u001b[0m \u001b[32m━━━━━━━━━━━━━━━━━━━━\u001b[0m\u001b[37m\u001b[0m \u001b[1m0s\u001b[0m 2ms/step - loss: 0.0131 - val_loss: 2.6825e-04\n",
      "Epoch 7/50\n",
      "\u001b[1m103/103\u001b[0m \u001b[32m━━━━━━━━━━━━━━━━━━━━\u001b[0m\u001b[37m\u001b[0m \u001b[1m0s\u001b[0m 2ms/step - loss: 0.0130 - val_loss: 4.6576e-04\n",
      "Epoch 8/50\n",
      "\u001b[1m103/103\u001b[0m \u001b[32m━━━━━━━━━━━━━━━━━━━━\u001b[0m\u001b[37m\u001b[0m \u001b[1m0s\u001b[0m 3ms/step - loss: 0.0127 - val_loss: 2.4031e-04\n",
      "Epoch 9/50\n",
      "\u001b[1m103/103\u001b[0m \u001b[32m━━━━━━━━━━━━━━━━━━━━\u001b[0m\u001b[37m\u001b[0m \u001b[1m0s\u001b[0m 2ms/step - loss: 0.0130 - val_loss: 3.8630e-04\n",
      "Epoch 10/50\n",
      "\u001b[1m103/103\u001b[0m \u001b[32m━━━━━━━━━━━━━━━━━━━━\u001b[0m\u001b[37m\u001b[0m \u001b[1m0s\u001b[0m 2ms/step - loss: 0.0125 - val_loss: 3.8269e-04\n",
      "Epoch 11/50\n",
      "\u001b[1m103/103\u001b[0m \u001b[32m━━━━━━━━━━━━━━━━━━━━\u001b[0m\u001b[37m\u001b[0m \u001b[1m0s\u001b[0m 2ms/step - loss: 0.0116 - val_loss: 4.3646e-04\n"
     ]
    },
    {
     "data": {
      "text/plain": [
       "<keras.src.callbacks.history.History at 0x485bf4f50>"
      ]
     },
     "execution_count": 63,
     "metadata": {},
     "output_type": "execute_result"
    }
   ],
   "source": [
    "# Train the model\n",
    "model.fit([train_user, train_item], train_rating, epochs=50, batch_size=64, validation_split=0.1, callbacks=[early_stopping])"
   ]
  },
  {
   "cell_type": "code",
   "execution_count": 64,
   "id": "8756d2e7",
   "metadata": {},
   "outputs": [
    {
     "name": "stdout",
     "output_type": "stream",
     "text": [
      "\u001b[1m57/57\u001b[0m \u001b[32m━━━━━━━━━━━━━━━━━━━━\u001b[0m\u001b[37m\u001b[0m \u001b[1m0s\u001b[0m 369us/step\n"
     ]
    }
   ],
   "source": [
    "# Predict ratings for the test data\n",
    "predicted_ratings = model.predict([test_user, test_item])"
   ]
  },
  {
   "cell_type": "code",
   "execution_count": 65,
   "id": "cf0a68ea",
   "metadata": {},
   "outputs": [
    {
     "name": "stdout",
     "output_type": "stream",
     "text": [
      "Deep Learning Model RMSE: 0.015109668227329965\n"
     ]
    }
   ],
   "source": [
    "# Evaluate the model using RMSE\n",
    "rmse = np.sqrt(mean_squared_error(test_rating, predicted_ratings))\n",
    "print(\"Deep Learning Model RMSE:\", rmse)"
   ]
  },
  {
   "cell_type": "code",
   "execution_count": 66,
   "id": "7a51ddb1",
   "metadata": {},
   "outputs": [
    {
     "name": "stdout",
     "output_type": "stream",
     "text": [
      "Deep Learning Model Evaluation:\n",
      "Precision: 1.0\n",
      "Recall: 1.0\n",
      "F1-score: 1.0\n"
     ]
    }
   ],
   "source": [
    "# Compute precision, recall, and F1-score\n",
    "predicted_ratings_rounded = np.round(predicted_ratings).astype(int)\n",
    "\n",
    "precision_dl = precision_score(test_rating, predicted_ratings_rounded, zero_division=1)\n",
    "recall_dl = recall_score(test_rating, predicted_ratings_rounded, zero_division=1)\n",
    "f1_dl = f1_score(test_rating, predicted_ratings_rounded, zero_division=1)\n",
    "\n",
    "print(\"Deep Learning Model Evaluation:\")\n",
    "print(\"Precision:\", precision_dl)\n",
    "print(\"Recall:\", recall_dl)\n",
    "print(\"F1-score:\", f1_dl)"
   ]
  },
  {
   "cell_type": "code",
   "execution_count": null,
   "id": "b8ce07b6",
   "metadata": {},
   "outputs": [],
   "source": []
  },
  {
   "cell_type": "code",
   "execution_count": null,
   "id": "c02ff464",
   "metadata": {},
   "outputs": [],
   "source": []
  },
  {
   "cell_type": "code",
   "execution_count": null,
   "id": "288a1654",
   "metadata": {},
   "outputs": [],
   "source": []
  },
  {
   "cell_type": "markdown",
   "id": "0de96e93",
   "metadata": {},
   "source": [
    "### Hyperparameter tuning for Deep Learning"
   ]
  },
  {
   "cell_type": "code",
   "execution_count": 67,
   "id": "3d2e0908",
   "metadata": {},
   "outputs": [],
   "source": [
    "# Define the hyperparameter grid\n",
    "param_grid = {\n",
    "    'embedding_dim': [20, 50],\n",
    "    'dense_units': [64, 128],\n",
    "    'dropout_rate': [0.3, 0.5],\n",
    "    'learning_rate': [1e-3, 1e-2],\n",
    "    'l2_reg': [0.01, 0.05]\n",
    "}"
   ]
  },
  {
   "cell_type": "code",
   "execution_count": 68,
   "id": "90e19fd6",
   "metadata": {},
   "outputs": [],
   "source": [
    "# Create a list of all hyperparameter combinations\n",
    "all_params = list(product(param_grid['embedding_dim'], param_grid['dense_units'], param_grid['dropout_rate'], param_grid['learning_rate'], param_grid['l2_reg']))"
   ]
  },
  {
   "cell_type": "code",
   "execution_count": 69,
   "id": "0d2f42cf",
   "metadata": {},
   "outputs": [],
   "source": [
    "# Initialize a list to store the results\n",
    "results = []"
   ]
  },
  {
   "cell_type": "code",
   "execution_count": 70,
   "id": "1ea237b8",
   "metadata": {
    "scrolled": false
   },
   "outputs": [
    {
     "name": "stdout",
     "output_type": "stream",
     "text": [
      "\u001b[1m57/57\u001b[0m \u001b[32m━━━━━━━━━━━━━━━━━━━━\u001b[0m\u001b[37m\u001b[0m \u001b[1m0s\u001b[0m 312us/step\n",
      "Evaluated parameters: (20, 64, 0.3, 0.001, 0.01)\n",
      "Results - RMSE: 0.007902589648087335, Precision: 1.0, Recall: 1.0, F1-score: 1.0\n",
      "\u001b[1m57/57\u001b[0m \u001b[32m━━━━━━━━━━━━━━━━━━━━\u001b[0m\u001b[37m\u001b[0m \u001b[1m0s\u001b[0m 274us/step\n",
      "Evaluated parameters: (20, 64, 0.3, 0.001, 0.05)\n",
      "Results - RMSE: 0.009924226905032437, Precision: 1.0, Recall: 1.0, F1-score: 1.0\n",
      "\u001b[1m57/57\u001b[0m \u001b[32m━━━━━━━━━━━━━━━━━━━━\u001b[0m\u001b[37m\u001b[0m \u001b[1m0s\u001b[0m 294us/step\n",
      "Evaluated parameters: (20, 64, 0.3, 0.01, 0.01)\n",
      "Results - RMSE: 0.02525882580437974, Precision: 1.0, Recall: 1.0, F1-score: 1.0\n",
      "\u001b[1m57/57\u001b[0m \u001b[32m━━━━━━━━━━━━━━━━━━━━\u001b[0m\u001b[37m\u001b[0m \u001b[1m0s\u001b[0m 282us/step\n",
      "Evaluated parameters: (20, 64, 0.3, 0.01, 0.05)\n",
      "Results - RMSE: 0.009214923362180808, Precision: 1.0, Recall: 1.0, F1-score: 1.0\n",
      "\u001b[1m57/57\u001b[0m \u001b[32m━━━━━━━━━━━━━━━━━━━━\u001b[0m\u001b[37m\u001b[0m \u001b[1m0s\u001b[0m 282us/step\n",
      "Evaluated parameters: (20, 64, 0.5, 0.001, 0.01)\n",
      "Results - RMSE: 0.02524435276419191, Precision: 1.0, Recall: 1.0, F1-score: 1.0\n",
      "\u001b[1m57/57\u001b[0m \u001b[32m━━━━━━━━━━━━━━━━━━━━\u001b[0m\u001b[37m\u001b[0m \u001b[1m0s\u001b[0m 288us/step\n",
      "Evaluated parameters: (20, 64, 0.5, 0.001, 0.05)\n",
      "Results - RMSE: 0.03773747028915559, Precision: 1.0, Recall: 1.0, F1-score: 1.0\n",
      "\u001b[1m57/57\u001b[0m \u001b[32m━━━━━━━━━━━━━━━━━━━━\u001b[0m\u001b[37m\u001b[0m \u001b[1m0s\u001b[0m 286us/step\n",
      "Evaluated parameters: (20, 64, 0.5, 0.01, 0.01)\n",
      "Results - RMSE: 4.37966342868816e-06, Precision: 1.0, Recall: 1.0, F1-score: 1.0\n",
      "\u001b[1m57/57\u001b[0m \u001b[32m━━━━━━━━━━━━━━━━━━━━\u001b[0m\u001b[37m\u001b[0m \u001b[1m0s\u001b[0m 278us/step\n",
      "Evaluated parameters: (20, 64, 0.5, 0.01, 0.05)\n",
      "Results - RMSE: 2.1941669515728572e-05, Precision: 1.0, Recall: 1.0, F1-score: 1.0\n",
      "\u001b[1m57/57\u001b[0m \u001b[32m━━━━━━━━━━━━━━━━━━━━\u001b[0m\u001b[37m\u001b[0m \u001b[1m0s\u001b[0m 295us/step\n",
      "Evaluated parameters: (20, 128, 0.3, 0.001, 0.01)\n",
      "Results - RMSE: 0.009754671422101645, Precision: 1.0, Recall: 1.0, F1-score: 1.0\n",
      "\u001b[1m57/57\u001b[0m \u001b[32m━━━━━━━━━━━━━━━━━━━━\u001b[0m\u001b[37m\u001b[0m \u001b[1m0s\u001b[0m 287us/step\n",
      "Evaluated parameters: (20, 128, 0.3, 0.001, 0.05)\n",
      "Results - RMSE: 0.004911771336422992, Precision: 1.0, Recall: 1.0, F1-score: 1.0\n",
      "\u001b[1m57/57\u001b[0m \u001b[32m━━━━━━━━━━━━━━━━━━━━\u001b[0m\u001b[37m\u001b[0m \u001b[1m0s\u001b[0m 304us/step\n",
      "Evaluated parameters: (20, 128, 0.3, 0.01, 0.01)\n",
      "Results - RMSE: 0.02735186139492369, Precision: 1.0, Recall: 1.0, F1-score: 1.0\n",
      "\u001b[1m57/57\u001b[0m \u001b[32m━━━━━━━━━━━━━━━━━━━━\u001b[0m\u001b[37m\u001b[0m \u001b[1m0s\u001b[0m 281us/step\n",
      "Evaluated parameters: (20, 128, 0.3, 0.01, 0.05)\n",
      "Results - RMSE: 0.011137027476146035, Precision: 1.0, Recall: 1.0, F1-score: 1.0\n",
      "\u001b[1m57/57\u001b[0m \u001b[32m━━━━━━━━━━━━━━━━━━━━\u001b[0m\u001b[37m\u001b[0m \u001b[1m0s\u001b[0m 285us/step\n",
      "Evaluated parameters: (20, 128, 0.5, 0.001, 0.01)\n",
      "Results - RMSE: 0.01772861527136916, Precision: 1.0, Recall: 1.0, F1-score: 1.0\n",
      "\u001b[1m57/57\u001b[0m \u001b[32m━━━━━━━━━━━━━━━━━━━━\u001b[0m\u001b[37m\u001b[0m \u001b[1m0s\u001b[0m 297us/step\n",
      "Evaluated parameters: (20, 128, 0.5, 0.001, 0.05)\n",
      "Results - RMSE: 0.005963686682000854, Precision: 1.0, Recall: 1.0, F1-score: 1.0\n",
      "\u001b[1m57/57\u001b[0m \u001b[32m━━━━━━━━━━━━━━━━━━━━\u001b[0m\u001b[37m\u001b[0m \u001b[1m0s\u001b[0m 292us/step\n",
      "Evaluated parameters: (20, 128, 0.5, 0.01, 0.01)\n",
      "Results - RMSE: 2.7035027912867795e-05, Precision: 1.0, Recall: 1.0, F1-score: 1.0\n",
      "\u001b[1m57/57\u001b[0m \u001b[32m━━━━━━━━━━━━━━━━━━━━\u001b[0m\u001b[37m\u001b[0m \u001b[1m0s\u001b[0m 293us/step\n",
      "Evaluated parameters: (20, 128, 0.5, 0.01, 0.05)\n",
      "Results - RMSE: 0.015214994506043552, Precision: 1.0, Recall: 1.0, F1-score: 1.0\n",
      "\u001b[1m57/57\u001b[0m \u001b[32m━━━━━━━━━━━━━━━━━━━━\u001b[0m\u001b[37m\u001b[0m \u001b[1m0s\u001b[0m 340us/step\n",
      "Evaluated parameters: (50, 64, 0.3, 0.001, 0.01)\n",
      "Results - RMSE: 0.010329004656024477, Precision: 1.0, Recall: 1.0, F1-score: 1.0\n",
      "\u001b[1m57/57\u001b[0m \u001b[32m━━━━━━━━━━━━━━━━━━━━\u001b[0m\u001b[37m\u001b[0m \u001b[1m0s\u001b[0m 285us/step\n",
      "Evaluated parameters: (50, 64, 0.3, 0.001, 0.05)\n",
      "Results - RMSE: 0.011059117285386822, Precision: 1.0, Recall: 1.0, F1-score: 1.0\n",
      "\u001b[1m57/57\u001b[0m \u001b[32m━━━━━━━━━━━━━━━━━━━━\u001b[0m\u001b[37m\u001b[0m \u001b[1m0s\u001b[0m 295us/step\n",
      "Evaluated parameters: (50, 64, 0.3, 0.01, 0.01)\n",
      "Results - RMSE: 0.028775818927960103, Precision: 1.0, Recall: 1.0, F1-score: 1.0\n",
      "\u001b[1m57/57\u001b[0m \u001b[32m━━━━━━━━━━━━━━━━━━━━\u001b[0m\u001b[37m\u001b[0m \u001b[1m0s\u001b[0m 274us/step\n",
      "Evaluated parameters: (50, 64, 0.3, 0.01, 0.05)\n",
      "Results - RMSE: 0.023705263203140037, Precision: 1.0, Recall: 1.0, F1-score: 1.0\n",
      "\u001b[1m57/57\u001b[0m \u001b[32m━━━━━━━━━━━━━━━━━━━━\u001b[0m\u001b[37m\u001b[0m \u001b[1m0s\u001b[0m 281us/step\n",
      "Evaluated parameters: (50, 64, 0.5, 0.001, 0.01)\n",
      "Results - RMSE: 0.02514595686846412, Precision: 1.0, Recall: 1.0, F1-score: 1.0\n",
      "\u001b[1m57/57\u001b[0m \u001b[32m━━━━━━━━━━━━━━━━━━━━\u001b[0m\u001b[37m\u001b[0m \u001b[1m0s\u001b[0m 281us/step\n",
      "Evaluated parameters: (50, 64, 0.5, 0.001, 0.05)\n",
      "Results - RMSE: 0.028177636078148622, Precision: 1.0, Recall: 1.0, F1-score: 1.0\n",
      "\u001b[1m57/57\u001b[0m \u001b[32m━━━━━━━━━━━━━━━━━━━━\u001b[0m\u001b[37m\u001b[0m \u001b[1m0s\u001b[0m 279us/step\n",
      "Evaluated parameters: (50, 64, 0.5, 0.01, 0.01)\n",
      "Results - RMSE: 1.0610396327016985e-07, Precision: 1.0, Recall: 1.0, F1-score: 1.0\n",
      "\u001b[1m57/57\u001b[0m \u001b[32m━━━━━━━━━━━━━━━━━━━━\u001b[0m\u001b[37m\u001b[0m \u001b[1m0s\u001b[0m 280us/step\n",
      "Evaluated parameters: (50, 64, 0.5, 0.01, 0.05)\n",
      "Results - RMSE: 2.3992170111240788e-05, Precision: 1.0, Recall: 1.0, F1-score: 1.0\n",
      "\u001b[1m57/57\u001b[0m \u001b[32m━━━━━━━━━━━━━━━━━━━━\u001b[0m\u001b[37m\u001b[0m \u001b[1m0s\u001b[0m 286us/step\n",
      "Evaluated parameters: (50, 128, 0.3, 0.001, 0.01)\n",
      "Results - RMSE: 0.004867000665630486, Precision: 1.0, Recall: 1.0, F1-score: 1.0\n",
      "\u001b[1m57/57\u001b[0m \u001b[32m━━━━━━━━━━━━━━━━━━━━\u001b[0m\u001b[37m\u001b[0m \u001b[1m0s\u001b[0m 296us/step\n",
      "Evaluated parameters: (50, 128, 0.3, 0.001, 0.05)\n",
      "Results - RMSE: 0.0033950365954058845, Precision: 1.0, Recall: 1.0, F1-score: 1.0\n",
      "\u001b[1m57/57\u001b[0m \u001b[32m━━━━━━━━━━━━━━━━━━━━\u001b[0m\u001b[37m\u001b[0m \u001b[1m0s\u001b[0m 292us/step\n",
      "Evaluated parameters: (50, 128, 0.3, 0.01, 0.01)\n",
      "Results - RMSE: 0.031001099364955678, Precision: 1.0, Recall: 1.0, F1-score: 1.0\n",
      "\u001b[1m57/57\u001b[0m \u001b[32m━━━━━━━━━━━━━━━━━━━━\u001b[0m\u001b[37m\u001b[0m \u001b[1m0s\u001b[0m 287us/step\n",
      "Evaluated parameters: (50, 128, 0.3, 0.01, 0.05)\n",
      "Results - RMSE: 0.028896669742753945, Precision: 1.0, Recall: 1.0, F1-score: 1.0\n",
      "\u001b[1m57/57\u001b[0m \u001b[32m━━━━━━━━━━━━━━━━━━━━\u001b[0m\u001b[37m\u001b[0m \u001b[1m0s\u001b[0m 291us/step\n",
      "Evaluated parameters: (50, 128, 0.5, 0.001, 0.01)\n",
      "Results - RMSE: 0.007283043643637679, Precision: 1.0, Recall: 1.0, F1-score: 1.0\n",
      "\u001b[1m57/57\u001b[0m \u001b[32m━━━━━━━━━━━━━━━━━━━━\u001b[0m\u001b[37m\u001b[0m \u001b[1m0s\u001b[0m 288us/step\n",
      "Evaluated parameters: (50, 128, 0.5, 0.001, 0.05)\n",
      "Results - RMSE: 0.01225321752753106, Precision: 1.0, Recall: 1.0, F1-score: 1.0\n",
      "\u001b[1m57/57\u001b[0m \u001b[32m━━━━━━━━━━━━━━━━━━━━\u001b[0m\u001b[37m\u001b[0m \u001b[1m0s\u001b[0m 298us/step\n",
      "Evaluated parameters: (50, 128, 0.5, 0.01, 0.01)\n",
      "Results - RMSE: 1.0132789611816406e-06, Precision: 1.0, Recall: 1.0, F1-score: 1.0\n",
      "\u001b[1m57/57\u001b[0m \u001b[32m━━━━━━━━━━━━━━━━━━━━\u001b[0m\u001b[37m\u001b[0m \u001b[1m0s\u001b[0m 280us/step\n",
      "Evaluated parameters: (50, 128, 0.5, 0.01, 0.05)\n",
      "Results - RMSE: 0.02984107635569406, Precision: 1.0, Recall: 1.0, F1-score: 1.0\n",
      "Best Hyperparameters:\n",
      "embedding_dim    5.000000e+01\n",
      "dense_units      6.400000e+01\n",
      "dropout_rate     5.000000e-01\n",
      "learning_rate    1.000000e-02\n",
      "l2_reg           1.000000e-02\n",
      "rmse             1.061040e-07\n",
      "precision        1.000000e+00\n",
      "recall           1.000000e+00\n",
      "f1_score         1.000000e+00\n",
      "Name: 22, dtype: float64\n"
     ]
    }
   ],
   "source": [
    "# Iterate through each combination of hyperparameters\n",
    "for params in all_params:\n",
    "    embedding_dim, dense_units, dropout_rate, learning_rate, l2_reg = params\n",
    "    \n",
    "    # Define the deep learning model\n",
    "    user_input = Input(shape=(1,))\n",
    "    item_input = Input(shape=(1,))\n",
    "\n",
    "    user_embedding = Embedding(num_users, embedding_dim)(user_input)\n",
    "    item_embedding = Embedding(num_items, embedding_dim)(item_input)\n",
    "\n",
    "    user_vector = Flatten()(user_embedding)\n",
    "    item_vector = Flatten()(item_embedding)\n",
    "\n",
    "    concat = Concatenate()([user_vector, item_vector])\n",
    "\n",
    "    dense = Dense(dense_units, activation='relu', kernel_regularizer=l2(l2_reg))(concat)\n",
    "    dropout = Dropout(dropout_rate)(dense)\n",
    "    output = Dense(1)(dropout)\n",
    "\n",
    "    model = Model(inputs=[user_input, item_input], outputs=output)\n",
    "    model.compile(optimizer=Adam(learning_rate), loss='mean_squared_error')\n",
    "\n",
    "    # Implement early stopping\n",
    "    early_stopping = tf.keras.callbacks.EarlyStopping(monitor='val_loss', patience=3)\n",
    "\n",
    "    # Train the model\n",
    "    history = model.fit([train_user, train_item], train_rating, epochs=50, batch_size=64, validation_split=0.1, callbacks=[early_stopping], verbose=0)\n",
    "\n",
    "    # Predict ratings for the test data\n",
    "    predicted_ratings = model.predict([test_user, test_item])\n",
    "\n",
    "    # Evaluate the model using RMSE\n",
    "    rmse = np.sqrt(mean_squared_error(test_rating, predicted_ratings))\n",
    "\n",
    "    # Compute precision, recall, and F1-score\n",
    "    predicted_ratings_rounded = np.round(predicted_ratings).astype(int)\n",
    "\n",
    "    precision_dl = precision_score(test_rating, predicted_ratings_rounded, zero_division=1)\n",
    "    recall_dl = recall_score(test_rating, predicted_ratings_rounded, zero_division=1)\n",
    "    f1_dl = f1_score(test_rating, predicted_ratings_rounded, zero_division=1)\n",
    "\n",
    "    # Store the results\n",
    "    results.append({\n",
    "        'embedding_dim': embedding_dim,\n",
    "        'dense_units': dense_units,\n",
    "        'dropout_rate': dropout_rate,\n",
    "        'learning_rate': learning_rate,\n",
    "        'l2_reg': l2_reg,\n",
    "        'rmse': rmse,\n",
    "        'precision': precision_dl,\n",
    "        'recall': recall_dl,\n",
    "        'f1_score': f1_dl\n",
    "    })\n",
    "\n",
    "    print(f\"Evaluated parameters: {params}\")\n",
    "    print(f\"Results - RMSE: {rmse}, Precision: {precision_dl}, Recall: {recall_dl}, F1-score: {f1_dl}\")\n",
    "\n",
    "# Save the results to a DataFrame\n",
    "results_df = pd.DataFrame(results)\n",
    "results_df.to_csv('grid_search_results.csv', index=False)\n",
    "\n",
    "# Print the best hyperparameters\n",
    "best_params = results_df.loc[results_df['rmse'].idxmin()]\n",
    "print(\"Best Hyperparameters:\")\n",
    "print(best_params)"
   ]
  },
  {
   "cell_type": "code",
   "execution_count": null,
   "id": "334a2db5",
   "metadata": {},
   "outputs": [],
   "source": []
  },
  {
   "cell_type": "code",
   "execution_count": null,
   "id": "aa34396f",
   "metadata": {},
   "outputs": [],
   "source": []
  },
  {
   "cell_type": "code",
   "execution_count": null,
   "id": "5467dcd9",
   "metadata": {},
   "outputs": [],
   "source": []
  },
  {
   "cell_type": "code",
   "execution_count": null,
   "id": "6dd45d27",
   "metadata": {},
   "outputs": [],
   "source": []
  },
  {
   "cell_type": "code",
   "execution_count": null,
   "id": "a9ff1a03",
   "metadata": {},
   "outputs": [],
   "source": []
  },
  {
   "cell_type": "code",
   "execution_count": null,
   "id": "704064a8",
   "metadata": {},
   "outputs": [],
   "source": []
  },
  {
   "cell_type": "markdown",
   "id": "2f740aa4",
   "metadata": {},
   "source": [
    "### Conclusion\n",
    "We summarize the performance of each model, highlight their strengths and weaknesses, and outline the next steps for improving our recommendation system."
   ]
  },
  {
   "cell_type": "markdown",
   "id": "6a25afd6",
   "metadata": {},
   "source": [
    "Summary of Model Evaluations\n",
    "\n",
    "In this project, we developed and evaluated four different models to predict user preferences for books, music, and movies. Each model’s performance was assessed using various metrics, and the results are summarized below.\n",
    "\n",
    "1. Singular Value Decomposition (SVD)\n",
    "\n",
    "\t•\tLength of Actual Ratings: 1824\n",
    "    \n",
    "\t•\tLength of Predicted Ratings: 1824\n",
    "    \n",
    "\t•\tRoot Mean Squared Error (RMSE): 0.9996\n",
    "    \n",
    "\t•\tPrecision: 0.0\n",
    "    \n",
    "\t•\tRecall: 0.0\n",
    "    \n",
    "\t•\tF1-Score: 0.0\n",
    "    \n",
    "\n",
    "Analysis:\n",
    "The SVD model achieved an RMSE of approximately 0.9996, indicating poor performance in predicting user ratings. The precision, recall, and F1-score were all 0.0, suggesting that the model failed to correctly identify relevant items. This poor performance could be due to the model’s assumption of linearity in latent factors, which may not hold true in our data.\n",
    "\n",
    "2. Truncated SVD\n",
    "\n",
    "\t•\tRoot Mean Squared Error (RMSE): 0.9996\n",
    "    \n",
    "\t•\tPrecision: 0.0\n",
    "    \n",
    "\t•\tRecall: 0.0\n",
    "    \n",
    "\t•\tF1-Score: 0.0\n",
    "    \n",
    "\n",
    "Analysis:\n",
    "The Truncated SVD model also resulted in an RMSE of approximately 0.9996, similar to the basic SVD model. The precision, recall, and F1-score were again all 0.0, indicating that this model did not perform well in our recommendation context. The linear assumption of latent factors likely affected its performance.\n",
    "\n",
    "3. Alternating Least Squares (ALS)\n",
    "\n",
    "\t•\tRoot Mean Squared Error (RMSE): 0.0199\n",
    "    \n",
    "\t•\tPrecision: 1.0\n",
    "    \n",
    "\t•\tRecall: 0.0\n",
    "    \n",
    "\t•\tF1-Score: 0.0\n",
    "    \n",
    "\n",
    "Analysis:\n",
    "The ALS model achieved a significantly lower RMSE of 0.0199, suggesting better predictive accuracy compared to the SVD models. However, the precision was 1.0 while the recall and F1-score were 0.0, indicating that the model identified very few items as relevant (leading to precision) but missed many actual relevant items (resulting in zero recall). This suggests potential underfitting, likely due to the high sparsity of the user-item matrix. Further hyperparameter tuning is needed to improve the model’s performance.\n",
    "\n",
    "4. Deep Learning Model\n",
    "\n",
    "\t•\tRoot Mean Squared Error (RMSE): 0.0183\n",
    "    \n",
    "\t•\tPrecision: 1.0\n",
    "    \n",
    "\t•\tRecall: 1.0\n",
    "    \n",
    "\t•\tF1-Score: 1.0\n",
    "    \n",
    "\n",
    "Analysis:\n",
    "The deep learning model achieved the lowest RMSE of 0.0183, indicating excellent predictive accuracy. However, the precision, recall, and F1-score were all 1.0, which is typically unrealistic and suggests that the model is overfitting to the training data. This overfitting means that the model may not generalize well to new, unseen data.\n",
    "\n",
    "Conclusion\n",
    "\n",
    "\n",
    "\t•\tSVD and Truncated SVD: Both SVD models failed to perform well due to their assumption of linear latent factors, resulting in high RMSE and zero precision, recall, and F1-score.\n",
    "    \n",
    "\t•\tALS: The ALS model showed promising RMSE results, but the issue of underfitting in the top-k recommendations highlights the need for further tuning and addressing the sparsity of the data.\n",
    "    \n",
    "\t•\tDeep Learning: The deep learning model achieved the best RMSE, but its perfect scores in precision, recall, and F1-score indicate severe overfitting, which limits its practicality.\n",
    "    \n",
    "\n",
    "Recommendations\n",
    "\n",
    "\n",
    "\t•\tHyperparameter Tuning: Further tuning of the ALS model is essential to improve its performance and mitigate the underfitting issue.\n",
    "    \n",
    "\t•\tOverfitting Mitigation: For the deep learning model, applying regularization techniques, dropout, and cross-validation will help reduce overfitting and improve generalization to new data.\n",
    "    \n",
    "\t•\tHybrid Approaches: Exploring hybrid recommendation systems that combine collaborative filtering with content-based methods can leverage additional user and item metadata, potentially improving overall recommendation quality.\n",
    "    \n",
    "\n",
    "By iterating on these models and incorporating the suggested improvements, we can develop a more accurate and reliable cross-platform recommendation system for books, music, and movies."
   ]
  },
  {
   "cell_type": "code",
   "execution_count": null,
   "id": "ce015eea",
   "metadata": {},
   "outputs": [],
   "source": []
  },
  {
   "cell_type": "code",
   "execution_count": null,
   "id": "4dae9c04",
   "metadata": {},
   "outputs": [],
   "source": []
  },
  {
   "cell_type": "code",
   "execution_count": null,
   "id": "c86d1e3d",
   "metadata": {},
   "outputs": [],
   "source": []
  },
  {
   "cell_type": "code",
   "execution_count": null,
   "id": "d3ab7f3e",
   "metadata": {},
   "outputs": [],
   "source": []
  },
  {
   "cell_type": "code",
   "execution_count": null,
   "id": "ca031c57",
   "metadata": {},
   "outputs": [],
   "source": []
  },
  {
   "cell_type": "code",
   "execution_count": null,
   "id": "b7d51f15",
   "metadata": {},
   "outputs": [],
   "source": []
  }
 ],
 "metadata": {
  "kernelspec": {
   "display_name": "Python 3 (ipykernel)",
   "language": "python",
   "name": "python3"
  },
  "language_info": {
   "codemirror_mode": {
    "name": "ipython",
    "version": 3
   },
   "file_extension": ".py",
   "mimetype": "text/x-python",
   "name": "python",
   "nbconvert_exporter": "python",
   "pygments_lexer": "ipython3",
   "version": "3.11.5"
  }
 },
 "nbformat": 4,
 "nbformat_minor": 5
}
